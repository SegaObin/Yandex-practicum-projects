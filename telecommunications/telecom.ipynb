{
 "cells": [
  {
   "cell_type": "markdown",
   "id": "da467314",
   "metadata": {},
   "source": [
    "# Проект: \"Модель предсказания оттока клиентов телекоммуникационной компании\""
   ]
  },
  {
   "cell_type": "markdown",
   "id": "228b6982-aad7-4fb7-89a8-8062dcbf820b",
   "metadata": {},
   "source": [
    "## Описание проекта\n",
    "   Оператор связи «ТелеДом» хочет бороться с оттоком клиентов. Для этого его сотрудники начнут предлагать промокоды и специальные условия всем, кто планирует отказаться от услуг связи. Чтобы заранее находить таких пользователей, «ТелеДому» нужна модель, которая будет предсказывать, разорвёт ли абонент договор. Команда оператор собрала персональные данные о некоторых клиентах, информацию об их тарифах и услугах. Задача — обучить на этих данных модель для прогноза оттока клиентов.\n",
    "## Техническое задание\n",
    "   1. **Загрузка и знакомство с данными**\n",
    "       - Загрузка данных try/except\n",
    "       - Объединение датасетов\n",
    "       - EDA (info, describe, визуализация распределений признаков)\n",
    "       - Выводы по знакомству с данными\n",
    "   2. **Предобработка данных**\n",
    "       - Изучение пропусков в данных\n",
    "       - Поиск аномали\n",
    "       - Генерация признаков ( целевой признак достать из `end_date`, создать признак длительности подписки в днях)\n",
    "   3. **Исследовательский анализ данных**\n",
    "       - Рассмотреть числовые признаки в разрезе целевого\n",
    "       - Рвссмотреть категориальные признаки в разрезе целевого\n",
    "       - Удалить признаки не несущие смысля для модели\n",
    "   4. **Подготовка к моделированию**\n",
    "       - Разделение на выборки\n",
    "       - Кодирование, масштабирование при необходимости\n",
    "       - Корреляционный анализ\n",
    "   5. **Обучение моделей** (минимум две)\n",
    "       - Подбор моделей\n",
    "       - Подбор гиперпараметров на кросс-валидации\n",
    "       - Проверка качества лучшей модели\n",
    "   6. **Исследование важности признаков лучшей моделе и их интерпритация**\n",
    "   7. **Вывод**"
   ]
  },
  {
   "cell_type": "markdown",
   "id": "1f485c23-772f-46eb-adae-ea8be084521e",
   "metadata": {},
   "source": [
    "# Все необходимые загрузки и импорты"
   ]
  },
  {
   "cell_type": "code",
   "execution_count": 1,
   "id": "3c0b329c-fa85-4576-b8e3-e4ac111b36ef",
   "metadata": {},
   "outputs": [
    {
     "name": "stderr",
     "output_type": "stream",
     "text": [
      "WARNING: Ignoring invalid distribution -illow (c:\\users\\сергей\\appdata\\local\\programs\\python\\python39\\lib\\site-packages)\n",
      "WARNING: Ignoring invalid distribution -illow (c:\\users\\сергей\\appdata\\local\\programs\\python\\python39\\lib\\site-packages)\n",
      "\n",
      "[notice] A new release of pip is available: 23.2.1 -> 24.1\n",
      "[notice] To update, run: python.exe -m pip install --upgrade pip\n"
     ]
    },
    {
     "name": "stdout",
     "output_type": "stream",
     "text": [
      "Requirement already satisfied: phik in c:\\users\\сергей\\appdata\\local\\programs\\python\\python39\\lib\\site-packages (0.12.3)\n",
      "Requirement already satisfied: numpy>=1.18.0 in c:\\users\\сергей\\appdata\\local\\programs\\python\\python39\\lib\\site-packages (from phik) (1.21.1)\n",
      "Requirement already satisfied: scipy>=1.5.2 in c:\\users\\сергей\\appdata\\local\\programs\\python\\python39\\lib\\site-packages (from phik) (1.9.1)\n",
      "Requirement already satisfied: pandas>=0.25.1 in c:\\users\\сергей\\appdata\\local\\programs\\python\\python39\\lib\\site-packages (from phik) (1.2.4)\n",
      "Requirement already satisfied: matplotlib>=2.2.3 in c:\\users\\сергей\\appdata\\local\\programs\\python\\python39\\lib\\site-packages (from phik) (3.3.4)\n",
      "Requirement already satisfied: joblib>=0.14.1 in c:\\users\\сергей\\appdata\\local\\programs\\python\\python39\\lib\\site-packages (from phik) (1.3.2)"
     ]
    },
    {
     "name": "stderr",
     "output_type": "stream",
     "text": [
      "WARNING: Ignoring invalid distribution -illow (c:\\users\\сергей\\appdata\\local\\programs\\python\\python39\\lib\\site-packages)\n",
      "WARNING: Ignoring invalid distribution -illow (c:\\users\\сергей\\appdata\\local\\programs\\python\\python39\\lib\\site-packages)\n",
      "\n",
      "[notice] A new release of pip is available: 23.2.1 -> 24.1\n",
      "[notice] To update, run: python.exe -m pip install --upgrade pip\n"
     ]
    },
    {
     "name": "stdout",
     "output_type": "stream",
     "text": [
      "\n",
      "Requirement already satisfied: cycler>=0.10 in c:\\users\\сергей\\appdata\\local\\programs\\python\\python39\\lib\\site-packages (from matplotlib>=2.2.3->phik) (0.11.0)\n",
      "Requirement already satisfied: kiwisolver>=1.0.1 in c:\\users\\сергей\\appdata\\local\\programs\\python\\python39\\lib\\site-packages (from matplotlib>=2.2.3->phik) (1.4.4)\n",
      "Requirement already satisfied: pillow>=6.2.0 in c:\\users\\сергей\\appdata\\local\\programs\\python\\python39\\lib\\site-packages (from matplotlib>=2.2.3->phik) (10.2.0)\n",
      "Requirement already satisfied: pyparsing!=2.0.4,!=2.1.2,!=2.1.6,>=2.0.3 in c:\\users\\сергей\\appdata\\local\\programs\\python\\python39\\lib\\site-packages (from matplotlib>=2.2.3->phik) (2.4.7)\n",
      "Requirement already satisfied: python-dateutil>=2.1 in c:\\users\\сергей\\appdata\\local\\programs\\python\\python39\\lib\\site-packages (from matplotlib>=2.2.3->phik) (2.8.2)\n",
      "Requirement already satisfied: pytz>=2017.3 in c:\\users\\сергей\\appdata\\local\\programs\\python\\python39\\lib\\site-packages (from pandas>=0.25.1->phik) (2021.1)\n",
      "Requirement already satisfied: six>=1.5 in c:\\users\\сергей\\appdata\\local\\programs\\python\\python39\\lib\\site-packages (from python-dateutil>=2.1->matplotlib>=2.2.3->phik) (1.16.0)\n"
     ]
    }
   ],
   "source": [
    "!pip install shap -q\n",
    "!pip install phik"
   ]
  },
  {
   "cell_type": "code",
   "execution_count": 2,
   "id": "b421e823-f234-45d6-8119-7144769ea572",
   "metadata": {},
   "outputs": [],
   "source": [
    "import pandas as pd\n",
    "import matplotlib.pyplot as plt\n",
    "import seaborn as sns\n",
    "import lightgbm as lgb\n",
    "import numpy as np\n",
    "import re\n",
    "import phik\n",
    "\n",
    "from phik.report import plot_correlation_matrix\n",
    "from sklearn.model_selection import train_test_split, RandomizedSearchCV, GridSearchCV\n",
    "from sklearn.pipeline import Pipeline\n",
    "from sklearn.compose import ColumnTransformer\n",
    "from sklearn.preprocessing import OrdinalEncoder\n",
    "from sklearn.tree import DecisionTreeClassifier\n",
    "from sklearn.ensemble import RandomForestClassifier\n",
    "from sklearn.metrics import roc_auc_score, roc_curve, accuracy_score, confusion_matrix\n",
    "from lightgbm import LGBMClassifier\n",
    "from time import time\n",
    "\n",
    "sns.set()\n",
    "RANDOM_STATE = 17062024\n",
    "TEST_SIZE = 0.25\n",
    "pd.set_option('display.max_colwidth', None)"
   ]
  },
  {
   "cell_type": "markdown",
   "id": "e774780a-9fd4-4f3a-957d-6a2a664b1429",
   "metadata": {},
   "source": [
    "# Все самописные функции"
   ]
  },
  {
   "cell_type": "code",
   "execution_count": 3,
   "id": "e3acef6b-a0d3-4532-b85e-179e53f0b20e",
   "metadata": {},
   "outputs": [],
   "source": [
    "def camel_to_snake(names: list) -> list:\n",
    "    '''\n",
    "    Переводит значения списка записанные в CamelCase в snake_case\n",
    "    '''\n",
    "    snake_names = []\n",
    "    for name in names:\n",
    "        snake_name = re.sub(r'(?<!^)(?=[A-Z](?<![A-Z]{2}))', '_', name).lower()  # преобразование в snake_case\n",
    "        snake_names.append(snake_name)\n",
    "    return snake_names"
   ]
  },
  {
   "cell_type": "code",
   "execution_count": 4,
   "id": "9b7a0c93-b661-45a4-af99-f012060cf66a",
   "metadata": {},
   "outputs": [],
   "source": [
    "def distributions_plot(df: pd.DataFrame,\n",
    "                       col: str,\n",
    "                       bins=30,\n",
    "                       xlim=None,\n",
    "                       ylim=None,\n",
    "                       figsize=(15, 10),\n",
    "                       title=None,\n",
    "                       xlabel=None,\n",
    "                       ylabel='Количество значений') -> None:\n",
    "   \n",
    "    '''\n",
    "    Функция быстро строит графики распределений числовых значений. Имеет гибкую настройку\n",
    "    отображения графиков.\n",
    "    ''' \n",
    "\n",
    "    fig, ax = plt.subplots(2, sharex=True, gridspec_kw={\"height_ratios\": (.20, .80)}, figsize=figsize)\n",
    "\n",
    "    if col in df.columns:\n",
    "        sns.boxplot(x=df[col], \n",
    "                    ax=ax[0],\n",
    "                    color='#8c8c8c')\n",
    "        sns.histplot(df[col], \n",
    "                     ax=ax[1],\n",
    "                     bins=bins,\n",
    "                     color='#4f4d49',\n",
    "                     edgecolor='black',\n",
    "                     kde=True)\n",
    "        if xlabel is None: \n",
    "            xlabel = col\n",
    "            ax[0].set(xlabel='')\n",
    "            ax[1].set(xlabel=xlabel, ylabel=ylabel, xlim=xlim, ylim=ylim)\n",
    "            ax[1].grid(visible=True)\n",
    "        \n",
    "        if title == None:\n",
    "            plt.suptitle(f'Распределение значений {col}', y=0.92, fontsize=14, fontweight='bold')\n",
    "        else:    \n",
    "            plt.suptitle(title, y=0.92, fontsize=14, fontweight='bold')\n",
    "    else:\n",
    "        print('Столбец', col, 'отсутсвует в датафрейме')"
   ]
  },
  {
   "cell_type": "code",
   "execution_count": 5,
   "id": "97c590a1-6103-4411-8901-9e31187ec6d7",
   "metadata": {},
   "outputs": [],
   "source": [
    "def boxplot_creator(df: pd.DataFrame,\n",
    "                    parametr_x: str,\n",
    "                    parametr_y: str,\n",
    "                    title = None,\n",
    "                    xlabel = None,\n",
    "                    ylabel = None   \n",
    "                   ) -> None:\n",
    "    \n",
    "    '''\n",
    "    Функция принимает в качестве параметров датафрейм, параметр (название столбца)\n",
    "    по которому будет строится ящик с усами, и строки с названием всего графика,\n",
    "    оси Ox.\n",
    "   \n",
    "    На выходе функция не возвращает ничего. Функция строит ящик с усами по заданному параметру.\n",
    "    '''\n",
    "    \n",
    "    sns.set()\n",
    "    plt.figure(figsize=(8, 8))\n",
    "    sns.boxplot(data=df,\n",
    "                x=parametr_x,\n",
    "                y=parametr_y,\n",
    "                width=0.8,\n",
    "    )\n",
    "    \n",
    "    if title != None:\n",
    "        plt.title(title, fontsize=20, fontweight='bold')\n",
    "    else:\n",
    "        plt.title(f'Распределение значений {parametr_y} в разрезе целевого признака', fontsize=20, fontweight='bold')\n",
    "    \n",
    "    if xlabel != None:\n",
    "        plt.xlabel(xlabel)\n",
    "    else:\n",
    "        plt.xlabel(parametr_x)\n",
    "        \n",
    "    if ylabel != None:\n",
    "        plt.ylabel(ylabel)\n",
    "    else:\n",
    "        plt.ylabel(parametr_y)\n",
    "    plt.show()"
   ]
  },
  {
   "cell_type": "markdown",
   "id": "b6d0ec37-d656-4538-8d3a-292e061f1fe7",
   "metadata": {},
   "source": [
    "# Загрузка и знакомство с данными"
   ]
  },
  {
   "cell_type": "code",
   "execution_count": 6,
   "id": "ff52bc2c-4d6e-41ce-a5a2-86506d3f9c61",
   "metadata": {},
   "outputs": [
    {
     "name": "stdout",
     "output_type": "stream",
     "text": [
      "DataFrame size:  7043\n"
     ]
    },
    {
     "data": {
      "text/html": [
       "<div>\n",
       "<style scoped>\n",
       "    .dataframe tbody tr th:only-of-type {\n",
       "        vertical-align: middle;\n",
       "    }\n",
       "\n",
       "    .dataframe tbody tr th {\n",
       "        vertical-align: top;\n",
       "    }\n",
       "\n",
       "    .dataframe thead th {\n",
       "        text-align: right;\n",
       "    }\n",
       "</style>\n",
       "<table border=\"1\" class=\"dataframe\">\n",
       "  <thead>\n",
       "    <tr style=\"text-align: right;\">\n",
       "      <th></th>\n",
       "      <th>customerID</th>\n",
       "      <th>BeginDate</th>\n",
       "      <th>EndDate</th>\n",
       "      <th>Type</th>\n",
       "      <th>PaperlessBilling</th>\n",
       "      <th>PaymentMethod</th>\n",
       "      <th>MonthlyCharges</th>\n",
       "      <th>TotalCharges</th>\n",
       "    </tr>\n",
       "  </thead>\n",
       "  <tbody>\n",
       "    <tr>\n",
       "      <th>0</th>\n",
       "      <td>7590-VHVEG</td>\n",
       "      <td>2020-01-01</td>\n",
       "      <td>No</td>\n",
       "      <td>Month-to-month</td>\n",
       "      <td>Yes</td>\n",
       "      <td>Electronic check</td>\n",
       "      <td>29.85</td>\n",
       "      <td>31.04</td>\n",
       "    </tr>\n",
       "    <tr>\n",
       "      <th>1</th>\n",
       "      <td>5575-GNVDE</td>\n",
       "      <td>2017-04-01</td>\n",
       "      <td>No</td>\n",
       "      <td>One year</td>\n",
       "      <td>No</td>\n",
       "      <td>Mailed check</td>\n",
       "      <td>56.95</td>\n",
       "      <td>2071.84</td>\n",
       "    </tr>\n",
       "    <tr>\n",
       "      <th>2</th>\n",
       "      <td>3668-QPYBK</td>\n",
       "      <td>2019-10-01</td>\n",
       "      <td>No</td>\n",
       "      <td>Month-to-month</td>\n",
       "      <td>Yes</td>\n",
       "      <td>Mailed check</td>\n",
       "      <td>53.85</td>\n",
       "      <td>226.17</td>\n",
       "    </tr>\n",
       "    <tr>\n",
       "      <th>3</th>\n",
       "      <td>7795-CFOCW</td>\n",
       "      <td>2016-05-01</td>\n",
       "      <td>No</td>\n",
       "      <td>One year</td>\n",
       "      <td>No</td>\n",
       "      <td>Bank transfer (automatic)</td>\n",
       "      <td>42.30</td>\n",
       "      <td>1960.6</td>\n",
       "    </tr>\n",
       "    <tr>\n",
       "      <th>4</th>\n",
       "      <td>9237-HQITU</td>\n",
       "      <td>2019-09-01</td>\n",
       "      <td>No</td>\n",
       "      <td>Month-to-month</td>\n",
       "      <td>Yes</td>\n",
       "      <td>Electronic check</td>\n",
       "      <td>70.70</td>\n",
       "      <td>353.5</td>\n",
       "    </tr>\n",
       "  </tbody>\n",
       "</table>\n",
       "</div>"
      ],
      "text/plain": [
       "   customerID   BeginDate EndDate            Type PaperlessBilling  \\\n",
       "0  7590-VHVEG  2020-01-01      No  Month-to-month              Yes   \n",
       "1  5575-GNVDE  2017-04-01      No        One year               No   \n",
       "2  3668-QPYBK  2019-10-01      No  Month-to-month              Yes   \n",
       "3  7795-CFOCW  2016-05-01      No        One year               No   \n",
       "4  9237-HQITU  2019-09-01      No  Month-to-month              Yes   \n",
       "\n",
       "               PaymentMethod  MonthlyCharges TotalCharges  \n",
       "0           Electronic check           29.85        31.04  \n",
       "1               Mailed check           56.95      2071.84  \n",
       "2               Mailed check           53.85       226.17  \n",
       "3  Bank transfer (automatic)           42.30       1960.6  \n",
       "4           Electronic check           70.70        353.5  "
      ]
     },
     "execution_count": 6,
     "metadata": {},
     "output_type": "execute_result"
    }
   ],
   "source": [
    "try:\n",
    "    contract_df = pd.read_csv('datasets/contract_new.csv')\n",
    "except:\n",
    "    contract_df = pd.read_csv('/datasets/contract_new.csv')\n",
    "    \n",
    "print(\"DataFrame size: \", contract_df.shape[0])   \n",
    "\n",
    "contract_df.head()"
   ]
  },
  {
   "cell_type": "code",
   "execution_count": 7,
   "id": "00d95c82-a7d9-44d3-a984-2e65c2fb563a",
   "metadata": {},
   "outputs": [
    {
     "name": "stdout",
     "output_type": "stream",
     "text": [
      "DataFrame size:  5517\n"
     ]
    },
    {
     "data": {
      "text/html": [
       "<div>\n",
       "<style scoped>\n",
       "    .dataframe tbody tr th:only-of-type {\n",
       "        vertical-align: middle;\n",
       "    }\n",
       "\n",
       "    .dataframe tbody tr th {\n",
       "        vertical-align: top;\n",
       "    }\n",
       "\n",
       "    .dataframe thead th {\n",
       "        text-align: right;\n",
       "    }\n",
       "</style>\n",
       "<table border=\"1\" class=\"dataframe\">\n",
       "  <thead>\n",
       "    <tr style=\"text-align: right;\">\n",
       "      <th></th>\n",
       "      <th>customerID</th>\n",
       "      <th>InternetService</th>\n",
       "      <th>OnlineSecurity</th>\n",
       "      <th>OnlineBackup</th>\n",
       "      <th>DeviceProtection</th>\n",
       "      <th>TechSupport</th>\n",
       "      <th>StreamingTV</th>\n",
       "      <th>StreamingMovies</th>\n",
       "    </tr>\n",
       "  </thead>\n",
       "  <tbody>\n",
       "    <tr>\n",
       "      <th>0</th>\n",
       "      <td>7590-VHVEG</td>\n",
       "      <td>DSL</td>\n",
       "      <td>No</td>\n",
       "      <td>Yes</td>\n",
       "      <td>No</td>\n",
       "      <td>No</td>\n",
       "      <td>No</td>\n",
       "      <td>No</td>\n",
       "    </tr>\n",
       "    <tr>\n",
       "      <th>1</th>\n",
       "      <td>5575-GNVDE</td>\n",
       "      <td>DSL</td>\n",
       "      <td>Yes</td>\n",
       "      <td>No</td>\n",
       "      <td>Yes</td>\n",
       "      <td>No</td>\n",
       "      <td>No</td>\n",
       "      <td>No</td>\n",
       "    </tr>\n",
       "    <tr>\n",
       "      <th>2</th>\n",
       "      <td>3668-QPYBK</td>\n",
       "      <td>DSL</td>\n",
       "      <td>Yes</td>\n",
       "      <td>Yes</td>\n",
       "      <td>No</td>\n",
       "      <td>No</td>\n",
       "      <td>No</td>\n",
       "      <td>No</td>\n",
       "    </tr>\n",
       "    <tr>\n",
       "      <th>3</th>\n",
       "      <td>7795-CFOCW</td>\n",
       "      <td>DSL</td>\n",
       "      <td>Yes</td>\n",
       "      <td>No</td>\n",
       "      <td>Yes</td>\n",
       "      <td>Yes</td>\n",
       "      <td>No</td>\n",
       "      <td>No</td>\n",
       "    </tr>\n",
       "    <tr>\n",
       "      <th>4</th>\n",
       "      <td>9237-HQITU</td>\n",
       "      <td>Fiber optic</td>\n",
       "      <td>No</td>\n",
       "      <td>No</td>\n",
       "      <td>No</td>\n",
       "      <td>No</td>\n",
       "      <td>No</td>\n",
       "      <td>No</td>\n",
       "    </tr>\n",
       "  </tbody>\n",
       "</table>\n",
       "</div>"
      ],
      "text/plain": [
       "   customerID InternetService OnlineSecurity OnlineBackup DeviceProtection  \\\n",
       "0  7590-VHVEG             DSL             No          Yes               No   \n",
       "1  5575-GNVDE             DSL            Yes           No              Yes   \n",
       "2  3668-QPYBK             DSL            Yes          Yes               No   \n",
       "3  7795-CFOCW             DSL            Yes           No              Yes   \n",
       "4  9237-HQITU     Fiber optic             No           No               No   \n",
       "\n",
       "  TechSupport StreamingTV StreamingMovies  \n",
       "0          No          No              No  \n",
       "1          No          No              No  \n",
       "2          No          No              No  \n",
       "3         Yes          No              No  \n",
       "4          No          No              No  "
      ]
     },
     "execution_count": 7,
     "metadata": {},
     "output_type": "execute_result"
    }
   ],
   "source": [
    "try:\n",
    "    internet_df = pd.read_csv('datasets/internet_new.csv')\n",
    "except:\n",
    "    internet_df = pd.read_csv('/datasets/internet_new.csv')\n",
    "    \n",
    "print(\"DataFrame size: \", internet_df.shape[0])  \n",
    "\n",
    "internet_df.head()"
   ]
  },
  {
   "cell_type": "code",
   "execution_count": 8,
   "id": "506cbf0e-8750-409d-97a1-3d0bdf70626e",
   "metadata": {},
   "outputs": [
    {
     "name": "stdout",
     "output_type": "stream",
     "text": [
      "DataFrame size:  7043\n"
     ]
    },
    {
     "data": {
      "text/html": [
       "<div>\n",
       "<style scoped>\n",
       "    .dataframe tbody tr th:only-of-type {\n",
       "        vertical-align: middle;\n",
       "    }\n",
       "\n",
       "    .dataframe tbody tr th {\n",
       "        vertical-align: top;\n",
       "    }\n",
       "\n",
       "    .dataframe thead th {\n",
       "        text-align: right;\n",
       "    }\n",
       "</style>\n",
       "<table border=\"1\" class=\"dataframe\">\n",
       "  <thead>\n",
       "    <tr style=\"text-align: right;\">\n",
       "      <th></th>\n",
       "      <th>customerID</th>\n",
       "      <th>gender</th>\n",
       "      <th>SeniorCitizen</th>\n",
       "      <th>Partner</th>\n",
       "      <th>Dependents</th>\n",
       "    </tr>\n",
       "  </thead>\n",
       "  <tbody>\n",
       "    <tr>\n",
       "      <th>0</th>\n",
       "      <td>7590-VHVEG</td>\n",
       "      <td>Female</td>\n",
       "      <td>0</td>\n",
       "      <td>Yes</td>\n",
       "      <td>No</td>\n",
       "    </tr>\n",
       "    <tr>\n",
       "      <th>1</th>\n",
       "      <td>5575-GNVDE</td>\n",
       "      <td>Male</td>\n",
       "      <td>0</td>\n",
       "      <td>No</td>\n",
       "      <td>No</td>\n",
       "    </tr>\n",
       "    <tr>\n",
       "      <th>2</th>\n",
       "      <td>3668-QPYBK</td>\n",
       "      <td>Male</td>\n",
       "      <td>0</td>\n",
       "      <td>No</td>\n",
       "      <td>No</td>\n",
       "    </tr>\n",
       "    <tr>\n",
       "      <th>3</th>\n",
       "      <td>7795-CFOCW</td>\n",
       "      <td>Male</td>\n",
       "      <td>0</td>\n",
       "      <td>No</td>\n",
       "      <td>No</td>\n",
       "    </tr>\n",
       "    <tr>\n",
       "      <th>4</th>\n",
       "      <td>9237-HQITU</td>\n",
       "      <td>Female</td>\n",
       "      <td>0</td>\n",
       "      <td>No</td>\n",
       "      <td>No</td>\n",
       "    </tr>\n",
       "  </tbody>\n",
       "</table>\n",
       "</div>"
      ],
      "text/plain": [
       "   customerID  gender  SeniorCitizen Partner Dependents\n",
       "0  7590-VHVEG  Female              0     Yes         No\n",
       "1  5575-GNVDE    Male              0      No         No\n",
       "2  3668-QPYBK    Male              0      No         No\n",
       "3  7795-CFOCW    Male              0      No         No\n",
       "4  9237-HQITU  Female              0      No         No"
      ]
     },
     "execution_count": 8,
     "metadata": {},
     "output_type": "execute_result"
    }
   ],
   "source": [
    "try:\n",
    "    personal_df = pd.read_csv('datasets/personal_new.csv')\n",
    "except:\n",
    "    personal_df = pd.read_csv('/datasets/personal_new.csv')\n",
    "    \n",
    "print(\"DataFrame size: \", personal_df.shape[0])    \n",
    "\n",
    "personal_df.head()"
   ]
  },
  {
   "cell_type": "code",
   "execution_count": 9,
   "id": "23d61585-8b9b-411f-850f-28bd7e87081f",
   "metadata": {},
   "outputs": [
    {
     "name": "stdout",
     "output_type": "stream",
     "text": [
      "DataFrame size:  6361\n"
     ]
    },
    {
     "data": {
      "text/html": [
       "<div>\n",
       "<style scoped>\n",
       "    .dataframe tbody tr th:only-of-type {\n",
       "        vertical-align: middle;\n",
       "    }\n",
       "\n",
       "    .dataframe tbody tr th {\n",
       "        vertical-align: top;\n",
       "    }\n",
       "\n",
       "    .dataframe thead th {\n",
       "        text-align: right;\n",
       "    }\n",
       "</style>\n",
       "<table border=\"1\" class=\"dataframe\">\n",
       "  <thead>\n",
       "    <tr style=\"text-align: right;\">\n",
       "      <th></th>\n",
       "      <th>customerID</th>\n",
       "      <th>MultipleLines</th>\n",
       "    </tr>\n",
       "  </thead>\n",
       "  <tbody>\n",
       "    <tr>\n",
       "      <th>0</th>\n",
       "      <td>5575-GNVDE</td>\n",
       "      <td>No</td>\n",
       "    </tr>\n",
       "    <tr>\n",
       "      <th>1</th>\n",
       "      <td>3668-QPYBK</td>\n",
       "      <td>No</td>\n",
       "    </tr>\n",
       "    <tr>\n",
       "      <th>2</th>\n",
       "      <td>9237-HQITU</td>\n",
       "      <td>No</td>\n",
       "    </tr>\n",
       "    <tr>\n",
       "      <th>3</th>\n",
       "      <td>9305-CDSKC</td>\n",
       "      <td>Yes</td>\n",
       "    </tr>\n",
       "    <tr>\n",
       "      <th>4</th>\n",
       "      <td>1452-KIOVK</td>\n",
       "      <td>Yes</td>\n",
       "    </tr>\n",
       "  </tbody>\n",
       "</table>\n",
       "</div>"
      ],
      "text/plain": [
       "   customerID MultipleLines\n",
       "0  5575-GNVDE            No\n",
       "1  3668-QPYBK            No\n",
       "2  9237-HQITU            No\n",
       "3  9305-CDSKC           Yes\n",
       "4  1452-KIOVK           Yes"
      ]
     },
     "execution_count": 9,
     "metadata": {},
     "output_type": "execute_result"
    }
   ],
   "source": [
    "try:\n",
    "    phone_df = pd.read_csv('datasets/phone_new.csv')\n",
    "except:\n",
    "    phone_df = pd.read_csv('/datasets/phone_new.csv')\n",
    "\n",
    "print(\"DataFrame size: \", phone_df.shape[0])    \n",
    "\n",
    "phone_df.head()"
   ]
  },
  {
   "cell_type": "markdown",
   "id": "bfcdd289-0f84-44f8-a68f-b75abc6a0cee",
   "metadata": {},
   "source": [
    "Так как все эти датафреймы это данные одной компании и в большом количестве случаев об одних и тех же ее клиентах, предлагаю объединить все датафреймы для дальнейшего удобства работы"
   ]
  },
  {
   "cell_type": "code",
   "execution_count": 10,
   "id": "84b5a560-bb25-4659-ad33-5a12af99413e",
   "metadata": {},
   "outputs": [
    {
     "name": "stdout",
     "output_type": "stream",
     "text": [
      "DataFrame size: 7043\n"
     ]
    },
    {
     "data": {
      "text/html": [
       "<div>\n",
       "<style scoped>\n",
       "    .dataframe tbody tr th:only-of-type {\n",
       "        vertical-align: middle;\n",
       "    }\n",
       "\n",
       "    .dataframe tbody tr th {\n",
       "        vertical-align: top;\n",
       "    }\n",
       "\n",
       "    .dataframe thead th {\n",
       "        text-align: right;\n",
       "    }\n",
       "</style>\n",
       "<table border=\"1\" class=\"dataframe\">\n",
       "  <thead>\n",
       "    <tr style=\"text-align: right;\">\n",
       "      <th></th>\n",
       "      <th>customerID</th>\n",
       "      <th>BeginDate</th>\n",
       "      <th>EndDate</th>\n",
       "      <th>Type</th>\n",
       "      <th>PaperlessBilling</th>\n",
       "      <th>PaymentMethod</th>\n",
       "      <th>MonthlyCharges</th>\n",
       "      <th>TotalCharges</th>\n",
       "      <th>gender</th>\n",
       "      <th>SeniorCitizen</th>\n",
       "      <th>Partner</th>\n",
       "      <th>Dependents</th>\n",
       "      <th>MultipleLines</th>\n",
       "      <th>InternetService</th>\n",
       "      <th>OnlineSecurity</th>\n",
       "      <th>OnlineBackup</th>\n",
       "      <th>DeviceProtection</th>\n",
       "      <th>TechSupport</th>\n",
       "      <th>StreamingTV</th>\n",
       "      <th>StreamingMovies</th>\n",
       "    </tr>\n",
       "  </thead>\n",
       "  <tbody>\n",
       "    <tr>\n",
       "      <th>0</th>\n",
       "      <td>7590-VHVEG</td>\n",
       "      <td>2020-01-01</td>\n",
       "      <td>No</td>\n",
       "      <td>Month-to-month</td>\n",
       "      <td>Yes</td>\n",
       "      <td>Electronic check</td>\n",
       "      <td>29.85</td>\n",
       "      <td>31.04</td>\n",
       "      <td>Female</td>\n",
       "      <td>0</td>\n",
       "      <td>Yes</td>\n",
       "      <td>No</td>\n",
       "      <td>NaN</td>\n",
       "      <td>DSL</td>\n",
       "      <td>No</td>\n",
       "      <td>Yes</td>\n",
       "      <td>No</td>\n",
       "      <td>No</td>\n",
       "      <td>No</td>\n",
       "      <td>No</td>\n",
       "    </tr>\n",
       "    <tr>\n",
       "      <th>1</th>\n",
       "      <td>5575-GNVDE</td>\n",
       "      <td>2017-04-01</td>\n",
       "      <td>No</td>\n",
       "      <td>One year</td>\n",
       "      <td>No</td>\n",
       "      <td>Mailed check</td>\n",
       "      <td>56.95</td>\n",
       "      <td>2071.84</td>\n",
       "      <td>Male</td>\n",
       "      <td>0</td>\n",
       "      <td>No</td>\n",
       "      <td>No</td>\n",
       "      <td>No</td>\n",
       "      <td>DSL</td>\n",
       "      <td>Yes</td>\n",
       "      <td>No</td>\n",
       "      <td>Yes</td>\n",
       "      <td>No</td>\n",
       "      <td>No</td>\n",
       "      <td>No</td>\n",
       "    </tr>\n",
       "    <tr>\n",
       "      <th>2</th>\n",
       "      <td>3668-QPYBK</td>\n",
       "      <td>2019-10-01</td>\n",
       "      <td>No</td>\n",
       "      <td>Month-to-month</td>\n",
       "      <td>Yes</td>\n",
       "      <td>Mailed check</td>\n",
       "      <td>53.85</td>\n",
       "      <td>226.17</td>\n",
       "      <td>Male</td>\n",
       "      <td>0</td>\n",
       "      <td>No</td>\n",
       "      <td>No</td>\n",
       "      <td>No</td>\n",
       "      <td>DSL</td>\n",
       "      <td>Yes</td>\n",
       "      <td>Yes</td>\n",
       "      <td>No</td>\n",
       "      <td>No</td>\n",
       "      <td>No</td>\n",
       "      <td>No</td>\n",
       "    </tr>\n",
       "    <tr>\n",
       "      <th>3</th>\n",
       "      <td>7795-CFOCW</td>\n",
       "      <td>2016-05-01</td>\n",
       "      <td>No</td>\n",
       "      <td>One year</td>\n",
       "      <td>No</td>\n",
       "      <td>Bank transfer (automatic)</td>\n",
       "      <td>42.30</td>\n",
       "      <td>1960.6</td>\n",
       "      <td>Male</td>\n",
       "      <td>0</td>\n",
       "      <td>No</td>\n",
       "      <td>No</td>\n",
       "      <td>NaN</td>\n",
       "      <td>DSL</td>\n",
       "      <td>Yes</td>\n",
       "      <td>No</td>\n",
       "      <td>Yes</td>\n",
       "      <td>Yes</td>\n",
       "      <td>No</td>\n",
       "      <td>No</td>\n",
       "    </tr>\n",
       "    <tr>\n",
       "      <th>4</th>\n",
       "      <td>9237-HQITU</td>\n",
       "      <td>2019-09-01</td>\n",
       "      <td>No</td>\n",
       "      <td>Month-to-month</td>\n",
       "      <td>Yes</td>\n",
       "      <td>Electronic check</td>\n",
       "      <td>70.70</td>\n",
       "      <td>353.5</td>\n",
       "      <td>Female</td>\n",
       "      <td>0</td>\n",
       "      <td>No</td>\n",
       "      <td>No</td>\n",
       "      <td>No</td>\n",
       "      <td>Fiber optic</td>\n",
       "      <td>No</td>\n",
       "      <td>No</td>\n",
       "      <td>No</td>\n",
       "      <td>No</td>\n",
       "      <td>No</td>\n",
       "      <td>No</td>\n",
       "    </tr>\n",
       "  </tbody>\n",
       "</table>\n",
       "</div>"
      ],
      "text/plain": [
       "   customerID   BeginDate EndDate            Type PaperlessBilling  \\\n",
       "0  7590-VHVEG  2020-01-01      No  Month-to-month              Yes   \n",
       "1  5575-GNVDE  2017-04-01      No        One year               No   \n",
       "2  3668-QPYBK  2019-10-01      No  Month-to-month              Yes   \n",
       "3  7795-CFOCW  2016-05-01      No        One year               No   \n",
       "4  9237-HQITU  2019-09-01      No  Month-to-month              Yes   \n",
       "\n",
       "               PaymentMethod  MonthlyCharges TotalCharges  gender  \\\n",
       "0           Electronic check           29.85        31.04  Female   \n",
       "1               Mailed check           56.95      2071.84    Male   \n",
       "2               Mailed check           53.85       226.17    Male   \n",
       "3  Bank transfer (automatic)           42.30       1960.6    Male   \n",
       "4           Electronic check           70.70        353.5  Female   \n",
       "\n",
       "   SeniorCitizen Partner Dependents MultipleLines InternetService  \\\n",
       "0              0     Yes         No           NaN             DSL   \n",
       "1              0      No         No            No             DSL   \n",
       "2              0      No         No            No             DSL   \n",
       "3              0      No         No           NaN             DSL   \n",
       "4              0      No         No            No     Fiber optic   \n",
       "\n",
       "  OnlineSecurity OnlineBackup DeviceProtection TechSupport StreamingTV  \\\n",
       "0             No          Yes               No          No          No   \n",
       "1            Yes           No              Yes          No          No   \n",
       "2            Yes          Yes               No          No          No   \n",
       "3            Yes           No              Yes         Yes          No   \n",
       "4             No           No               No          No          No   \n",
       "\n",
       "  StreamingMovies  \n",
       "0              No  \n",
       "1              No  \n",
       "2              No  \n",
       "3              No  \n",
       "4              No  "
      ]
     },
     "execution_count": 10,
     "metadata": {},
     "output_type": "execute_result"
    }
   ],
   "source": [
    "data = (contract_df\n",
    "        .merge(personal_df, on='customerID', how='left')\n",
    "        .merge(phone_df, on='customerID', how='left')\n",
    "        .merge(internet_df, on='customerID', how='left')   \n",
    "       )\n",
    "\n",
    "print(\"DataFrame size:\", data.shape[0])\n",
    "data.head()"
   ]
  },
  {
   "cell_type": "markdown",
   "id": "8c9b8fce-c615-46d6-9295-98da197c5284",
   "metadata": {},
   "source": [
    "Данные объеденены, теперь предлагаю записать все названия столбцов в snake_case (для удобства обращения к ним) и рассмотреть общую информацию о данных"
   ]
  },
  {
   "cell_type": "code",
   "execution_count": 11,
   "id": "375d1e79-9173-45c8-a93f-4efd598339c2",
   "metadata": {},
   "outputs": [],
   "source": [
    "data.columns = camel_to_snake(data.columns)"
   ]
  },
  {
   "cell_type": "code",
   "execution_count": 12,
   "id": "658ac2b3-3841-4e85-8faa-9168229dde49",
   "metadata": {},
   "outputs": [
    {
     "name": "stdout",
     "output_type": "stream",
     "text": [
      "<class 'pandas.core.frame.DataFrame'>\n",
      "Int64Index: 7043 entries, 0 to 7042\n",
      "Data columns (total 20 columns):\n",
      " #   Column             Non-Null Count  Dtype  \n",
      "---  ------             --------------  -----  \n",
      " 0   customer_id        7043 non-null   object \n",
      " 1   begin_date         7043 non-null   object \n",
      " 2   end_date           7043 non-null   object \n",
      " 3   type               7043 non-null   object \n",
      " 4   paperless_billing  7043 non-null   object \n",
      " 5   payment_method     7043 non-null   object \n",
      " 6   monthly_charges    7043 non-null   float64\n",
      " 7   total_charges      7043 non-null   object \n",
      " 8   gender             7043 non-null   object \n",
      " 9   senior_citizen     7043 non-null   int64  \n",
      " 10  partner            7043 non-null   object \n",
      " 11  dependents         7043 non-null   object \n",
      " 12  multiple_lines     6361 non-null   object \n",
      " 13  internet_service   5517 non-null   object \n",
      " 14  online_security    5517 non-null   object \n",
      " 15  online_backup      5517 non-null   object \n",
      " 16  device_protection  5517 non-null   object \n",
      " 17  tech_support       5517 non-null   object \n",
      " 18  streaming_tv       5517 non-null   object \n",
      " 19  streaming_movies   5517 non-null   object \n",
      "dtypes: float64(1), int64(1), object(18)\n",
      "memory usage: 1.1+ MB\n"
     ]
    }
   ],
   "source": [
    "contract_cols = camel_to_snake(contract_df.columns)\n",
    "internet_cols = camel_to_snake(internet_df.columns)\n",
    "personal_cols = camel_to_snake(personal_df.columns)\n",
    "phone_cols = camel_to_snake(phone_df.columns)\n",
    "\n",
    "data.info()"
   ]
  },
  {
   "cell_type": "markdown",
   "id": "6eb69152-b0fa-4200-9cd0-7b96735ea114",
   "metadata": {},
   "source": [
    "Сразу изменим неправильные типы данных:\n",
    "   - BeginDate переведем в datetime\n",
    "   - EndDate переведем в datetime\n",
    "   - TotalCharges переведем в float\n",
    "   - Поменяем типы данных категориальных столбцов на category ( на этапе предобработке, чтобы беспроблемно заполнить пропуски)"
   ]
  },
  {
   "cell_type": "code",
   "execution_count": 13,
   "id": "9a67a100-6932-4245-bb1b-ea9d194fa8a8",
   "metadata": {},
   "outputs": [],
   "source": [
    "data['begin_date'] = pd.to_datetime(data['begin_date'])\n",
    "data['end_date'] = pd.to_datetime(data['end_date'], errors='coerce')"
   ]
  },
  {
   "cell_type": "markdown",
   "id": "ecbe0ce0-3551-4c10-8f3e-607cf8e1aa0a",
   "metadata": {},
   "source": [
    "Столбец TotalCharges содержит посторонние значеня, которые мешают преобразованию типов, найдем их и подумаем, что можно с ними сделать."
   ]
  },
  {
   "cell_type": "code",
   "execution_count": 14,
   "id": "92ee925b-7520-4489-a93d-e6299de95658",
   "metadata": {},
   "outputs": [
    {
     "data": {
      "text/plain": [
       "[' ', '100.17', '100.19', '100.2', '100.24']"
      ]
     },
     "execution_count": 14,
     "metadata": {},
     "output_type": "execute_result"
    }
   ],
   "source": [
    "sorted(data['total_charges'].unique())[:5]"
   ]
  },
  {
   "cell_type": "code",
   "execution_count": 15,
   "id": "c8aa87ce-fad7-49b7-b408-d127aa66b35b",
   "metadata": {},
   "outputs": [
    {
     "data": {
      "text/html": [
       "<div>\n",
       "<style scoped>\n",
       "    .dataframe tbody tr th:only-of-type {\n",
       "        vertical-align: middle;\n",
       "    }\n",
       "\n",
       "    .dataframe tbody tr th {\n",
       "        vertical-align: top;\n",
       "    }\n",
       "\n",
       "    .dataframe thead th {\n",
       "        text-align: right;\n",
       "    }\n",
       "</style>\n",
       "<table border=\"1\" class=\"dataframe\">\n",
       "  <thead>\n",
       "    <tr style=\"text-align: right;\">\n",
       "      <th></th>\n",
       "      <th>customer_id</th>\n",
       "      <th>begin_date</th>\n",
       "      <th>end_date</th>\n",
       "      <th>type</th>\n",
       "      <th>paperless_billing</th>\n",
       "      <th>payment_method</th>\n",
       "      <th>monthly_charges</th>\n",
       "      <th>total_charges</th>\n",
       "      <th>gender</th>\n",
       "      <th>senior_citizen</th>\n",
       "      <th>partner</th>\n",
       "      <th>dependents</th>\n",
       "      <th>multiple_lines</th>\n",
       "      <th>internet_service</th>\n",
       "      <th>online_security</th>\n",
       "      <th>online_backup</th>\n",
       "      <th>device_protection</th>\n",
       "      <th>tech_support</th>\n",
       "      <th>streaming_tv</th>\n",
       "      <th>streaming_movies</th>\n",
       "    </tr>\n",
       "  </thead>\n",
       "  <tbody>\n",
       "    <tr>\n",
       "      <th>488</th>\n",
       "      <td>4472-LVYGI</td>\n",
       "      <td>2020-02-01</td>\n",
       "      <td>NaT</td>\n",
       "      <td>Two year</td>\n",
       "      <td>Yes</td>\n",
       "      <td>Bank transfer (automatic)</td>\n",
       "      <td>52.55</td>\n",
       "      <td></td>\n",
       "      <td>Female</td>\n",
       "      <td>0</td>\n",
       "      <td>Yes</td>\n",
       "      <td>Yes</td>\n",
       "      <td>NaN</td>\n",
       "      <td>DSL</td>\n",
       "      <td>Yes</td>\n",
       "      <td>No</td>\n",
       "      <td>Yes</td>\n",
       "      <td>Yes</td>\n",
       "      <td>Yes</td>\n",
       "      <td>No</td>\n",
       "    </tr>\n",
       "    <tr>\n",
       "      <th>753</th>\n",
       "      <td>3115-CZMZD</td>\n",
       "      <td>2020-02-01</td>\n",
       "      <td>NaT</td>\n",
       "      <td>Two year</td>\n",
       "      <td>No</td>\n",
       "      <td>Mailed check</td>\n",
       "      <td>20.25</td>\n",
       "      <td></td>\n",
       "      <td>Male</td>\n",
       "      <td>0</td>\n",
       "      <td>No</td>\n",
       "      <td>Yes</td>\n",
       "      <td>No</td>\n",
       "      <td>NaN</td>\n",
       "      <td>NaN</td>\n",
       "      <td>NaN</td>\n",
       "      <td>NaN</td>\n",
       "      <td>NaN</td>\n",
       "      <td>NaN</td>\n",
       "      <td>NaN</td>\n",
       "    </tr>\n",
       "    <tr>\n",
       "      <th>936</th>\n",
       "      <td>5709-LVOEQ</td>\n",
       "      <td>2020-02-01</td>\n",
       "      <td>NaT</td>\n",
       "      <td>Two year</td>\n",
       "      <td>No</td>\n",
       "      <td>Mailed check</td>\n",
       "      <td>80.85</td>\n",
       "      <td></td>\n",
       "      <td>Female</td>\n",
       "      <td>0</td>\n",
       "      <td>Yes</td>\n",
       "      <td>Yes</td>\n",
       "      <td>No</td>\n",
       "      <td>DSL</td>\n",
       "      <td>Yes</td>\n",
       "      <td>Yes</td>\n",
       "      <td>Yes</td>\n",
       "      <td>No</td>\n",
       "      <td>Yes</td>\n",
       "      <td>Yes</td>\n",
       "    </tr>\n",
       "    <tr>\n",
       "      <th>1082</th>\n",
       "      <td>4367-NUYAO</td>\n",
       "      <td>2020-02-01</td>\n",
       "      <td>NaT</td>\n",
       "      <td>Two year</td>\n",
       "      <td>No</td>\n",
       "      <td>Mailed check</td>\n",
       "      <td>25.75</td>\n",
       "      <td></td>\n",
       "      <td>Male</td>\n",
       "      <td>0</td>\n",
       "      <td>Yes</td>\n",
       "      <td>Yes</td>\n",
       "      <td>Yes</td>\n",
       "      <td>NaN</td>\n",
       "      <td>NaN</td>\n",
       "      <td>NaN</td>\n",
       "      <td>NaN</td>\n",
       "      <td>NaN</td>\n",
       "      <td>NaN</td>\n",
       "      <td>NaN</td>\n",
       "    </tr>\n",
       "    <tr>\n",
       "      <th>1340</th>\n",
       "      <td>1371-DWPAZ</td>\n",
       "      <td>2020-02-01</td>\n",
       "      <td>NaT</td>\n",
       "      <td>Two year</td>\n",
       "      <td>No</td>\n",
       "      <td>Credit card (automatic)</td>\n",
       "      <td>56.05</td>\n",
       "      <td></td>\n",
       "      <td>Female</td>\n",
       "      <td>0</td>\n",
       "      <td>Yes</td>\n",
       "      <td>Yes</td>\n",
       "      <td>NaN</td>\n",
       "      <td>DSL</td>\n",
       "      <td>Yes</td>\n",
       "      <td>Yes</td>\n",
       "      <td>Yes</td>\n",
       "      <td>Yes</td>\n",
       "      <td>Yes</td>\n",
       "      <td>No</td>\n",
       "    </tr>\n",
       "    <tr>\n",
       "      <th>3331</th>\n",
       "      <td>7644-OMVMY</td>\n",
       "      <td>2020-02-01</td>\n",
       "      <td>NaT</td>\n",
       "      <td>Two year</td>\n",
       "      <td>No</td>\n",
       "      <td>Mailed check</td>\n",
       "      <td>19.85</td>\n",
       "      <td></td>\n",
       "      <td>Male</td>\n",
       "      <td>0</td>\n",
       "      <td>Yes</td>\n",
       "      <td>Yes</td>\n",
       "      <td>No</td>\n",
       "      <td>NaN</td>\n",
       "      <td>NaN</td>\n",
       "      <td>NaN</td>\n",
       "      <td>NaN</td>\n",
       "      <td>NaN</td>\n",
       "      <td>NaN</td>\n",
       "      <td>NaN</td>\n",
       "    </tr>\n",
       "    <tr>\n",
       "      <th>3826</th>\n",
       "      <td>3213-VVOLG</td>\n",
       "      <td>2020-02-01</td>\n",
       "      <td>NaT</td>\n",
       "      <td>Two year</td>\n",
       "      <td>No</td>\n",
       "      <td>Mailed check</td>\n",
       "      <td>25.35</td>\n",
       "      <td></td>\n",
       "      <td>Male</td>\n",
       "      <td>0</td>\n",
       "      <td>Yes</td>\n",
       "      <td>Yes</td>\n",
       "      <td>Yes</td>\n",
       "      <td>NaN</td>\n",
       "      <td>NaN</td>\n",
       "      <td>NaN</td>\n",
       "      <td>NaN</td>\n",
       "      <td>NaN</td>\n",
       "      <td>NaN</td>\n",
       "      <td>NaN</td>\n",
       "    </tr>\n",
       "    <tr>\n",
       "      <th>4380</th>\n",
       "      <td>2520-SGTTA</td>\n",
       "      <td>2020-02-01</td>\n",
       "      <td>NaT</td>\n",
       "      <td>Two year</td>\n",
       "      <td>No</td>\n",
       "      <td>Mailed check</td>\n",
       "      <td>20.00</td>\n",
       "      <td></td>\n",
       "      <td>Female</td>\n",
       "      <td>0</td>\n",
       "      <td>Yes</td>\n",
       "      <td>Yes</td>\n",
       "      <td>No</td>\n",
       "      <td>NaN</td>\n",
       "      <td>NaN</td>\n",
       "      <td>NaN</td>\n",
       "      <td>NaN</td>\n",
       "      <td>NaN</td>\n",
       "      <td>NaN</td>\n",
       "      <td>NaN</td>\n",
       "    </tr>\n",
       "    <tr>\n",
       "      <th>5218</th>\n",
       "      <td>2923-ARZLG</td>\n",
       "      <td>2020-02-01</td>\n",
       "      <td>NaT</td>\n",
       "      <td>One year</td>\n",
       "      <td>Yes</td>\n",
       "      <td>Mailed check</td>\n",
       "      <td>19.70</td>\n",
       "      <td></td>\n",
       "      <td>Male</td>\n",
       "      <td>0</td>\n",
       "      <td>Yes</td>\n",
       "      <td>Yes</td>\n",
       "      <td>No</td>\n",
       "      <td>NaN</td>\n",
       "      <td>NaN</td>\n",
       "      <td>NaN</td>\n",
       "      <td>NaN</td>\n",
       "      <td>NaN</td>\n",
       "      <td>NaN</td>\n",
       "      <td>NaN</td>\n",
       "    </tr>\n",
       "    <tr>\n",
       "      <th>6670</th>\n",
       "      <td>4075-WKNIU</td>\n",
       "      <td>2020-02-01</td>\n",
       "      <td>NaT</td>\n",
       "      <td>Two year</td>\n",
       "      <td>No</td>\n",
       "      <td>Mailed check</td>\n",
       "      <td>73.35</td>\n",
       "      <td></td>\n",
       "      <td>Female</td>\n",
       "      <td>0</td>\n",
       "      <td>Yes</td>\n",
       "      <td>Yes</td>\n",
       "      <td>Yes</td>\n",
       "      <td>DSL</td>\n",
       "      <td>No</td>\n",
       "      <td>Yes</td>\n",
       "      <td>Yes</td>\n",
       "      <td>Yes</td>\n",
       "      <td>Yes</td>\n",
       "      <td>No</td>\n",
       "    </tr>\n",
       "    <tr>\n",
       "      <th>6754</th>\n",
       "      <td>2775-SEFEE</td>\n",
       "      <td>2020-02-01</td>\n",
       "      <td>NaT</td>\n",
       "      <td>Two year</td>\n",
       "      <td>Yes</td>\n",
       "      <td>Bank transfer (automatic)</td>\n",
       "      <td>61.90</td>\n",
       "      <td></td>\n",
       "      <td>Male</td>\n",
       "      <td>0</td>\n",
       "      <td>No</td>\n",
       "      <td>Yes</td>\n",
       "      <td>Yes</td>\n",
       "      <td>DSL</td>\n",
       "      <td>Yes</td>\n",
       "      <td>Yes</td>\n",
       "      <td>No</td>\n",
       "      <td>Yes</td>\n",
       "      <td>No</td>\n",
       "      <td>No</td>\n",
       "    </tr>\n",
       "  </tbody>\n",
       "</table>\n",
       "</div>"
      ],
      "text/plain": [
       "     customer_id begin_date end_date      type paperless_billing  \\\n",
       "488   4472-LVYGI 2020-02-01      NaT  Two year               Yes   \n",
       "753   3115-CZMZD 2020-02-01      NaT  Two year                No   \n",
       "936   5709-LVOEQ 2020-02-01      NaT  Two year                No   \n",
       "1082  4367-NUYAO 2020-02-01      NaT  Two year                No   \n",
       "1340  1371-DWPAZ 2020-02-01      NaT  Two year                No   \n",
       "3331  7644-OMVMY 2020-02-01      NaT  Two year                No   \n",
       "3826  3213-VVOLG 2020-02-01      NaT  Two year                No   \n",
       "4380  2520-SGTTA 2020-02-01      NaT  Two year                No   \n",
       "5218  2923-ARZLG 2020-02-01      NaT  One year               Yes   \n",
       "6670  4075-WKNIU 2020-02-01      NaT  Two year                No   \n",
       "6754  2775-SEFEE 2020-02-01      NaT  Two year               Yes   \n",
       "\n",
       "                 payment_method  monthly_charges total_charges  gender  \\\n",
       "488   Bank transfer (automatic)            52.55                Female   \n",
       "753                Mailed check            20.25                  Male   \n",
       "936                Mailed check            80.85                Female   \n",
       "1082               Mailed check            25.75                  Male   \n",
       "1340    Credit card (automatic)            56.05                Female   \n",
       "3331               Mailed check            19.85                  Male   \n",
       "3826               Mailed check            25.35                  Male   \n",
       "4380               Mailed check            20.00                Female   \n",
       "5218               Mailed check            19.70                  Male   \n",
       "6670               Mailed check            73.35                Female   \n",
       "6754  Bank transfer (automatic)            61.90                  Male   \n",
       "\n",
       "      senior_citizen partner dependents multiple_lines internet_service  \\\n",
       "488                0     Yes        Yes            NaN              DSL   \n",
       "753                0      No        Yes             No              NaN   \n",
       "936                0     Yes        Yes             No              DSL   \n",
       "1082               0     Yes        Yes            Yes              NaN   \n",
       "1340               0     Yes        Yes            NaN              DSL   \n",
       "3331               0     Yes        Yes             No              NaN   \n",
       "3826               0     Yes        Yes            Yes              NaN   \n",
       "4380               0     Yes        Yes             No              NaN   \n",
       "5218               0     Yes        Yes             No              NaN   \n",
       "6670               0     Yes        Yes            Yes              DSL   \n",
       "6754               0      No        Yes            Yes              DSL   \n",
       "\n",
       "     online_security online_backup device_protection tech_support  \\\n",
       "488              Yes            No               Yes          Yes   \n",
       "753              NaN           NaN               NaN          NaN   \n",
       "936              Yes           Yes               Yes           No   \n",
       "1082             NaN           NaN               NaN          NaN   \n",
       "1340             Yes           Yes               Yes          Yes   \n",
       "3331             NaN           NaN               NaN          NaN   \n",
       "3826             NaN           NaN               NaN          NaN   \n",
       "4380             NaN           NaN               NaN          NaN   \n",
       "5218             NaN           NaN               NaN          NaN   \n",
       "6670              No           Yes               Yes          Yes   \n",
       "6754             Yes           Yes                No          Yes   \n",
       "\n",
       "     streaming_tv streaming_movies  \n",
       "488           Yes               No  \n",
       "753           NaN              NaN  \n",
       "936           Yes              Yes  \n",
       "1082          NaN              NaN  \n",
       "1340          Yes               No  \n",
       "3331          NaN              NaN  \n",
       "3826          NaN              NaN  \n",
       "4380          NaN              NaN  \n",
       "5218          NaN              NaN  \n",
       "6670          Yes               No  \n",
       "6754           No               No  "
      ]
     },
     "execution_count": 15,
     "metadata": {},
     "output_type": "execute_result"
    }
   ],
   "source": [
    "data[data['total_charges'] == ' ']"
   ]
  },
  {
   "cell_type": "markdown",
   "id": "44169390-c5ab-4194-8d10-6b0e57d49e26",
   "metadata": {},
   "source": [
    "У всех клиентов с пропусками в столбце total_charges видна важная зависимость - это новые клиенты. Так как данные актуальны на 1 февраля 2020 года. Значит из общее число денег пренесенных компании равно их месячной плате. Так и заполним."
   ]
  },
  {
   "cell_type": "code",
   "execution_count": 16,
   "id": "26ab668e-70bb-4e00-8a94-1e75e107cc7e",
   "metadata": {},
   "outputs": [
    {
     "data": {
      "text/plain": [
       "0"
      ]
     },
     "execution_count": 16,
     "metadata": {},
     "output_type": "execute_result"
    }
   ],
   "source": [
    "data['total_charges'].replace(' ', pd.NA, inplace=True)\n",
    "data['total_charges'].fillna(data['monthly_charges'], inplace=True)\n",
    "data['total_charges'].isna().sum()"
   ]
  },
  {
   "cell_type": "markdown",
   "id": "cc549ea3-8b81-498c-bc96-6667ccfdae7f",
   "metadata": {},
   "source": [
    "Отлично, в этом столбце мы избавились от пропусков. Приведем total_charges к числовому виду."
   ]
  },
  {
   "cell_type": "code",
   "execution_count": 17,
   "id": "0771e4cc-6fea-4818-8b76-038124da9ae5",
   "metadata": {},
   "outputs": [],
   "source": [
    "data['total_charges'] = pd.to_numeric(data['total_charges'])"
   ]
  },
  {
   "cell_type": "markdown",
   "id": "0d68af27-6e42-4fc8-be81-5e47bdc3f28d",
   "metadata": {},
   "source": [
    "Сохраним названия категориальных столбцов"
   ]
  },
  {
   "cell_type": "code",
   "execution_count": 18,
   "id": "c86c604e-85d0-4418-aadb-53fe75173191",
   "metadata": {},
   "outputs": [
    {
     "name": "stdout",
     "output_type": "stream",
     "text": [
      "['type', 'paperless_billing', 'payment_method', 'gender', 'senior_citizen', 'partner', 'dependents', 'multiple_lines', 'internet_service', 'online_security', 'online_backup', 'device_protection', 'tech_support', 'streaming_tv', 'streaming_movies']\n"
     ]
    }
   ],
   "source": [
    "data['senior_citizen'] = data['senior_citizen'].apply(lambda x: 'Yes' if x == 1 else 'No')\n",
    "cat_cols = list(data.select_dtypes('object').columns)\n",
    "cat_cols.remove('customer_id')\n",
    "print(cat_cols)"
   ]
  },
  {
   "cell_type": "code",
   "execution_count": 19,
   "id": "594fb3cc-4a80-4004-aa8a-3d137c05a13b",
   "metadata": {},
   "outputs": [
    {
     "data": {
      "text/plain": [
       "customer_id                  object\n",
       "begin_date           datetime64[ns]\n",
       "end_date             datetime64[ns]\n",
       "type                         object\n",
       "paperless_billing            object\n",
       "payment_method               object\n",
       "monthly_charges             float64\n",
       "total_charges               float64\n",
       "gender                       object\n",
       "senior_citizen               object\n",
       "partner                      object\n",
       "dependents                   object\n",
       "multiple_lines               object\n",
       "internet_service             object\n",
       "online_security              object\n",
       "online_backup                object\n",
       "device_protection            object\n",
       "tech_support                 object\n",
       "streaming_tv                 object\n",
       "streaming_movies             object\n",
       "dtype: object"
      ]
     },
     "execution_count": 19,
     "metadata": {},
     "output_type": "execute_result"
    }
   ],
   "source": [
    "data.dtypes"
   ]
  },
  {
   "cell_type": "markdown",
   "id": "3d89c6bb-0a64-4980-a36a-8a58bb2669fd",
   "metadata": {},
   "source": [
    "Все типы данных приведены к нужным, теперь необходимо рассмотреть распределение признаков. Начнем с числовых признаков."
   ]
  },
  {
   "cell_type": "code",
   "execution_count": 20,
   "id": "6fd6f602-265d-4aa0-83d0-82dd1cc03917",
   "metadata": {
    "tags": []
   },
   "outputs": [
    {
     "data": {
      "image/png": "[encoded data removed]",
      "text/plain": [
       "<Figure size 1080x720 with 2 Axes>"
      ]
     },
     "metadata": {},
     "output_type": "display_data"
    }
   ],
   "source": [
    "distributions_plot(data, 'monthly_charges')"
   ]
  },
  {
   "cell_type": "markdown",
   "id": "05ae9315-8d20-4814-93e5-25f329627ee2",
   "metadata": {},
   "source": [
    "Выбросов в этих значениях нет, но распределены они не нормально. Больше всего значений находится в райней 20-ти долларов, это легко объяснить тем, что большинству пользователей не нужны дорогостоющие услуги от провайдера, так что с этим столбцом никаких проблем нет."
   ]
  },
  {
   "cell_type": "code",
   "execution_count": 21,
   "id": "6c72f279-2094-4444-a5a2-fdfba3bbfdb6",
   "metadata": {},
   "outputs": [
    {
     "data": {
      "image/png": "[encoded data removed]",
      "text/plain": [
       "<Figure size 1080x720 with 2 Axes>"
      ]
     },
     "metadata": {},
     "output_type": "display_data"
    }
   ],
   "source": [
    "distributions_plot(data, 'total_charges')"
   ]
  },
  {
   "cell_type": "markdown",
   "id": "cf844363",
   "metadata": {},
   "source": [
    "Судя по ящику с усами данный признак обладает большим количеством выбросов, на гистограмме распределения так же виден длинный хвост из больших значений, но так как из много мы не можем их удалить по двум причинам: 1) эти значения помогут понять, как часто уходят клиенты, которые потратили много денег за время работы с данным оператором 2) данных у нас и так немного и нужно пытаться максимально сократить количество удалений"
   ]
  },
  {
   "cell_type": "markdown",
   "id": "742fe20f-4e13-446c-bd33-299ea7d914e6",
   "metadata": {},
   "source": [
    "Рассмотрим распределение категориальных признаков"
   ]
  },
  {
   "cell_type": "code",
   "execution_count": 22,
   "id": "9bd50b04-952f-4170-afc4-faf5921913d2",
   "metadata": {},
   "outputs": [
    {
     "name": "stdout",
     "output_type": "stream",
     "text": [
      "Распределение значений в столбце type:\n"
     ]
    },
    {
     "data": {
      "text/plain": [
       "Month-to-month    3875\n",
       "Two year          1695\n",
       "One year          1473\n",
       "Name: type, dtype: int64"
      ]
     },
     "metadata": {},
     "output_type": "display_data"
    },
    {
     "name": "stdout",
     "output_type": "stream",
     "text": [
      "\n",
      " ================================\n",
      "Распределение значений в столбце paperless_billing:\n"
     ]
    },
    {
     "data": {
      "text/plain": [
       "Yes    4171\n",
       "No     2872\n",
       "Name: paperless_billing, dtype: int64"
      ]
     },
     "metadata": {},
     "output_type": "display_data"
    },
    {
     "name": "stdout",
     "output_type": "stream",
     "text": [
      "\n",
      " ================================\n",
      "Распределение значений в столбце payment_method:\n"
     ]
    },
    {
     "data": {
      "text/plain": [
       "Electronic check             2365\n",
       "Mailed check                 1612\n",
       "Bank transfer (automatic)    1544\n",
       "Credit card (automatic)      1522\n",
       "Name: payment_method, dtype: int64"
      ]
     },
     "metadata": {},
     "output_type": "display_data"
    },
    {
     "name": "stdout",
     "output_type": "stream",
     "text": [
      "\n",
      " ================================\n",
      "Распределение значений в столбце gender:\n"
     ]
    },
    {
     "data": {
      "text/plain": [
       "Male      3555\n",
       "Female    3488\n",
       "Name: gender, dtype: int64"
      ]
     },
     "metadata": {},
     "output_type": "display_data"
    },
    {
     "name": "stdout",
     "output_type": "stream",
     "text": [
      "\n",
      " ================================\n",
      "Распределение значений в столбце senior_citizen:\n"
     ]
    },
    {
     "data": {
      "text/plain": [
       "No     5901\n",
       "Yes    1142\n",
       "Name: senior_citizen, dtype: int64"
      ]
     },
     "metadata": {},
     "output_type": "display_data"
    },
    {
     "name": "stdout",
     "output_type": "stream",
     "text": [
      "\n",
      " ================================\n",
      "Распределение значений в столбце partner:\n"
     ]
    },
    {
     "data": {
      "text/plain": [
       "No     3641\n",
       "Yes    3402\n",
       "Name: partner, dtype: int64"
      ]
     },
     "metadata": {},
     "output_type": "display_data"
    },
    {
     "name": "stdout",
     "output_type": "stream",
     "text": [
      "\n",
      " ================================\n",
      "Распределение значений в столбце dependents:\n"
     ]
    },
    {
     "data": {
      "text/plain": [
       "No     4933\n",
       "Yes    2110\n",
       "Name: dependents, dtype: int64"
      ]
     },
     "metadata": {},
     "output_type": "display_data"
    },
    {
     "name": "stdout",
     "output_type": "stream",
     "text": [
      "\n",
      " ================================\n",
      "Распределение значений в столбце multiple_lines:\n"
     ]
    },
    {
     "data": {
      "text/plain": [
       "No     3390\n",
       "Yes    2971\n",
       "Name: multiple_lines, dtype: int64"
      ]
     },
     "metadata": {},
     "output_type": "display_data"
    },
    {
     "name": "stdout",
     "output_type": "stream",
     "text": [
      "\n",
      " ================================\n",
      "Распределение значений в столбце internet_service:\n"
     ]
    },
    {
     "data": {
      "text/plain": [
       "Fiber optic    3096\n",
       "DSL            2421\n",
       "Name: internet_service, dtype: int64"
      ]
     },
     "metadata": {},
     "output_type": "display_data"
    },
    {
     "name": "stdout",
     "output_type": "stream",
     "text": [
      "\n",
      " ================================\n",
      "Распределение значений в столбце online_security:\n"
     ]
    },
    {
     "data": {
      "text/plain": [
       "No     3498\n",
       "Yes    2019\n",
       "Name: online_security, dtype: int64"
      ]
     },
     "metadata": {},
     "output_type": "display_data"
    },
    {
     "name": "stdout",
     "output_type": "stream",
     "text": [
      "\n",
      " ================================\n",
      "Распределение значений в столбце online_backup:\n"
     ]
    },
    {
     "data": {
      "text/plain": [
       "No     3088\n",
       "Yes    2429\n",
       "Name: online_backup, dtype: int64"
      ]
     },
     "metadata": {},
     "output_type": "display_data"
    },
    {
     "name": "stdout",
     "output_type": "stream",
     "text": [
      "\n",
      " ================================\n",
      "Распределение значений в столбце device_protection:\n"
     ]
    },
    {
     "data": {
      "text/plain": [
       "No     3095\n",
       "Yes    2422\n",
       "Name: device_protection, dtype: int64"
      ]
     },
     "metadata": {},
     "output_type": "display_data"
    },
    {
     "name": "stdout",
     "output_type": "stream",
     "text": [
      "\n",
      " ================================\n",
      "Распределение значений в столбце tech_support:\n"
     ]
    },
    {
     "data": {
      "text/plain": [
       "No     3473\n",
       "Yes    2044\n",
       "Name: tech_support, dtype: int64"
      ]
     },
     "metadata": {},
     "output_type": "display_data"
    },
    {
     "name": "stdout",
     "output_type": "stream",
     "text": [
      "\n",
      " ================================\n",
      "Распределение значений в столбце streaming_tv:\n"
     ]
    },
    {
     "data": {
      "text/plain": [
       "No     2810\n",
       "Yes    2707\n",
       "Name: streaming_tv, dtype: int64"
      ]
     },
     "metadata": {},
     "output_type": "display_data"
    },
    {
     "name": "stdout",
     "output_type": "stream",
     "text": [
      "\n",
      " ================================\n",
      "Распределение значений в столбце streaming_movies:\n"
     ]
    },
    {
     "data": {
      "text/plain": [
       "No     2785\n",
       "Yes    2732\n",
       "Name: streaming_movies, dtype: int64"
      ]
     },
     "metadata": {},
     "output_type": "display_data"
    },
    {
     "name": "stdout",
     "output_type": "stream",
     "text": [
      "\n",
      " ================================\n"
     ]
    }
   ],
   "source": [
    "for col in cat_cols:\n",
    "    print(f'Распределение значений в столбце {col}:')\n",
    "    display(data[col].value_counts())\n",
    "    print('\\n ================================')"
   ]
  },
  {
   "cell_type": "markdown",
   "id": "7a4a277a-5e23-4b50-9591-05838db2b43e",
   "metadata": {},
   "source": [
    "\n",
    "\n",
    "Краткий обзор распределений в столбцах:\n",
    "   - Самым популярным типом оплаты является месячный платеж, ежегодный платеж наименее популяерен\n",
    "   - Большинство пользователей требуют электронный расчетный лист\n",
    "   - Наиболее поплуярной формой оплаты является электронный чек, наименее популярны автоплатежи\n",
    "   - По гендерной принадлежности пользователи распределены почти одинаково\n",
    "   - Пользователей находящихся в браке примерно столько же сколько и одиноких\n",
    "   - У большинства пользователей нет детей\n",
    "   - У большинства пользователей телефон подключен к одной линии\n",
    "   - У большинства пользователей интернет подключен при помощи оптоволокна\n",
    "   - У большинства пользователей отключина блокировка опасных сайтов\n",
    "   - У большинства пользователей отключено облачное хранилище файлов для резервного копирования данных\n",
    "   - У большинства пользователей отключен антивирус\n",
    "   - Для большинства пользователей нет выделенной линии технической поддержки\n",
    "   - Количество пользователей с подключенным стримминговым телевидинием почти равно количеству пользователей с отключенным стримминговым ТВ\n",
    "   - Аналогичная ситуация с каталогом фильмов\n",
    "   - Большинство пользователей не являются пенсионерами\n",
    "   \n",
    "Важно уточнить, что общее количество значений зависит от размера изначального датасета, забегая вперед можно сказать, что пропуски в данных скорее всего обусловлены тем, что датасеты распределены по услугам интернет и телефония, поэтому у какие-то пользователи могут использовать только телефонию, а какие-то только интернет от данного провайдера."
   ]
  },
  {
   "cell_type": "markdown",
   "id": "33d6403f-bb24-4580-a666-2d7305da891c",
   "metadata": {},
   "source": [
    "## Вывод по первичному анализу данных\n",
    "   - На этапе первичного анализа все исходные датафреймы были объеденены в один\n",
    "   - Были откорректированы типы значений (даты, вещественные числа, категории). На этом этапе обаружилось 11 значений с пустой строкой в столпце total_charges, которые были вызваны появлением новых пользователей. Эти значения были заменены на их месячную плату, так как на данный момент она является для них полной.\n",
    "   - Были изучены их распределения всех признаков, выбросов выявлено небыло"
   ]
  },
  {
   "cell_type": "markdown",
   "id": "4d4dc9ef-5e8d-4889-9e7e-6bbb54bcae42",
   "metadata": {},
   "source": [
    "# Предобработка данных\n",
    "## Работа с выбросами\n",
    "Еще раз рассмотрим распределение столбца `total_charges` так как на его графике был виден хвост из значений, рассмотри его подробнее"
   ]
  },
  {
   "cell_type": "code",
   "execution_count": 23,
   "id": "a681873e-b664-4d6e-bb79-82fc41143f7d",
   "metadata": {},
   "outputs": [
    {
     "data": {
      "image/png": "[encoded data removed]",
      "text/plain": [
       "<Figure size 1080x720 with 2 Axes>"
      ]
     },
     "metadata": {},
     "output_type": "display_data"
    }
   ],
   "source": [
    "distributions_plot(data, 'total_charges')"
   ]
  },
  {
   "cell_type": "code",
   "execution_count": 24,
   "id": "88d14814-d893-42e3-aa12-c05e1a23c46d",
   "metadata": {},
   "outputs": [
    {
     "name": "stdout",
     "output_type": "stream",
     "text": [
      "Количество аномалий:  195\n"
     ]
    }
   ],
   "source": [
    "boxplot = plt.boxplot(data['total_charges'].values);\n",
    "outliers = boxplot['fliers'][0].get_data()[1]\n",
    "df_outliers = data[data[\"total_charges\"].isin(outliers)]\n",
    "print(\"Количество аномалий: \", len(df_outliers))\n",
    "\n",
    "plt.close()"
   ]
  },
  {
   "cell_type": "markdown",
   "id": "9e7fdbad",
   "metadata": {},
   "source": [
    "Я считаю, что аномалий достаточно много и их удаление может привести к ухудшению качества модели, так же я считаю что удалить их нельзя, чтобы модель могла предсказывать как часто компанию покидают пользователеи которые уже внесли в ее бюджет много средств."
   ]
  },
  {
   "cell_type": "markdown",
   "id": "1d582213-a629-4c3d-84d2-9294f38cb083",
   "metadata": {},
   "source": [
    "## Работа с пропусками и генерация признаков"
   ]
  },
  {
   "cell_type": "code",
   "execution_count": 25,
   "id": "d68e6322-635a-44ad-bb75-6afead53f9ca",
   "metadata": {},
   "outputs": [
    {
     "data": {
      "text/plain": [
       "customer_id             0\n",
       "begin_date              0\n",
       "end_date             5942\n",
       "type                    0\n",
       "paperless_billing       0\n",
       "payment_method          0\n",
       "monthly_charges         0\n",
       "total_charges           0\n",
       "gender                  0\n",
       "senior_citizen          0\n",
       "partner                 0\n",
       "dependents              0\n",
       "multiple_lines        682\n",
       "internet_service     1526\n",
       "online_security      1526\n",
       "online_backup        1526\n",
       "device_protection    1526\n",
       "tech_support         1526\n",
       "streaming_tv         1526\n",
       "streaming_movies     1526\n",
       "dtype: int64"
      ]
     },
     "execution_count": 25,
     "metadata": {},
     "output_type": "execute_result"
    }
   ],
   "source": [
    "data.isna().sum()"
   ]
  },
  {
   "cell_type": "markdown",
   "id": "b191605e-bfd5-4d54-85c2-61c1549a2476",
   "metadata": {},
   "source": [
    "Больше всего пропусков в столбце с датой окончания договора, но это хорошо, этот столбец нам пригодится только для генерации целевой переменной и нового признака - **длительность подписки**, для обучения модели этот признак не подойдет так как приведет к утечек данных. Пропуски в нем мы исправим на этапе предобработки данных.\n",
    "\n",
    "Остальные пропуски в данных обусловлены тем, что датасеты распределены по услугам интернет и телефония, поэтому какие-то пользователи могут использовать только телефонию, а какие-то только интернет от данного провайдера. Поэтому все пропуски кроме пропусков в столбце end_date заменим на занчение No, так как другие адекватные значения подобрать мы не можем.\n",
    "\n",
    "Но сначала сгенерируем целевой признак так, что 0 - обозначает, что пользователь все еще пользуется услугами компании и 1 - пользователь перестал пользоваться услугами, и новый признак **длительность подписки**"
   ]
  },
  {
   "cell_type": "code",
   "execution_count": 26,
   "id": "f1afbcc6-6a7d-4ac9-92c9-3274e29cc2b0",
   "metadata": {},
   "outputs": [],
   "source": [
    "data['target'] = data['end_date'].apply(lambda x: 0 if pd.isna(x) else 1)"
   ]
  },
  {
   "cell_type": "markdown",
   "id": "15f5b7e2-15cb-419f-b662-6cf3d3c564ce",
   "metadata": {},
   "source": [
    "Для того, чтобы узнать длительность подписки всех пользователей, найдем максимальную дату окончания подписки и будем использовать ее, но прибавим к ней один месяц, как крайнюю дату и для оставшихся пользователей, чтобы пользователи которые подписались в прошлом месяце не отображались как люди с 0 дней подписки"
   ]
  },
  {
   "cell_type": "code",
   "execution_count": 27,
   "id": "31f6395c-e11f-466b-a057-214d563c4cf2",
   "metadata": {},
   "outputs": [
    {
     "data": {
      "text/html": [
       "<div>\n",
       "<style scoped>\n",
       "    .dataframe tbody tr th:only-of-type {\n",
       "        vertical-align: middle;\n",
       "    }\n",
       "\n",
       "    .dataframe tbody tr th {\n",
       "        vertical-align: top;\n",
       "    }\n",
       "\n",
       "    .dataframe thead th {\n",
       "        text-align: right;\n",
       "    }\n",
       "</style>\n",
       "<table border=\"1\" class=\"dataframe\">\n",
       "  <thead>\n",
       "    <tr style=\"text-align: right;\">\n",
       "      <th></th>\n",
       "      <th>customer_id</th>\n",
       "      <th>begin_date</th>\n",
       "      <th>end_date</th>\n",
       "      <th>type</th>\n",
       "      <th>paperless_billing</th>\n",
       "      <th>payment_method</th>\n",
       "      <th>monthly_charges</th>\n",
       "      <th>total_charges</th>\n",
       "      <th>gender</th>\n",
       "      <th>senior_citizen</th>\n",
       "      <th>...</th>\n",
       "      <th>internet_service</th>\n",
       "      <th>online_security</th>\n",
       "      <th>online_backup</th>\n",
       "      <th>device_protection</th>\n",
       "      <th>tech_support</th>\n",
       "      <th>streaming_tv</th>\n",
       "      <th>streaming_movies</th>\n",
       "      <th>target</th>\n",
       "      <th>end_date_filled</th>\n",
       "      <th>duration_days</th>\n",
       "    </tr>\n",
       "  </thead>\n",
       "  <tbody>\n",
       "    <tr>\n",
       "      <th>0</th>\n",
       "      <td>7590-VHVEG</td>\n",
       "      <td>2020-01-01</td>\n",
       "      <td>NaT</td>\n",
       "      <td>Month-to-month</td>\n",
       "      <td>Yes</td>\n",
       "      <td>Electronic check</td>\n",
       "      <td>29.85</td>\n",
       "      <td>31.04</td>\n",
       "      <td>Female</td>\n",
       "      <td>No</td>\n",
       "      <td>...</td>\n",
       "      <td>DSL</td>\n",
       "      <td>No</td>\n",
       "      <td>Yes</td>\n",
       "      <td>No</td>\n",
       "      <td>No</td>\n",
       "      <td>No</td>\n",
       "      <td>No</td>\n",
       "      <td>0</td>\n",
       "      <td>2020-02-01</td>\n",
       "      <td>31</td>\n",
       "    </tr>\n",
       "    <tr>\n",
       "      <th>1</th>\n",
       "      <td>5575-GNVDE</td>\n",
       "      <td>2017-04-01</td>\n",
       "      <td>NaT</td>\n",
       "      <td>One year</td>\n",
       "      <td>No</td>\n",
       "      <td>Mailed check</td>\n",
       "      <td>56.95</td>\n",
       "      <td>2071.84</td>\n",
       "      <td>Male</td>\n",
       "      <td>No</td>\n",
       "      <td>...</td>\n",
       "      <td>DSL</td>\n",
       "      <td>Yes</td>\n",
       "      <td>No</td>\n",
       "      <td>Yes</td>\n",
       "      <td>No</td>\n",
       "      <td>No</td>\n",
       "      <td>No</td>\n",
       "      <td>0</td>\n",
       "      <td>2020-02-01</td>\n",
       "      <td>1036</td>\n",
       "    </tr>\n",
       "    <tr>\n",
       "      <th>2</th>\n",
       "      <td>3668-QPYBK</td>\n",
       "      <td>2019-10-01</td>\n",
       "      <td>NaT</td>\n",
       "      <td>Month-to-month</td>\n",
       "      <td>Yes</td>\n",
       "      <td>Mailed check</td>\n",
       "      <td>53.85</td>\n",
       "      <td>226.17</td>\n",
       "      <td>Male</td>\n",
       "      <td>No</td>\n",
       "      <td>...</td>\n",
       "      <td>DSL</td>\n",
       "      <td>Yes</td>\n",
       "      <td>Yes</td>\n",
       "      <td>No</td>\n",
       "      <td>No</td>\n",
       "      <td>No</td>\n",
       "      <td>No</td>\n",
       "      <td>0</td>\n",
       "      <td>2020-02-01</td>\n",
       "      <td>123</td>\n",
       "    </tr>\n",
       "    <tr>\n",
       "      <th>3</th>\n",
       "      <td>7795-CFOCW</td>\n",
       "      <td>2016-05-01</td>\n",
       "      <td>NaT</td>\n",
       "      <td>One year</td>\n",
       "      <td>No</td>\n",
       "      <td>Bank transfer (automatic)</td>\n",
       "      <td>42.30</td>\n",
       "      <td>1960.60</td>\n",
       "      <td>Male</td>\n",
       "      <td>No</td>\n",
       "      <td>...</td>\n",
       "      <td>DSL</td>\n",
       "      <td>Yes</td>\n",
       "      <td>No</td>\n",
       "      <td>Yes</td>\n",
       "      <td>Yes</td>\n",
       "      <td>No</td>\n",
       "      <td>No</td>\n",
       "      <td>0</td>\n",
       "      <td>2020-02-01</td>\n",
       "      <td>1371</td>\n",
       "    </tr>\n",
       "    <tr>\n",
       "      <th>4</th>\n",
       "      <td>9237-HQITU</td>\n",
       "      <td>2019-09-01</td>\n",
       "      <td>NaT</td>\n",
       "      <td>Month-to-month</td>\n",
       "      <td>Yes</td>\n",
       "      <td>Electronic check</td>\n",
       "      <td>70.70</td>\n",
       "      <td>353.50</td>\n",
       "      <td>Female</td>\n",
       "      <td>No</td>\n",
       "      <td>...</td>\n",
       "      <td>Fiber optic</td>\n",
       "      <td>No</td>\n",
       "      <td>No</td>\n",
       "      <td>No</td>\n",
       "      <td>No</td>\n",
       "      <td>No</td>\n",
       "      <td>No</td>\n",
       "      <td>0</td>\n",
       "      <td>2020-02-01</td>\n",
       "      <td>153</td>\n",
       "    </tr>\n",
       "  </tbody>\n",
       "</table>\n",
       "<p>5 rows × 23 columns</p>\n",
       "</div>"
      ],
      "text/plain": [
       "  customer_id begin_date end_date            type paperless_billing  \\\n",
       "0  7590-VHVEG 2020-01-01      NaT  Month-to-month               Yes   \n",
       "1  5575-GNVDE 2017-04-01      NaT        One year                No   \n",
       "2  3668-QPYBK 2019-10-01      NaT  Month-to-month               Yes   \n",
       "3  7795-CFOCW 2016-05-01      NaT        One year                No   \n",
       "4  9237-HQITU 2019-09-01      NaT  Month-to-month               Yes   \n",
       "\n",
       "              payment_method  monthly_charges  total_charges  gender  \\\n",
       "0           Electronic check            29.85          31.04  Female   \n",
       "1               Mailed check            56.95        2071.84    Male   \n",
       "2               Mailed check            53.85         226.17    Male   \n",
       "3  Bank transfer (automatic)            42.30        1960.60    Male   \n",
       "4           Electronic check            70.70         353.50  Female   \n",
       "\n",
       "  senior_citizen  ... internet_service online_security online_backup  \\\n",
       "0             No  ...              DSL              No           Yes   \n",
       "1             No  ...              DSL             Yes            No   \n",
       "2             No  ...              DSL             Yes           Yes   \n",
       "3             No  ...              DSL             Yes            No   \n",
       "4             No  ...      Fiber optic              No            No   \n",
       "\n",
       "  device_protection tech_support streaming_tv streaming_movies target  \\\n",
       "0                No           No           No               No      0   \n",
       "1               Yes           No           No               No      0   \n",
       "2                No           No           No               No      0   \n",
       "3               Yes          Yes           No               No      0   \n",
       "4                No           No           No               No      0   \n",
       "\n",
       "  end_date_filled duration_days  \n",
       "0      2020-02-01            31  \n",
       "1      2020-02-01          1036  \n",
       "2      2020-02-01           123  \n",
       "3      2020-02-01          1371  \n",
       "4      2020-02-01           153  \n",
       "\n",
       "[5 rows x 23 columns]"
      ]
     },
     "execution_count": 27,
     "metadata": {},
     "output_type": "execute_result"
    }
   ],
   "source": [
    "max_date = data['end_date'].max() + pd.DateOffset(months=1)\n",
    "data['end_date_filled'] = data['end_date'].fillna(max_date)\n",
    "data['duration_days'] = (data['end_date_filled'] - data['begin_date']).dt.days\n",
    "\n",
    "data.head()"
   ]
  },
  {
   "cell_type": "markdown",
   "id": "d1c4b3a0-f8b0-4020-b209-7054909bbb98",
   "metadata": {},
   "source": [
    "Теперь можем удалить столбцы `begin_date`, `end_date`, и `end_date_filled`"
   ]
  },
  {
   "cell_type": "code",
   "execution_count": 28,
   "id": "be48d293-da51-44ea-86cb-adb9ada82fb2",
   "metadata": {},
   "outputs": [
    {
     "data": {
      "text/html": [
       "<div>\n",
       "<style scoped>\n",
       "    .dataframe tbody tr th:only-of-type {\n",
       "        vertical-align: middle;\n",
       "    }\n",
       "\n",
       "    .dataframe tbody tr th {\n",
       "        vertical-align: top;\n",
       "    }\n",
       "\n",
       "    .dataframe thead th {\n",
       "        text-align: right;\n",
       "    }\n",
       "</style>\n",
       "<table border=\"1\" class=\"dataframe\">\n",
       "  <thead>\n",
       "    <tr style=\"text-align: right;\">\n",
       "      <th></th>\n",
       "      <th>customer_id</th>\n",
       "      <th>type</th>\n",
       "      <th>paperless_billing</th>\n",
       "      <th>payment_method</th>\n",
       "      <th>monthly_charges</th>\n",
       "      <th>total_charges</th>\n",
       "      <th>gender</th>\n",
       "      <th>senior_citizen</th>\n",
       "      <th>partner</th>\n",
       "      <th>dependents</th>\n",
       "      <th>multiple_lines</th>\n",
       "      <th>internet_service</th>\n",
       "      <th>online_security</th>\n",
       "      <th>online_backup</th>\n",
       "      <th>device_protection</th>\n",
       "      <th>tech_support</th>\n",
       "      <th>streaming_tv</th>\n",
       "      <th>streaming_movies</th>\n",
       "      <th>target</th>\n",
       "      <th>duration_days</th>\n",
       "    </tr>\n",
       "  </thead>\n",
       "  <tbody>\n",
       "    <tr>\n",
       "      <th>0</th>\n",
       "      <td>7590-VHVEG</td>\n",
       "      <td>Month-to-month</td>\n",
       "      <td>Yes</td>\n",
       "      <td>Electronic check</td>\n",
       "      <td>29.85</td>\n",
       "      <td>31.04</td>\n",
       "      <td>Female</td>\n",
       "      <td>No</td>\n",
       "      <td>Yes</td>\n",
       "      <td>No</td>\n",
       "      <td>NaN</td>\n",
       "      <td>DSL</td>\n",
       "      <td>No</td>\n",
       "      <td>Yes</td>\n",
       "      <td>No</td>\n",
       "      <td>No</td>\n",
       "      <td>No</td>\n",
       "      <td>No</td>\n",
       "      <td>0</td>\n",
       "      <td>31</td>\n",
       "    </tr>\n",
       "    <tr>\n",
       "      <th>1</th>\n",
       "      <td>5575-GNVDE</td>\n",
       "      <td>One year</td>\n",
       "      <td>No</td>\n",
       "      <td>Mailed check</td>\n",
       "      <td>56.95</td>\n",
       "      <td>2071.84</td>\n",
       "      <td>Male</td>\n",
       "      <td>No</td>\n",
       "      <td>No</td>\n",
       "      <td>No</td>\n",
       "      <td>No</td>\n",
       "      <td>DSL</td>\n",
       "      <td>Yes</td>\n",
       "      <td>No</td>\n",
       "      <td>Yes</td>\n",
       "      <td>No</td>\n",
       "      <td>No</td>\n",
       "      <td>No</td>\n",
       "      <td>0</td>\n",
       "      <td>1036</td>\n",
       "    </tr>\n",
       "    <tr>\n",
       "      <th>2</th>\n",
       "      <td>3668-QPYBK</td>\n",
       "      <td>Month-to-month</td>\n",
       "      <td>Yes</td>\n",
       "      <td>Mailed check</td>\n",
       "      <td>53.85</td>\n",
       "      <td>226.17</td>\n",
       "      <td>Male</td>\n",
       "      <td>No</td>\n",
       "      <td>No</td>\n",
       "      <td>No</td>\n",
       "      <td>No</td>\n",
       "      <td>DSL</td>\n",
       "      <td>Yes</td>\n",
       "      <td>Yes</td>\n",
       "      <td>No</td>\n",
       "      <td>No</td>\n",
       "      <td>No</td>\n",
       "      <td>No</td>\n",
       "      <td>0</td>\n",
       "      <td>123</td>\n",
       "    </tr>\n",
       "    <tr>\n",
       "      <th>3</th>\n",
       "      <td>7795-CFOCW</td>\n",
       "      <td>One year</td>\n",
       "      <td>No</td>\n",
       "      <td>Bank transfer (automatic)</td>\n",
       "      <td>42.30</td>\n",
       "      <td>1960.60</td>\n",
       "      <td>Male</td>\n",
       "      <td>No</td>\n",
       "      <td>No</td>\n",
       "      <td>No</td>\n",
       "      <td>NaN</td>\n",
       "      <td>DSL</td>\n",
       "      <td>Yes</td>\n",
       "      <td>No</td>\n",
       "      <td>Yes</td>\n",
       "      <td>Yes</td>\n",
       "      <td>No</td>\n",
       "      <td>No</td>\n",
       "      <td>0</td>\n",
       "      <td>1371</td>\n",
       "    </tr>\n",
       "    <tr>\n",
       "      <th>4</th>\n",
       "      <td>9237-HQITU</td>\n",
       "      <td>Month-to-month</td>\n",
       "      <td>Yes</td>\n",
       "      <td>Electronic check</td>\n",
       "      <td>70.70</td>\n",
       "      <td>353.50</td>\n",
       "      <td>Female</td>\n",
       "      <td>No</td>\n",
       "      <td>No</td>\n",
       "      <td>No</td>\n",
       "      <td>No</td>\n",
       "      <td>Fiber optic</td>\n",
       "      <td>No</td>\n",
       "      <td>No</td>\n",
       "      <td>No</td>\n",
       "      <td>No</td>\n",
       "      <td>No</td>\n",
       "      <td>No</td>\n",
       "      <td>0</td>\n",
       "      <td>153</td>\n",
       "    </tr>\n",
       "  </tbody>\n",
       "</table>\n",
       "</div>"
      ],
      "text/plain": [
       "  customer_id            type paperless_billing             payment_method  \\\n",
       "0  7590-VHVEG  Month-to-month               Yes           Electronic check   \n",
       "1  5575-GNVDE        One year                No               Mailed check   \n",
       "2  3668-QPYBK  Month-to-month               Yes               Mailed check   \n",
       "3  7795-CFOCW        One year                No  Bank transfer (automatic)   \n",
       "4  9237-HQITU  Month-to-month               Yes           Electronic check   \n",
       "\n",
       "   monthly_charges  total_charges  gender senior_citizen partner dependents  \\\n",
       "0            29.85          31.04  Female             No     Yes         No   \n",
       "1            56.95        2071.84    Male             No      No         No   \n",
       "2            53.85         226.17    Male             No      No         No   \n",
       "3            42.30        1960.60    Male             No      No         No   \n",
       "4            70.70         353.50  Female             No      No         No   \n",
       "\n",
       "  multiple_lines internet_service online_security online_backup  \\\n",
       "0            NaN              DSL              No           Yes   \n",
       "1             No              DSL             Yes            No   \n",
       "2             No              DSL             Yes           Yes   \n",
       "3            NaN              DSL             Yes            No   \n",
       "4             No      Fiber optic              No            No   \n",
       "\n",
       "  device_protection tech_support streaming_tv streaming_movies  target  \\\n",
       "0                No           No           No               No       0   \n",
       "1               Yes           No           No               No       0   \n",
       "2                No           No           No               No       0   \n",
       "3               Yes          Yes           No               No       0   \n",
       "4                No           No           No               No       0   \n",
       "\n",
       "   duration_days  \n",
       "0             31  \n",
       "1           1036  \n",
       "2            123  \n",
       "3           1371  \n",
       "4            153  "
      ]
     },
     "execution_count": 28,
     "metadata": {},
     "output_type": "execute_result"
    }
   ],
   "source": [
    "data.drop(['begin_date', 'end_date', 'end_date_filled'], axis=1, inplace=True)\n",
    "data.head()"
   ]
  },
  {
   "cell_type": "markdown",
   "id": "87e013aa-d190-4574-b969-ede0a8931a96",
   "metadata": {},
   "source": [
    "Теперь заменим все остальные пропуски в данных значениями No с названием отсутсвующей категориии и заменим тип категориальных значений на category"
   ]
  },
  {
   "cell_type": "code",
   "execution_count": 29,
   "id": "b584649e-907e-4dac-958b-f47a32a97585",
   "metadata": {},
   "outputs": [
    {
     "data": {
      "text/plain": [
       "customer_id          0\n",
       "type                 0\n",
       "paperless_billing    0\n",
       "payment_method       0\n",
       "monthly_charges      0\n",
       "total_charges        0\n",
       "gender               0\n",
       "senior_citizen       0\n",
       "partner              0\n",
       "dependents           0\n",
       "multiple_lines       0\n",
       "internet_service     0\n",
       "online_security      0\n",
       "online_backup        0\n",
       "device_protection    0\n",
       "tech_support         0\n",
       "streaming_tv         0\n",
       "streaming_movies     0\n",
       "target               0\n",
       "duration_days        0\n",
       "dtype: int64"
      ]
     },
     "execution_count": 29,
     "metadata": {},
     "output_type": "execute_result"
    }
   ],
   "source": [
    "for col in phone_cols:\n",
    "    data[col] = data[col].fillna('No phone')\n",
    "    \n",
    "for col in internet_cols:\n",
    "    data[col] = data[col].fillna('No internet')\n",
    "    \n",
    "data.isna().sum()"
   ]
  },
  {
   "cell_type": "code",
   "execution_count": 30,
   "id": "257ceccb-8b41-4651-bc1c-921584ee105f",
   "metadata": {},
   "outputs": [],
   "source": [
    "data[cat_cols] = data[cat_cols].astype('category')"
   ]
  },
  {
   "cell_type": "code",
   "execution_count": 31,
   "id": "60e98d9e-bd55-480f-a874-fbf1f996f2af",
   "metadata": {},
   "outputs": [
    {
     "data": {
      "text/plain": [
       "customer_id            object\n",
       "type                 category\n",
       "paperless_billing    category\n",
       "payment_method       category\n",
       "monthly_charges       float64\n",
       "total_charges         float64\n",
       "gender               category\n",
       "senior_citizen       category\n",
       "partner              category\n",
       "dependents           category\n",
       "multiple_lines       category\n",
       "internet_service     category\n",
       "online_security      category\n",
       "online_backup        category\n",
       "device_protection    category\n",
       "tech_support         category\n",
       "streaming_tv         category\n",
       "streaming_movies     category\n",
       "target                  int64\n",
       "duration_days           int64\n",
       "dtype: object"
      ]
     },
     "execution_count": 31,
     "metadata": {},
     "output_type": "execute_result"
    }
   ],
   "source": [
    "data.dtypes"
   ]
  },
  {
   "cell_type": "markdown",
   "id": "08f7365f-1b7a-493c-8291-401ab66f8ee0",
   "metadata": {},
   "source": [
    "Так же для модели не имеет смысла значение признак `customer_id`, поэтому мы можем удалить его"
   ]
  },
  {
   "cell_type": "code",
   "execution_count": 32,
   "id": "a2cd4c26-d3a8-44e1-81bc-073794b5c7bf",
   "metadata": {},
   "outputs": [
    {
     "data": {
      "text/html": [
       "<div>\n",
       "<style scoped>\n",
       "    .dataframe tbody tr th:only-of-type {\n",
       "        vertical-align: middle;\n",
       "    }\n",
       "\n",
       "    .dataframe tbody tr th {\n",
       "        vertical-align: top;\n",
       "    }\n",
       "\n",
       "    .dataframe thead th {\n",
       "        text-align: right;\n",
       "    }\n",
       "</style>\n",
       "<table border=\"1\" class=\"dataframe\">\n",
       "  <thead>\n",
       "    <tr style=\"text-align: right;\">\n",
       "      <th></th>\n",
       "      <th>type</th>\n",
       "      <th>paperless_billing</th>\n",
       "      <th>payment_method</th>\n",
       "      <th>monthly_charges</th>\n",
       "      <th>total_charges</th>\n",
       "      <th>gender</th>\n",
       "      <th>senior_citizen</th>\n",
       "      <th>partner</th>\n",
       "      <th>dependents</th>\n",
       "      <th>multiple_lines</th>\n",
       "      <th>internet_service</th>\n",
       "      <th>online_security</th>\n",
       "      <th>online_backup</th>\n",
       "      <th>device_protection</th>\n",
       "      <th>tech_support</th>\n",
       "      <th>streaming_tv</th>\n",
       "      <th>streaming_movies</th>\n",
       "      <th>target</th>\n",
       "      <th>duration_days</th>\n",
       "    </tr>\n",
       "  </thead>\n",
       "  <tbody>\n",
       "    <tr>\n",
       "      <th>0</th>\n",
       "      <td>Month-to-month</td>\n",
       "      <td>Yes</td>\n",
       "      <td>Electronic check</td>\n",
       "      <td>29.85</td>\n",
       "      <td>31.04</td>\n",
       "      <td>Female</td>\n",
       "      <td>No</td>\n",
       "      <td>Yes</td>\n",
       "      <td>No</td>\n",
       "      <td>No phone</td>\n",
       "      <td>DSL</td>\n",
       "      <td>No</td>\n",
       "      <td>Yes</td>\n",
       "      <td>No</td>\n",
       "      <td>No</td>\n",
       "      <td>No</td>\n",
       "      <td>No</td>\n",
       "      <td>0</td>\n",
       "      <td>31</td>\n",
       "    </tr>\n",
       "    <tr>\n",
       "      <th>1</th>\n",
       "      <td>One year</td>\n",
       "      <td>No</td>\n",
       "      <td>Mailed check</td>\n",
       "      <td>56.95</td>\n",
       "      <td>2071.84</td>\n",
       "      <td>Male</td>\n",
       "      <td>No</td>\n",
       "      <td>No</td>\n",
       "      <td>No</td>\n",
       "      <td>No</td>\n",
       "      <td>DSL</td>\n",
       "      <td>Yes</td>\n",
       "      <td>No</td>\n",
       "      <td>Yes</td>\n",
       "      <td>No</td>\n",
       "      <td>No</td>\n",
       "      <td>No</td>\n",
       "      <td>0</td>\n",
       "      <td>1036</td>\n",
       "    </tr>\n",
       "    <tr>\n",
       "      <th>2</th>\n",
       "      <td>Month-to-month</td>\n",
       "      <td>Yes</td>\n",
       "      <td>Mailed check</td>\n",
       "      <td>53.85</td>\n",
       "      <td>226.17</td>\n",
       "      <td>Male</td>\n",
       "      <td>No</td>\n",
       "      <td>No</td>\n",
       "      <td>No</td>\n",
       "      <td>No</td>\n",
       "      <td>DSL</td>\n",
       "      <td>Yes</td>\n",
       "      <td>Yes</td>\n",
       "      <td>No</td>\n",
       "      <td>No</td>\n",
       "      <td>No</td>\n",
       "      <td>No</td>\n",
       "      <td>0</td>\n",
       "      <td>123</td>\n",
       "    </tr>\n",
       "    <tr>\n",
       "      <th>3</th>\n",
       "      <td>One year</td>\n",
       "      <td>No</td>\n",
       "      <td>Bank transfer (automatic)</td>\n",
       "      <td>42.30</td>\n",
       "      <td>1960.60</td>\n",
       "      <td>Male</td>\n",
       "      <td>No</td>\n",
       "      <td>No</td>\n",
       "      <td>No</td>\n",
       "      <td>No phone</td>\n",
       "      <td>DSL</td>\n",
       "      <td>Yes</td>\n",
       "      <td>No</td>\n",
       "      <td>Yes</td>\n",
       "      <td>Yes</td>\n",
       "      <td>No</td>\n",
       "      <td>No</td>\n",
       "      <td>0</td>\n",
       "      <td>1371</td>\n",
       "    </tr>\n",
       "    <tr>\n",
       "      <th>4</th>\n",
       "      <td>Month-to-month</td>\n",
       "      <td>Yes</td>\n",
       "      <td>Electronic check</td>\n",
       "      <td>70.70</td>\n",
       "      <td>353.50</td>\n",
       "      <td>Female</td>\n",
       "      <td>No</td>\n",
       "      <td>No</td>\n",
       "      <td>No</td>\n",
       "      <td>No</td>\n",
       "      <td>Fiber optic</td>\n",
       "      <td>No</td>\n",
       "      <td>No</td>\n",
       "      <td>No</td>\n",
       "      <td>No</td>\n",
       "      <td>No</td>\n",
       "      <td>No</td>\n",
       "      <td>0</td>\n",
       "      <td>153</td>\n",
       "    </tr>\n",
       "  </tbody>\n",
       "</table>\n",
       "</div>"
      ],
      "text/plain": [
       "             type paperless_billing             payment_method  \\\n",
       "0  Month-to-month               Yes           Electronic check   \n",
       "1        One year                No               Mailed check   \n",
       "2  Month-to-month               Yes               Mailed check   \n",
       "3        One year                No  Bank transfer (automatic)   \n",
       "4  Month-to-month               Yes           Electronic check   \n",
       "\n",
       "   monthly_charges  total_charges  gender senior_citizen partner dependents  \\\n",
       "0            29.85          31.04  Female             No     Yes         No   \n",
       "1            56.95        2071.84    Male             No      No         No   \n",
       "2            53.85         226.17    Male             No      No         No   \n",
       "3            42.30        1960.60    Male             No      No         No   \n",
       "4            70.70         353.50  Female             No      No         No   \n",
       "\n",
       "  multiple_lines internet_service online_security online_backup  \\\n",
       "0       No phone              DSL              No           Yes   \n",
       "1             No              DSL             Yes            No   \n",
       "2             No              DSL             Yes           Yes   \n",
       "3       No phone              DSL             Yes            No   \n",
       "4             No      Fiber optic              No            No   \n",
       "\n",
       "  device_protection tech_support streaming_tv streaming_movies  target  \\\n",
       "0                No           No           No               No       0   \n",
       "1               Yes           No           No               No       0   \n",
       "2                No           No           No               No       0   \n",
       "3               Yes          Yes           No               No       0   \n",
       "4                No           No           No               No       0   \n",
       "\n",
       "   duration_days  \n",
       "0             31  \n",
       "1           1036  \n",
       "2            123  \n",
       "3           1371  \n",
       "4            153  "
      ]
     },
     "execution_count": 32,
     "metadata": {},
     "output_type": "execute_result"
    }
   ],
   "source": [
    "data.drop('customer_id', axis=1, inplace=True)\n",
    "data.head()"
   ]
  },
  {
   "cell_type": "markdown",
   "id": "ebef7aa9-4cfa-4a74-9067-d22a73c6b2f3",
   "metadata": {},
   "source": [
    "## Вывод по предобработке данных"
   ]
  },
  {
   "cell_type": "markdown",
   "id": "f2f4edd3-fe63-4fb1-bc51-29305ef919e0",
   "metadata": {},
   "source": [
    "- На этапе предобработки данных были более подробно изучены выбосы в одном из числовых столбцов и было принято решение оставить это, так как это скорее не выбросы, а хвост из значений которые должны помочь обучить моедль\n",
    "- Были сгенерированны признаки, во-первых целевой признак `target` он равен 0, если пользователь все еще пользуется услугами компании и 1, если пользователь разорвал договоры с компанией. Так же был сгенирирован признак `duration` - продолжительность подписки на сервисы компании в днях. Он рассчитывается как **дата конца подписки** минус **дата начала подписки**, если есть дата окончания, если нет, то **дата конца подписки плюс один месяц** минус **дата начала подписки** чтобы модель отличала новых пользователей и не присваивала им 0 дней работы с компанией, так как жто может плохо сказаться на качетсве моделирования?\n",
    "- Все пропуски в данных были заменены, так как пропуски возникили, потому что некоторые пользователи пользуются чем то одним, напиример только интернетом или только телефонией"
   ]
  },
  {
   "cell_type": "markdown",
   "id": "615686d9-f834-45f3-9ea7-542f0cb6f469",
   "metadata": {},
   "source": [
    "# Исследовательский анализ данных"
   ]
  },
  {
   "cell_type": "markdown",
   "id": "38540ea6-7f89-45a8-9a1a-03154ab9643c",
   "metadata": {},
   "source": [
    "## Непрерывные величины отосительно целевого признака"
   ]
  },
  {
   "cell_type": "code",
   "execution_count": 33,
   "id": "560e6c81-4bda-4a66-a2ac-6b92d54313bb",
   "metadata": {},
   "outputs": [],
   "source": [
    "num_cols = list(data.select_dtypes(include='number').columns)\n",
    "num_cols.remove('target')"
   ]
  },
  {
   "cell_type": "code",
   "execution_count": 34,
   "id": "edf51535-f810-4bff-8589-dfa49608c87f",
   "metadata": {},
   "outputs": [
    {
     "data": {
      "image/png": "[encoded data removed]",
      "text/plain": [
       "<Figure size 576x576 with 1 Axes>"
      ]
     },
     "metadata": {},
     "output_type": "display_data"
    },
    {
     "data": {
      "image/png": "[encoded data removed]",
      "text/plain": [
       "<Figure size 576x576 with 1 Axes>"
      ]
     },
     "metadata": {},
     "output_type": "display_data"
    },
    {
     "data": {
      "image/png": "[encoded data removed]",
      "text/plain": [
       "<Figure size 576x576 with 1 Axes>"
      ]
     },
     "metadata": {},
     "output_type": "display_data"
    }
   ],
   "source": [
    "for num_col in num_cols:\n",
    "    boxplot_creator(data, 'target', num_col)"
   ]
  },
  {
   "cell_type": "markdown",
   "id": "c17c48ae-676d-4e33-afb0-b41106651d8f",
   "metadata": {},
   "source": [
    "### Вывод по анализу непрерывных вличин\n",
    "\n",
    "У всех непрерывных значений в разрезе целевого признака наблюдается странная закономерность - у людей разорвавших договр с компание все значения выше т.е. : чем больше пользователь платит за услугу тем больше вероятность того, что он разрввет контракт, так же, чем дольше пользователь пользуется услугами компании тем больше шанс, что он разорвет с ней контракт"
   ]
  },
  {
   "cell_type": "markdown",
   "id": "ec382285-2770-4386-aa65-5be4e1fee336",
   "metadata": {},
   "source": [
    "## Категориальные признаки относительно целевого"
   ]
  },
  {
   "cell_type": "code",
   "execution_count": 35,
   "id": "ec7f99b0-5a22-428d-a39d-cc7cc3ef6107",
   "metadata": {},
   "outputs": [
    {
     "data": {
      "image/png": "[encoded data removed]",
      "text/plain": [
       "<Figure size 864x2160 with 15 Axes>"
      ]
     },
     "metadata": {},
     "output_type": "display_data"
    }
   ],
   "source": [
    "rows = 5\n",
    "cols = 3\n",
    "\n",
    "fig, axs = plt.subplots(rows, cols, figsize=(12, 30))\n",
    "\n",
    "# Проход по уникальным значениям и создание графиков\n",
    "for i, value in enumerate(cat_cols):\n",
    "    row = i // cols\n",
    "    col = i % cols\n",
    "    ax = axs[row, col]\n",
    "\n",
    "    # Фильтрация данных для текущего уникального значения\n",
    "    normalized_counts = data.groupby(value)['target'].value_counts(normalize=True).unstack(fill_value=0).reset_index()\n",
    "    melted_data = normalized_counts.melt(id_vars=value, var_name='target', value_name='Доля')\n",
    "\n",
    "    sns.barplot(x=value, y='Доля', hue='target', data=melted_data, ax=ax)\n",
    "\n",
    "    ax.set_title(f'Доля целевого признака для {value}', fontsize=17)\n",
    "    ax.set_xlabel(f'Уникальные значения столбца {value}', fontsize=17)\n",
    "    ax.set_ylabel('Доля значения', fontsize=17)\n",
    "\n",
    "plt.tight_layout(rect=[0, 0, 2, 2])\n",
    "plt.show()"
   ]
  },
  {
   "cell_type": "markdown",
   "id": "5d02c40f-f711-4e11-abd6-c71431937764",
   "metadata": {},
   "source": [
    "### Вывод по исследовательскому анализу категориальных признаков\n",
    "\n",
    "На этих данных можно заметить интересные тенденции:\n",
    "   - Пользователи с годовой и двух довой подпиской чаще расторгают контракт\n",
    "   - Пользователи которые пользуются какимилибо услугами компании чаще расторгают с ней контракт\n",
    "   \n",
    "Так же можно обнаружить некоторые столбцы, которые скорее всего окажутся бесполезными для работы модели:\n",
    "   - Гендер скорее всего вообще никак не влияет на желание пользоваться услугами компании (gender)\n",
    "   - Также почти никакого влияния не оказывает факт наличия или отсутсвия детей у абонента (dependents)\n",
    "Предлагаю удалить эти столбцы, такак скорее всего они будут только мешать делать модели предсказания"
   ]
  },
  {
   "cell_type": "code",
   "execution_count": 36,
   "id": "2e4c7bbc-8ccc-4978-9c69-9bc3c35049fd",
   "metadata": {},
   "outputs": [
    {
     "data": {
      "text/html": [
       "<div>\n",
       "<style scoped>\n",
       "    .dataframe tbody tr th:only-of-type {\n",
       "        vertical-align: middle;\n",
       "    }\n",
       "\n",
       "    .dataframe tbody tr th {\n",
       "        vertical-align: top;\n",
       "    }\n",
       "\n",
       "    .dataframe thead th {\n",
       "        text-align: right;\n",
       "    }\n",
       "</style>\n",
       "<table border=\"1\" class=\"dataframe\">\n",
       "  <thead>\n",
       "    <tr style=\"text-align: right;\">\n",
       "      <th></th>\n",
       "      <th>type</th>\n",
       "      <th>paperless_billing</th>\n",
       "      <th>payment_method</th>\n",
       "      <th>monthly_charges</th>\n",
       "      <th>total_charges</th>\n",
       "      <th>senior_citizen</th>\n",
       "      <th>partner</th>\n",
       "      <th>multiple_lines</th>\n",
       "      <th>internet_service</th>\n",
       "      <th>online_security</th>\n",
       "      <th>online_backup</th>\n",
       "      <th>device_protection</th>\n",
       "      <th>tech_support</th>\n",
       "      <th>streaming_tv</th>\n",
       "      <th>streaming_movies</th>\n",
       "      <th>target</th>\n",
       "      <th>duration_days</th>\n",
       "    </tr>\n",
       "  </thead>\n",
       "  <tbody>\n",
       "    <tr>\n",
       "      <th>0</th>\n",
       "      <td>Month-to-month</td>\n",
       "      <td>Yes</td>\n",
       "      <td>Electronic check</td>\n",
       "      <td>29.85</td>\n",
       "      <td>31.04</td>\n",
       "      <td>No</td>\n",
       "      <td>Yes</td>\n",
       "      <td>No phone</td>\n",
       "      <td>DSL</td>\n",
       "      <td>No</td>\n",
       "      <td>Yes</td>\n",
       "      <td>No</td>\n",
       "      <td>No</td>\n",
       "      <td>No</td>\n",
       "      <td>No</td>\n",
       "      <td>0</td>\n",
       "      <td>31</td>\n",
       "    </tr>\n",
       "    <tr>\n",
       "      <th>1</th>\n",
       "      <td>One year</td>\n",
       "      <td>No</td>\n",
       "      <td>Mailed check</td>\n",
       "      <td>56.95</td>\n",
       "      <td>2071.84</td>\n",
       "      <td>No</td>\n",
       "      <td>No</td>\n",
       "      <td>No</td>\n",
       "      <td>DSL</td>\n",
       "      <td>Yes</td>\n",
       "      <td>No</td>\n",
       "      <td>Yes</td>\n",
       "      <td>No</td>\n",
       "      <td>No</td>\n",
       "      <td>No</td>\n",
       "      <td>0</td>\n",
       "      <td>1036</td>\n",
       "    </tr>\n",
       "    <tr>\n",
       "      <th>2</th>\n",
       "      <td>Month-to-month</td>\n",
       "      <td>Yes</td>\n",
       "      <td>Mailed check</td>\n",
       "      <td>53.85</td>\n",
       "      <td>226.17</td>\n",
       "      <td>No</td>\n",
       "      <td>No</td>\n",
       "      <td>No</td>\n",
       "      <td>DSL</td>\n",
       "      <td>Yes</td>\n",
       "      <td>Yes</td>\n",
       "      <td>No</td>\n",
       "      <td>No</td>\n",
       "      <td>No</td>\n",
       "      <td>No</td>\n",
       "      <td>0</td>\n",
       "      <td>123</td>\n",
       "    </tr>\n",
       "    <tr>\n",
       "      <th>3</th>\n",
       "      <td>One year</td>\n",
       "      <td>No</td>\n",
       "      <td>Bank transfer (automatic)</td>\n",
       "      <td>42.30</td>\n",
       "      <td>1960.60</td>\n",
       "      <td>No</td>\n",
       "      <td>No</td>\n",
       "      <td>No phone</td>\n",
       "      <td>DSL</td>\n",
       "      <td>Yes</td>\n",
       "      <td>No</td>\n",
       "      <td>Yes</td>\n",
       "      <td>Yes</td>\n",
       "      <td>No</td>\n",
       "      <td>No</td>\n",
       "      <td>0</td>\n",
       "      <td>1371</td>\n",
       "    </tr>\n",
       "    <tr>\n",
       "      <th>4</th>\n",
       "      <td>Month-to-month</td>\n",
       "      <td>Yes</td>\n",
       "      <td>Electronic check</td>\n",
       "      <td>70.70</td>\n",
       "      <td>353.50</td>\n",
       "      <td>No</td>\n",
       "      <td>No</td>\n",
       "      <td>No</td>\n",
       "      <td>Fiber optic</td>\n",
       "      <td>No</td>\n",
       "      <td>No</td>\n",
       "      <td>No</td>\n",
       "      <td>No</td>\n",
       "      <td>No</td>\n",
       "      <td>No</td>\n",
       "      <td>0</td>\n",
       "      <td>153</td>\n",
       "    </tr>\n",
       "  </tbody>\n",
       "</table>\n",
       "</div>"
      ],
      "text/plain": [
       "             type paperless_billing             payment_method  \\\n",
       "0  Month-to-month               Yes           Electronic check   \n",
       "1        One year                No               Mailed check   \n",
       "2  Month-to-month               Yes               Mailed check   \n",
       "3        One year                No  Bank transfer (automatic)   \n",
       "4  Month-to-month               Yes           Electronic check   \n",
       "\n",
       "   monthly_charges  total_charges senior_citizen partner multiple_lines  \\\n",
       "0            29.85          31.04             No     Yes       No phone   \n",
       "1            56.95        2071.84             No      No             No   \n",
       "2            53.85         226.17             No      No             No   \n",
       "3            42.30        1960.60             No      No       No phone   \n",
       "4            70.70         353.50             No      No             No   \n",
       "\n",
       "  internet_service online_security online_backup device_protection  \\\n",
       "0              DSL              No           Yes                No   \n",
       "1              DSL             Yes            No               Yes   \n",
       "2              DSL             Yes           Yes                No   \n",
       "3              DSL             Yes            No               Yes   \n",
       "4      Fiber optic              No            No                No   \n",
       "\n",
       "  tech_support streaming_tv streaming_movies  target  duration_days  \n",
       "0           No           No               No       0             31  \n",
       "1           No           No               No       0           1036  \n",
       "2           No           No               No       0            123  \n",
       "3          Yes           No               No       0           1371  \n",
       "4           No           No               No       0            153  "
      ]
     },
     "execution_count": 36,
     "metadata": {},
     "output_type": "execute_result"
    }
   ],
   "source": [
    "data = data.drop(['gender', 'dependents'], axis=1)\n",
    "data.head()"
   ]
  },
  {
   "cell_type": "markdown",
   "id": "fe804dcd-5a83-4382-9f79-6d0505d71c5d",
   "metadata": {},
   "source": [
    "# Подготовка к моделированию\n",
    "## Корреляционный анализ\n",
    "Я не планирую использовать линейные модели, так как у нас большое количество категориальных данных и мне кажется что они могут справиться плохо, но постмотреть матрицу корреляции все равно считаю необходимым"
   ]
  },
  {
   "cell_type": "code",
   "execution_count": 37,
   "id": "bb27bbcc-6e9c-418d-8680-e9f51e3cde22",
   "metadata": {},
   "outputs": [
    {
     "data": {
      "text/plain": [
       "Index(['type', 'paperless_billing', 'payment_method', 'monthly_charges',\n",
       "       'total_charges', 'senior_citizen', 'partner', 'multiple_lines',\n",
       "       'internet_service', 'online_security', 'online_backup',\n",
       "       'device_protection', 'tech_support', 'streaming_tv', 'streaming_movies',\n",
       "       'target', 'duration_days'],\n",
       "      dtype='object')"
      ]
     },
     "execution_count": 37,
     "metadata": {},
     "output_type": "execute_result"
    }
   ],
   "source": [
    "cat_cols = list(data.select_dtypes('category').columns)\n",
    "cat_cols\n",
    "data.columns"
   ]
  },
  {
   "cell_type": "code",
   "execution_count": 38,
   "id": "14092364-889e-4ff0-a425-be2658befabe",
   "metadata": {},
   "outputs": [
    {
     "data": {
      "image/png": "[encoded data removed]",
      "text/plain": [
       "<Figure size 1440x1080 with 2 Axes>"
      ]
     },
     "metadata": {},
     "output_type": "display_data"
    }
   ],
   "source": [
    "int_cols = ['monthly_charges', 'total_charges', 'duration_days']\n",
    "\n",
    "phik_overview = data.phik_matrix(interval_cols=int_cols)\n",
    "\n",
    "plot_correlation_matrix(\n",
    "    phik_overview.values,\n",
    "    x_labels=phik_overview.columns,\n",
    "    y_labels=phik_overview.index,\n",
    "    title=r'correlation $\\phi_K$',\n",
    "    color_map='coolwarm',\n",
    "    figsize=(20, 15)\n",
    ") "
   ]
  },
  {
   "cell_type": "markdown",
   "id": "3520aba3-64d2-41ac-a92c-637e0f7ee202",
   "metadata": {},
   "source": [
    "Сильнее всего целевая переменная зависит от значения в параметре `duration_days`, но этот признак не дает утечки данных. В данных есть мультиколлениарность, но она нас не инnересует, так как я планирую испльзовать модели на основе деревьев, а они не сильно воспреимчивы к мультиколлениарности."
   ]
  },
  {
   "cell_type": "markdown",
   "id": "a97238a6-451f-45bb-bcda-89f10993c432",
   "metadata": {},
   "source": [
    "## Разделение на выборки"
   ]
  },
  {
   "cell_type": "code",
   "execution_count": 39,
   "id": "f1daef36-f7a0-44ac-9d2f-b2adeb46a7d4",
   "metadata": {},
   "outputs": [
    {
     "data": {
      "text/html": [
       "<div>\n",
       "<style scoped>\n",
       "    .dataframe tbody tr th:only-of-type {\n",
       "        vertical-align: middle;\n",
       "    }\n",
       "\n",
       "    .dataframe tbody tr th {\n",
       "        vertical-align: top;\n",
       "    }\n",
       "\n",
       "    .dataframe thead th {\n",
       "        text-align: right;\n",
       "    }\n",
       "</style>\n",
       "<table border=\"1\" class=\"dataframe\">\n",
       "  <thead>\n",
       "    <tr style=\"text-align: right;\">\n",
       "      <th></th>\n",
       "      <th>type</th>\n",
       "      <th>paperless_billing</th>\n",
       "      <th>payment_method</th>\n",
       "      <th>monthly_charges</th>\n",
       "      <th>total_charges</th>\n",
       "      <th>senior_citizen</th>\n",
       "      <th>partner</th>\n",
       "      <th>multiple_lines</th>\n",
       "      <th>internet_service</th>\n",
       "      <th>online_security</th>\n",
       "      <th>online_backup</th>\n",
       "      <th>device_protection</th>\n",
       "      <th>tech_support</th>\n",
       "      <th>streaming_tv</th>\n",
       "      <th>streaming_movies</th>\n",
       "      <th>duration_days</th>\n",
       "    </tr>\n",
       "  </thead>\n",
       "  <tbody>\n",
       "    <tr>\n",
       "      <th>721</th>\n",
       "      <td>Two year</td>\n",
       "      <td>No</td>\n",
       "      <td>Credit card (automatic)</td>\n",
       "      <td>20.55</td>\n",
       "      <td>1341.30</td>\n",
       "      <td>No</td>\n",
       "      <td>Yes</td>\n",
       "      <td>No</td>\n",
       "      <td>No internet</td>\n",
       "      <td>No internet</td>\n",
       "      <td>No internet</td>\n",
       "      <td>No internet</td>\n",
       "      <td>No internet</td>\n",
       "      <td>No internet</td>\n",
       "      <td>No internet</td>\n",
       "      <td>1857</td>\n",
       "    </tr>\n",
       "    <tr>\n",
       "      <th>3922</th>\n",
       "      <td>Month-to-month</td>\n",
       "      <td>Yes</td>\n",
       "      <td>Credit card (automatic)</td>\n",
       "      <td>94.65</td>\n",
       "      <td>6341.55</td>\n",
       "      <td>Yes</td>\n",
       "      <td>Yes</td>\n",
       "      <td>Yes</td>\n",
       "      <td>Fiber optic</td>\n",
       "      <td>No</td>\n",
       "      <td>No</td>\n",
       "      <td>No</td>\n",
       "      <td>No</td>\n",
       "      <td>Yes</td>\n",
       "      <td>Yes</td>\n",
       "      <td>2041</td>\n",
       "    </tr>\n",
       "    <tr>\n",
       "      <th>6497</th>\n",
       "      <td>Month-to-month</td>\n",
       "      <td>Yes</td>\n",
       "      <td>Electronic check</td>\n",
       "      <td>103.05</td>\n",
       "      <td>5358.60</td>\n",
       "      <td>No</td>\n",
       "      <td>No</td>\n",
       "      <td>Yes</td>\n",
       "      <td>Fiber optic</td>\n",
       "      <td>No</td>\n",
       "      <td>Yes</td>\n",
       "      <td>Yes</td>\n",
       "      <td>No</td>\n",
       "      <td>Yes</td>\n",
       "      <td>Yes</td>\n",
       "      <td>1584</td>\n",
       "    </tr>\n",
       "    <tr>\n",
       "      <th>4784</th>\n",
       "      <td>Month-to-month</td>\n",
       "      <td>Yes</td>\n",
       "      <td>Mailed check</td>\n",
       "      <td>19.55</td>\n",
       "      <td>20.53</td>\n",
       "      <td>No</td>\n",
       "      <td>No</td>\n",
       "      <td>No</td>\n",
       "      <td>No internet</td>\n",
       "      <td>No internet</td>\n",
       "      <td>No internet</td>\n",
       "      <td>No internet</td>\n",
       "      <td>No internet</td>\n",
       "      <td>No internet</td>\n",
       "      <td>No internet</td>\n",
       "      <td>31</td>\n",
       "    </tr>\n",
       "    <tr>\n",
       "      <th>2980</th>\n",
       "      <td>Two year</td>\n",
       "      <td>No</td>\n",
       "      <td>Credit card (automatic)</td>\n",
       "      <td>25.45</td>\n",
       "      <td>293.95</td>\n",
       "      <td>No</td>\n",
       "      <td>No</td>\n",
       "      <td>Yes</td>\n",
       "      <td>No internet</td>\n",
       "      <td>No internet</td>\n",
       "      <td>No internet</td>\n",
       "      <td>No internet</td>\n",
       "      <td>No internet</td>\n",
       "      <td>No internet</td>\n",
       "      <td>No internet</td>\n",
       "      <td>334</td>\n",
       "    </tr>\n",
       "  </tbody>\n",
       "</table>\n",
       "</div>"
      ],
      "text/plain": [
       "                type paperless_billing           payment_method  \\\n",
       "721         Two year                No  Credit card (automatic)   \n",
       "3922  Month-to-month               Yes  Credit card (automatic)   \n",
       "6497  Month-to-month               Yes         Electronic check   \n",
       "4784  Month-to-month               Yes             Mailed check   \n",
       "2980        Two year                No  Credit card (automatic)   \n",
       "\n",
       "      monthly_charges  total_charges senior_citizen partner multiple_lines  \\\n",
       "721             20.55        1341.30             No     Yes             No   \n",
       "3922            94.65        6341.55            Yes     Yes            Yes   \n",
       "6497           103.05        5358.60             No      No            Yes   \n",
       "4784            19.55          20.53             No      No             No   \n",
       "2980            25.45         293.95             No      No            Yes   \n",
       "\n",
       "     internet_service online_security online_backup device_protection  \\\n",
       "721       No internet     No internet   No internet       No internet   \n",
       "3922      Fiber optic              No            No                No   \n",
       "6497      Fiber optic              No           Yes               Yes   \n",
       "4784      No internet     No internet   No internet       No internet   \n",
       "2980      No internet     No internet   No internet       No internet   \n",
       "\n",
       "     tech_support streaming_tv streaming_movies  duration_days  \n",
       "721   No internet  No internet      No internet           1857  \n",
       "3922           No          Yes              Yes           2041  \n",
       "6497           No          Yes              Yes           1584  \n",
       "4784  No internet  No internet      No internet             31  \n",
       "2980  No internet  No internet      No internet            334  "
      ]
     },
     "execution_count": 39,
     "metadata": {},
     "output_type": "execute_result"
    }
   ],
   "source": [
    "X_train, X_test, y_train, y_test = train_test_split(\n",
    "    data.drop(['target'], axis=1),\n",
    "    data['target'],\n",
    "    test_size = TEST_SIZE, \n",
    "    random_state = RANDOM_STATE,\n",
    "    stratify = data['target']\n",
    ")\n",
    "\n",
    "X_train.head()"
   ]
  },
  {
   "cell_type": "markdown",
   "id": "2b588f2c-1197-4023-9b1c-b8c838ea84fe",
   "metadata": {},
   "source": [
    "Так как планируется использовать модели основанные на решающих деревьях, категориальные данные нужно закадировать в OrdinalEncoder, чтобы таблица не размножала признаки и не росла в ширь, а численные данные можно никак не масштабировать. Пострим пайплайн для обучения моделей."
   ]
  },
  {
   "cell_type": "markdown",
   "id": "73ac61c4-3193-42b4-8b6e-91ef9590bb85",
   "metadata": {},
   "source": [
    "# Моделирование\n",
    "## Создание пайплайна для моделей на решающих деревьях"
   ]
  },
  {
   "cell_type": "code",
   "execution_count": 40,
   "id": "eec456f8-d3ca-4649-b00c-edc5b15d5f12",
   "metadata": {},
   "outputs": [],
   "source": [
    "num_cols = ['monthly_charges', 'total_charges', 'duration_days']\n",
    "\n",
    "\n",
    "ord_pipe = Pipeline(\n",
    "    [\n",
    "     ('ord', OrdinalEncoder())\n",
    "    ]\n",
    ")\n",
    "\n",
    "data_preprocessor = ColumnTransformer(\n",
    "    [\n",
    "     ('ord', ord_pipe, cat_cols),\n",
    "    ], \n",
    "    remainder='passthrough'\n",
    ")\n",
    "\n",
    "pipe_final = Pipeline([\n",
    "    ('preprocessor', data_preprocessor),\n",
    "    ('models', DecisionTreeClassifier(random_state=RANDOM_STATE))\n",
    "])\n"
   ]
  },
  {
   "cell_type": "code",
   "execution_count": 41,
   "id": "b26f059c-4477-4b30-a9a8-bdff4ff550eb",
   "metadata": {},
   "outputs": [],
   "source": [
    "param_grid_tree= [\n",
    "    {\n",
    "        'models' : [DecisionTreeClassifier(random_state=RANDOM_STATE)],\n",
    "        'models__max_depth' : range(2, 15),\n",
    "        'models__max_features' : range(2, 15),\n",
    "        'models__min_samples_split' : range(2, 15)\n",
    "    }\n",
    "]\n",
    "\n",
    "param_grid_forest = [\n",
    "    {\n",
    "        'models' : [RandomForestClassifier(random_state=RANDOM_STATE)],\n",
    "        'models__n_estimators' : range(2, 100),\n",
    "        'models__max_depth' : range(2, 10),\n",
    "        'models__min_samples_leaf' : range(2, 10),\n",
    "        'models__max_features' : range(2, 10),\n",
    "        'models__max_leaf_nodes' : range(2, 100)\n",
    "    }\n",
    "]"
   ]
  },
  {
   "cell_type": "markdown",
   "id": "f1c1df47-c8e5-4a4e-8d3f-9a5c8b2460fe",
   "metadata": {},
   "source": [
    "### Обучение моделей"
   ]
  },
  {
   "cell_type": "code",
   "execution_count": 42,
   "id": "b178c8d0-543f-4b4f-9ce1-c47178b7449e",
   "metadata": {},
   "outputs": [
    {
     "name": "stdout",
     "output_type": "stream",
     "text": [
      "Метрика ROC-AUC лучшей модели DecisionTreeClassifier на кросс-валидации равна 0.7877\n",
      "Лучшая модель и ее гиперпараметры: \n",
      " Pipeline(steps=[('preprocessor',\n",
      "                 ColumnTransformer(remainder='passthrough',\n",
      "                                   transformers=[('ord',\n",
      "                                                  Pipeline(steps=[('ord',\n",
      "                                                                   OrdinalEncoder())]),\n",
      "                                                  ['type', 'paperless_billing',\n",
      "                                                   'payment_method',\n",
      "                                                   'senior_citizen', 'partner',\n",
      "                                                   'multiple_lines',\n",
      "                                                   'internet_service',\n",
      "                                                   'online_security',\n",
      "                                                   'online_backup',\n",
      "                                                   'device_protection',\n",
      "                                                   'tech_support',\n",
      "                                                   'streaming_tv',\n",
      "                                                   'streaming_movies'])])),\n",
      "                ('models',\n",
      "                 DecisionTreeClassifier(max_depth=6, max_features=12,\n",
      "                                        min_samples_split=8,\n",
      "                                        random_state=17062024))])\n"
     ]
    }
   ],
   "source": [
    "grid_tree = RandomizedSearchCV(\n",
    "    pipe_final,\n",
    "    param_grid_tree, \n",
    "    cv=5,\n",
    "    scoring='roc_auc',\n",
    "    n_jobs=-1,\n",
    "    error_score='raise',\n",
    "    n_iter=100,\n",
    "    random_state=RANDOM_STATE\n",
    ")\n",
    "grid_tree.fit(X_train, y_train)\n",
    "\n",
    "print(f'Метрика ROC-AUC лучшей модели DecisionTreeClassifier на кросс-валидации равна {round(grid_tree.best_score_, 4)}')\n",
    "print('Лучшая модель и ее гиперпараметры: \\n', grid_tree.best_estimator_)"
   ]
  },
  {
   "cell_type": "markdown",
   "id": "4418a1b8-93fb-4541-a547-e4349289927a",
   "metadata": {},
   "source": [
    "Метрика лучшей модели DecisionTreeClassifier на кросс валидации слишком маленькая"
   ]
  },
  {
   "cell_type": "code",
   "execution_count": 43,
   "id": "0c64b28a-75bd-472b-9da7-b79d118021a5",
   "metadata": {},
   "outputs": [
    {
     "name": "stdout",
     "output_type": "stream",
     "text": [
      "Метрика ROC-AUC лучшей модели RandomForestClassifier на кросс-валидации равна 0.8307\n",
      "Лучшая модель и ее гиперпараметры: \n",
      " Pipeline(steps=[('preprocessor',\n",
      "                 ColumnTransformer(remainder='passthrough',\n",
      "                                   transformers=[('ord',\n",
      "                                                  Pipeline(steps=[('ord',\n",
      "                                                                   OrdinalEncoder())]),\n",
      "                                                  ['type', 'paperless_billing',\n",
      "                                                   'payment_method',\n",
      "                                                   'senior_citizen', 'partner',\n",
      "                                                   'multiple_lines',\n",
      "                                                   'internet_service',\n",
      "                                                   'online_security',\n",
      "                                                   'online_backup',\n",
      "                                                   'device_protection',\n",
      "                                                   'tech_support',\n",
      "                                                   'streaming_tv',\n",
      "                                                   'streaming_movies'])])),\n",
      "                ('models',\n",
      "                 RandomForestClassifier(max_depth=8, max_features=7,\n",
      "                                        max_leaf_nodes=74, min_samples_leaf=3,\n",
      "                                        n_estimators=96,\n",
      "                                        random_state=17062024))])\n"
     ]
    }
   ],
   "source": [
    "grid_forest = RandomizedSearchCV(\n",
    "    pipe_final,\n",
    "    param_grid_forest, \n",
    "    cv=5,\n",
    "    scoring='roc_auc',\n",
    "    n_jobs=-1,\n",
    "    error_score='raise',\n",
    "    n_iter=100,\n",
    "    random_state=RANDOM_STATE\n",
    ")\n",
    "grid_forest.fit(X_train, y_train)\n",
    "\n",
    "print(f'Метрика ROC-AUC лучшей модели RandomForestClassifier на кросс-валидации равна {round(grid_forest.best_score_, 4)}')\n",
    "print('Лучшая модель и ее гиперпараметры: \\n', grid_forest.best_estimator_)"
   ]
  },
  {
   "cell_type": "markdown",
   "id": "4150ef19-c872-4e7e-af4f-a1b1d24e74c6",
   "metadata": {},
   "source": [
    "Метрики модели RandomForestClassifier тоже не хватает для решения поставленной задачи. Поэтому считаю нужным использовать модель градиентного бустинга."
   ]
  },
  {
   "cell_type": "markdown",
   "id": "2250f606-3e6d-4113-a2bd-5e08c2f07ad7",
   "metadata": {},
   "source": [
    "## Бустинг\n",
    "\n",
    "Будем использовать модель LGBMClassifier, подбор гиперпараметров проведем с помощью GridSearchCV. Разделим данные на трейн и тест, и преобразуем их в специальный формат данных для этой модели."
   ]
  },
  {
   "cell_type": "code",
   "execution_count": 44,
   "id": "5736bd6a-3553-46c2-9b56-1d6eb63da0d8",
   "metadata": {},
   "outputs": [],
   "source": [
    "train_data = lgb.Dataset(X_train, label=y_train, categorical_feature=cat_cols)\n",
    "test_data = lgb.Dataset(X_test, label=y_test, reference=train_data)"
   ]
  },
  {
   "cell_type": "code",
   "execution_count": 45,
   "id": "14325565-925b-460e-b105-9a4d4dd7a8eb",
   "metadata": {},
   "outputs": [
    {
     "name": "stdout",
     "output_type": "stream",
     "text": [
      "Метрика ROC-AUC лучшей модели RandomForestClassifier на кросс-валидации равна 0.878\n",
      "Лучшая модель и ее гиперпараметры: \n",
      " LGBMClassifier(learning_rate=0.05, metric='auc', n_estimators=500,\n",
      "               random_state=17062024)\n"
     ]
    }
   ],
   "source": [
    "params_lgbmc = {\n",
    "    'learning_rate': [0.0005, 0.001, 0.01, 0.05, 0.1],\n",
    "    'n_estimators': [100, 200, 300, 500],\n",
    "    'num_leaves': [31, 71, 101, 151],\n",
    "    'class_weight': [None, 'balanced']\n",
    "}\n",
    "\n",
    "grid_lgbm = GridSearchCV(\n",
    "    LGBMClassifier(random_state=RANDOM_STATE, metric='auc'),\n",
    "    params_lgbmc,\n",
    "    scoring='roc_auc',\n",
    "    return_train_score=True,\n",
    "    cv=5\n",
    ")\n",
    "\n",
    "grid_lgbm.fit(train_data.data, train_data.label)\n",
    "\n",
    "print(f'Метрика ROC-AUC лучшей модели RandomForestClassifier на кросс-валидации равна {round(grid_lgbm.best_score_, 4)}')\n",
    "print('Лучшая модель и ее гиперпараметры: \\n', grid_lgbm.best_estimator_)"
   ]
  },
  {
   "cell_type": "markdown",
   "id": "a5ad7067-ee19-4c43-b9d2-ac31120c586a",
   "metadata": {},
   "source": [
    "## Запуск лучшей модели на тестовых данных"
   ]
  },
  {
   "cell_type": "code",
   "execution_count": 46,
   "id": "b807eeab-b127-4b32-af72-b0cf66348b2e",
   "metadata": {},
   "outputs": [],
   "source": [
    "model = grid_lgbm.best_estimator_"
   ]
  },
  {
   "cell_type": "code",
   "execution_count": 47,
   "id": "f61e495e-aade-4c56-8347-dda70df031a4",
   "metadata": {},
   "outputs": [
    {
     "name": "stdout",
     "output_type": "stream",
     "text": [
      "Время обучения лучшей выбранной модели - 0.78\n"
     ]
    }
   ],
   "source": [
    "start = time()\n",
    "model.fit(train_data.data, train_data.label)\n",
    "end = time()\n",
    "model_fit_time = round(end - start, 2)\n",
    "print(f'Время обучения лучшей выбранной модели - {model_fit_time}')"
   ]
  },
  {
   "cell_type": "code",
   "execution_count": 48,
   "id": "e3de4247-0ba3-49f7-bfce-2ec85b418d13",
   "metadata": {},
   "outputs": [
    {
     "name": "stdout",
     "output_type": "stream",
     "text": [
      "Время предсказания лучшей выбранной модели - 0.07\n"
     ]
    }
   ],
   "source": [
    "start = time()\n",
    "prediction = model.predict(test_data.data)\n",
    "end = time()\n",
    "model_predict_time = round(end - start, 2)\n",
    "print(f'Время предсказания лучшей выбранной модели - {model_predict_time}')\n",
    "\n",
    "\n",
    "pred_proba = model.predict_proba(test_data.data)[:,1]"
   ]
  },
  {
   "cell_type": "code",
   "execution_count": 49,
   "id": "331531e1-4ca7-4ab4-b6e7-101227971791",
   "metadata": {},
   "outputs": [
    {
     "name": "stdout",
     "output_type": "stream",
     "text": [
      "Метрика ROC-AUC на тестовых данных - 0.8908\n"
     ]
    }
   ],
   "source": [
    "test_metric = round(roc_auc_score(test_data.label, pred_proba), 4)\n",
    "print(f'Метрика ROC-AUC на тестовых данных - {test_metric}')"
   ]
  },
  {
   "cell_type": "markdown",
   "id": "8341e566",
   "metadata": {},
   "source": [
    "Метрика на тестовых данных удовлетворяет условию задачи и впринципе показывает неплохой резлультат. Можно перезодить к анализу модели. "
   ]
  },
  {
   "cell_type": "markdown",
   "id": "58a8eb51-178b-4760-8e06-1ecc99c48650",
   "metadata": {},
   "source": [
    "# Анализ лучшей модели"
   ]
  },
  {
   "cell_type": "markdown",
   "id": "2d7cff57-54cf-4c77-adde-b2d614e7485b",
   "metadata": {},
   "source": [
    "## Анализ важности признаков"
   ]
  },
  {
   "cell_type": "code",
   "execution_count": 50,
   "id": "acee5314-fb0d-497c-82e0-a7eb3410e38e",
   "metadata": {},
   "outputs": [
    {
     "data": {
      "text/html": [
       "<div>\n",
       "<style scoped>\n",
       "    .dataframe tbody tr th:only-of-type {\n",
       "        vertical-align: middle;\n",
       "    }\n",
       "\n",
       "    .dataframe tbody tr th {\n",
       "        vertical-align: top;\n",
       "    }\n",
       "\n",
       "    .dataframe thead th {\n",
       "        text-align: right;\n",
       "    }\n",
       "</style>\n",
       "<table border=\"1\" class=\"dataframe\">\n",
       "  <thead>\n",
       "    <tr style=\"text-align: right;\">\n",
       "      <th></th>\n",
       "      <th>feature</th>\n",
       "      <th>gain</th>\n",
       "    </tr>\n",
       "  </thead>\n",
       "  <tbody>\n",
       "    <tr>\n",
       "      <th>15</th>\n",
       "      <td>duration_days</td>\n",
       "      <td>5158</td>\n",
       "    </tr>\n",
       "    <tr>\n",
       "      <th>3</th>\n",
       "      <td>monthly_charges</td>\n",
       "      <td>3256</td>\n",
       "    </tr>\n",
       "    <tr>\n",
       "      <th>4</th>\n",
       "      <td>total_charges</td>\n",
       "      <td>2972</td>\n",
       "    </tr>\n",
       "    <tr>\n",
       "      <th>0</th>\n",
       "      <td>type</td>\n",
       "      <td>616</td>\n",
       "    </tr>\n",
       "    <tr>\n",
       "      <th>7</th>\n",
       "      <td>multiple_lines</td>\n",
       "      <td>355</td>\n",
       "    </tr>\n",
       "    <tr>\n",
       "      <th>6</th>\n",
       "      <td>partner</td>\n",
       "      <td>342</td>\n",
       "    </tr>\n",
       "    <tr>\n",
       "      <th>9</th>\n",
       "      <td>online_security</td>\n",
       "      <td>331</td>\n",
       "    </tr>\n",
       "    <tr>\n",
       "      <th>10</th>\n",
       "      <td>online_backup</td>\n",
       "      <td>288</td>\n",
       "    </tr>\n",
       "    <tr>\n",
       "      <th>11</th>\n",
       "      <td>device_protection</td>\n",
       "      <td>281</td>\n",
       "    </tr>\n",
       "    <tr>\n",
       "      <th>14</th>\n",
       "      <td>streaming_movies</td>\n",
       "      <td>280</td>\n",
       "    </tr>\n",
       "    <tr>\n",
       "      <th>1</th>\n",
       "      <td>paperless_billing</td>\n",
       "      <td>250</td>\n",
       "    </tr>\n",
       "    <tr>\n",
       "      <th>12</th>\n",
       "      <td>tech_support</td>\n",
       "      <td>245</td>\n",
       "    </tr>\n",
       "    <tr>\n",
       "      <th>13</th>\n",
       "      <td>streaming_tv</td>\n",
       "      <td>216</td>\n",
       "    </tr>\n",
       "    <tr>\n",
       "      <th>5</th>\n",
       "      <td>senior_citizen</td>\n",
       "      <td>198</td>\n",
       "    </tr>\n",
       "    <tr>\n",
       "      <th>2</th>\n",
       "      <td>payment_method</td>\n",
       "      <td>149</td>\n",
       "    </tr>\n",
       "    <tr>\n",
       "      <th>8</th>\n",
       "      <td>internet_service</td>\n",
       "      <td>63</td>\n",
       "    </tr>\n",
       "  </tbody>\n",
       "</table>\n",
       "</div>"
      ],
      "text/plain": [
       "              feature  gain\n",
       "15      duration_days  5158\n",
       "3     monthly_charges  3256\n",
       "4       total_charges  2972\n",
       "0                type   616\n",
       "7      multiple_lines   355\n",
       "6             partner   342\n",
       "9     online_security   331\n",
       "10      online_backup   288\n",
       "11  device_protection   281\n",
       "14   streaming_movies   280\n",
       "1   paperless_billing   250\n",
       "12       tech_support   245\n",
       "13       streaming_tv   216\n",
       "5      senior_citizen   198\n",
       "2      payment_method   149\n",
       "8    internet_service    63"
      ]
     },
     "metadata": {},
     "output_type": "display_data"
    },
    {
     "data": {
      "image/png": "[encoded data removed]",
      "text/plain": [
       "<Figure size 504x360 with 1 Axes>"
      ]
     },
     "metadata": {},
     "output_type": "display_data"
    }
   ],
   "source": [
    "gain_importance = model.feature_importances_\n",
    "feature_names = model.feature_name_\n",
    "gain_importance_df = pd.DataFrame({'feature': feature_names, 'gain': gain_importance})\n",
    "display(gain_importance_df.sort_values(by='gain', ascending=False))\n",
    "plt.figure(figsize=(7, 5))\n",
    "sns.barplot(data=gain_importance_df.sort_values(by='gain', ascending=False),\n",
    "            x='gain',\n",
    "            y='feature')\n",
    "plt.title('Диаграмма важности признаков',\n",
    "          fontsize=20,\n",
    "          fontweight='bold')  \n",
    "plt.show()"
   ]
  },
  {
   "cell_type": "markdown",
   "id": "ed6c1458-3ad4-4577-8efc-d30f3b7c2206",
   "metadata": {},
   "source": [
    "Самым важным признаком нашей модели оказался признак -  duration_days (продолжительность пользования услугами в днях). Так же очень важными для модели являются признаки: monthly_charges (размер месечной платы) и total_charges (общая сумма выплат).\n",
    "\n",
    "Остальные признаки были намного менее важны для модели и их значимость примерно одинаковая."
   ]
  },
  {
   "cell_type": "markdown",
   "id": "a642f13e-d7d5-4341-9773-d3d2c1e101e4",
   "metadata": {},
   "source": [
    "## ROC-кривая"
   ]
  },
  {
   "cell_type": "code",
   "execution_count": 51,
   "id": "fcd8b254-343c-4548-9348-4781a75ca8c1",
   "metadata": {},
   "outputs": [
    {
     "data": {
      "image/png": "[encoded data removed]",
      "text/plain": [
       "<Figure size 432x288 with 1 Axes>"
      ]
     },
     "metadata": {},
     "output_type": "display_data"
    }
   ],
   "source": [
    "fpr, tpr, _ = roc_curve(test_data.label,  pred_proba)\n",
    "\n",
    "plt.plot(fpr, tpr)\n",
    "plt.ylabel('True Positive Rate')\n",
    "plt.xlabel('False Positive Rate')\n",
    "plt.show()"
   ]
  },
  {
   "cell_type": "markdown",
   "id": "c1a6488e-523a-4794-9d09-7cc8a0cc6600",
   "metadata": {},
   "source": [
    "ROC-кривая возрастает не очень резко, это говорит о том, что моедель предсказывает данные не совсем точно. Но наша метрика и кривая так же говорит нам о том, что модель не переобучена и, что в среднем ее предсказания достаточно точные для данной задачи. Рассмотри как модедль предсказывает отдельные классы пользователей при помощи матрици ошибок.\n",
    "\n",
    "## Матрица ошибок и оценка accuracy"
   ]
  },
  {
   "cell_type": "code",
   "execution_count": 52,
   "id": "6b93822f-5f42-4b3a-9092-995c354361d3",
   "metadata": {},
   "outputs": [
    {
     "data": {
      "image/png": "[encoded data removed]",
      "text/plain": [
       "<Figure size 1080x576 with 2 Axes>"
      ]
     },
     "metadata": {},
     "output_type": "display_data"
    }
   ],
   "source": [
    "cm = confusion_matrix(test_data.label, model.predict(test_data.data))\n",
    "sns.set()\n",
    "plt.figure(figsize=(15,8))\n",
    "sns.heatmap(cm, annot=True, fmt='d', cmap='GnBu')\n",
    "plt.ylabel('Истинное значение')\n",
    "plt.xlabel('Предсказание');"
   ]
  },
  {
   "cell_type": "code",
   "execution_count": 53,
   "id": "0fcd2307-27fd-4101-b45d-12b06b5ad2ee",
   "metadata": {},
   "outputs": [
    {
     "name": "stdout",
     "output_type": "stream",
     "text": [
      "accuracy = 0.9006\n"
     ]
    }
   ],
   "source": [
    "print(f'accuracy = {round(accuracy_score(test_data.label, model.predict(test_data.data)), 4)}')"
   ]
  },
  {
   "cell_type": "markdown",
   "id": "3a1a737a-442c-49b4-b4a8-de3d64addeef",
   "metadata": {},
   "source": [
    "По полученным данным можно сказать, что наша модель хорошо справляется с поставленной задачей, потому что в матрице ошбок мало ложно-положительных и ложно-отрицательных значений - это хороший результат. Дисбаланс классов имеет небольшое влияние на модель модель чаще выдает ложноотрицательные значения.\n",
    "\n",
    "Метрика accuracy равная 0.9006 - означает, что общая предсказательная способность модели находится на высоком уровне."
   ]
  },
  {
   "cell_type": "markdown",
   "id": "e1af7bf9-b8ce-4ef4-aa9f-1c41fa8ea5cf",
   "metadata": {},
   "source": [
    "# Вывод по проделаной работе\n",
    "\n",
    "1. **Загрузка и знакомство с данными**\n",
    "      - На этапе первичного анализа все исходные датафреймы были объеденены в один\n",
    "      - Были откорректированы типы значений (даты, вещественные числа, категории). На этом этапе обаружилось 11 значений с пустой строкой, которые было невозможно корректно заменить и их пришлось удалить\n",
    "      - Были изучены их распределения всех признаков, выбросов выявлено небыло\n",
    "2. **Предобработка данных**\n",
    "      - На этапе предобработки данных были более подробно изучены выбосы в одном из числовых столбцов и было принято решение оставить это, так как это скорее не выбросы, а хвост из значений которые должны помочь обучить моедль\n",
    "      - Были сгенерированны признаки, во-первых целевой признак `target` он равен 0, если пользователь все еще пользуется услугами компании и 1, если пользователь разорвал договоры с компанией. Так же был сгенирирован признак `duration` \n",
    "      - продолжительность подписки на сервисы компании в днях. Он рассчитывается как **дата конца подписки** минус **дата начала подписки**, если есть дата окончания, если нет, то **дата конца подписки плюс один месяц** минус **дата начала подписки** чтобы модель отличала новых пользователей и не присваивала им 0 дней работы с компанией, так как жто может плохо сказаться на качетсве моделирования?\n",
    "      - Все пропуски в данных были заменены, так как пропуски возникили, потому что некоторые пользователи пользуются чем то одним, напиример только интернетом или только телефонией\n",
    "3. **Исследовательский анализ данных**\n",
    "     - На этапе исследовательского анализа был проведен анализ непрерывных и категориальных признаков в разрезе целевого\n",
    "     - Анализ непрерывных признаков в разрезе целевого:\n",
    "         - У всех непрерывных значений в разрезе целевого признака наблюдается странная закономерность - у людей разорвавших договр с компание все значения выше т.е. : чем больше пользователь платит за услугу тем больше вероятность того, что он разрввет контракт, так же, чем дольше пользователь пользуется услугами компании тем больше шанс, что он разорвет с ней контракт\n",
    "     - Анализ категориальных признаков в разрезе целевого:\n",
    "         - На этих данных можно заметить интересные тенденции:\n",
    "           - Пользователи с годовой и двух довой подпиской чаще расторгают контракт\n",
    "           - Пользователи которые пользуются какимилибо услугами компании чаще расторгают с ней контракт\n",
    "   \n",
    "         - Так же можно обнаружить некоторые столбцы, которые скорее всего окажутся бесполезными для работы модели:\n",
    "              - Гендер скорее всего вообще никак не влияет на желание пользоваться услугами компании (gender)\n",
    "              - Также почти никакого влияния не оказывает факт наличия или отсутсвия детей у абонента (dependents)\n",
    "         - Эти признаки были удалены\n",
    "4. **Подготовка к моделированию**\n",
    "      - Была рассмотрена матрица корреляции - в данных есть мультиколлениарность, но это не важно так как в проекте используются модели на основе деревье\n",
    "      - На этом этапе данные были разделены на обучающую и тестовую выборку\n",
    "5. **Обучение моделей**\n",
    "      - Были рассмотрены модели на основе деревьев: RandomForestClassifier и DecisionTreeClassifier. Их метрики на этапе кроссвалидации не перешли заданный порог (были меньше 0.85), поэтому было принято решение использовать модель градиентного бустинга\n",
    "      - Была обучена модель LGBMClassifier. При помощи библиотеки Optuna к ней были подобраны лучшие гиперпараметры. Лучшей оказалась модель с гиперпараметраи: `learning_rate`=0.05, `n_estimators`=500\n",
    "      - Метрика лучшей модели на кроссвалидации равна 0.8779, на тестовых данных 0.8908 - это говорит о том, что модель не переобучена.\n",
    "\n",
    "\n",
    "6. **Анализ лучшей модели и ее результатов**\n",
    "    - Исследование важности признаков модели: самым важным признаком нашей модели оказался признак - monthly_charges (размер месечной платы). Так же очень важными для модели являются признаки: duration_days (продолжительность пользования услугами в днях) и total_charges (общая сумма выплат). Остальные признаки были намного менее важны для модели и их значимость примерно одинаковая.\n",
    "    - ROC-кривая: ROC-кривая возрастает не очень резко, это говорит о том, что моедель предсказывает данные не совсем точно. Но наша метрика и кривая так же говорит нам о том, что модель не переобучена и, что в среднем ее предсказания достаточно точные для данной задачи. Рассмотри как модедль предсказывает отдельные классы пользователей при помощи матрици ошибок.\n",
    "    - По полученным данным можно сказать, что наша модель хорошо справляется с поставленной задачей, потому что в матрице ошбок мало ложно-положительных и ложно-отрицательных значений - это хороший результат. Дисбаланс классов имеет небольшое влияние на модель модель чаще выдает ложноотрицательные значения.\n",
    "\n",
    "    - Метрика accuracy равная 0.9006 - означает, что общая предсказательная способность модели находится на высоком уровне.\n"
   ]
  }
 ],
 "metadata": {
  "ExecuteTimeLog": [
   {
    "duration": 8326,
    "start_time": "2024-06-29T05:45:08.445Z"
   },
   {
    "duration": 1970,
    "start_time": "2024-06-29T05:45:16.774Z"
   },
   {
    "duration": 0,
    "start_time": "2024-06-29T05:45:18.747Z"
   },
   {
    "duration": 0,
    "start_time": "2024-06-29T05:45:18.749Z"
   },
   {
    "duration": 0,
    "start_time": "2024-06-29T05:45:18.750Z"
   },
   {
    "duration": 0,
    "start_time": "2024-06-29T05:45:18.752Z"
   },
   {
    "duration": 0,
    "start_time": "2024-06-29T05:45:18.753Z"
   },
   {
    "duration": 0,
    "start_time": "2024-06-29T05:45:18.755Z"
   },
   {
    "duration": 0,
    "start_time": "2024-06-29T05:45:18.757Z"
   },
   {
    "duration": 0,
    "start_time": "2024-06-29T05:45:18.758Z"
   },
   {
    "duration": 0,
    "start_time": "2024-06-29T05:45:18.759Z"
   },
   {
    "duration": 0,
    "start_time": "2024-06-29T05:45:18.760Z"
   },
   {
    "duration": 0,
    "start_time": "2024-06-29T05:45:18.762Z"
   },
   {
    "duration": 0,
    "start_time": "2024-06-29T05:45:18.763Z"
   },
   {
    "duration": 0,
    "start_time": "2024-06-29T05:45:18.765Z"
   },
   {
    "duration": 0,
    "start_time": "2024-06-29T05:45:18.766Z"
   },
   {
    "duration": 0,
    "start_time": "2024-06-29T05:45:18.792Z"
   },
   {
    "duration": 0,
    "start_time": "2024-06-29T05:45:18.794Z"
   },
   {
    "duration": 0,
    "start_time": "2024-06-29T05:45:18.795Z"
   },
   {
    "duration": 0,
    "start_time": "2024-06-29T05:45:18.796Z"
   },
   {
    "duration": 0,
    "start_time": "2024-06-29T05:45:18.799Z"
   },
   {
    "duration": 0,
    "start_time": "2024-06-29T05:45:18.800Z"
   },
   {
    "duration": 0,
    "start_time": "2024-06-29T05:45:18.801Z"
   },
   {
    "duration": 0,
    "start_time": "2024-06-29T05:45:18.802Z"
   },
   {
    "duration": 0,
    "start_time": "2024-06-29T05:45:18.803Z"
   },
   {
    "duration": 0,
    "start_time": "2024-06-29T05:45:18.804Z"
   },
   {
    "duration": 0,
    "start_time": "2024-06-29T05:45:18.805Z"
   },
   {
    "duration": 0,
    "start_time": "2024-06-29T05:45:18.806Z"
   },
   {
    "duration": 0,
    "start_time": "2024-06-29T05:45:18.807Z"
   },
   {
    "duration": 0,
    "start_time": "2024-06-29T05:45:18.808Z"
   },
   {
    "duration": 0,
    "start_time": "2024-06-29T05:45:18.809Z"
   },
   {
    "duration": 0,
    "start_time": "2024-06-29T05:45:18.810Z"
   },
   {
    "duration": 0,
    "start_time": "2024-06-29T05:45:18.811Z"
   },
   {
    "duration": 0,
    "start_time": "2024-06-29T05:45:18.812Z"
   },
   {
    "duration": 0,
    "start_time": "2024-06-29T05:45:18.813Z"
   },
   {
    "duration": 0,
    "start_time": "2024-06-29T05:45:18.814Z"
   },
   {
    "duration": 1,
    "start_time": "2024-06-29T05:45:18.815Z"
   },
   {
    "duration": 0,
    "start_time": "2024-06-29T05:45:18.817Z"
   },
   {
    "duration": 0,
    "start_time": "2024-06-29T05:45:18.818Z"
   },
   {
    "duration": 0,
    "start_time": "2024-06-29T05:45:18.819Z"
   },
   {
    "duration": 0,
    "start_time": "2024-06-29T05:45:18.820Z"
   },
   {
    "duration": 0,
    "start_time": "2024-06-29T05:45:18.821Z"
   },
   {
    "duration": 0,
    "start_time": "2024-06-29T05:45:18.822Z"
   },
   {
    "duration": 0,
    "start_time": "2024-06-29T05:45:18.823Z"
   },
   {
    "duration": 0,
    "start_time": "2024-06-29T05:45:18.825Z"
   },
   {
    "duration": 0,
    "start_time": "2024-06-29T05:45:18.825Z"
   },
   {
    "duration": 0,
    "start_time": "2024-06-29T05:45:18.827Z"
   },
   {
    "duration": 0,
    "start_time": "2024-06-29T05:45:18.828Z"
   },
   {
    "duration": 0,
    "start_time": "2024-06-29T05:45:18.829Z"
   },
   {
    "duration": 0,
    "start_time": "2024-06-29T05:45:18.892Z"
   },
   {
    "duration": 0,
    "start_time": "2024-06-29T05:45:18.893Z"
   },
   {
    "duration": 0,
    "start_time": "2024-06-29T05:45:18.894Z"
   },
   {
    "duration": 0,
    "start_time": "2024-06-29T05:45:18.895Z"
   }
  ],
  "kernelspec": {
   "display_name": "Python 3 (ipykernel)",
   "language": "python",
   "name": "python3"
  },
  "language_info": {
   "codemirror_mode": {
    "name": "ipython",
    "version": 3
   },
   "file_extension": ".py",
   "mimetype": "text/x-python",
   "name": "python",
   "nbconvert_exporter": "python",
   "pygments_lexer": "ipython3",
   "version": "3.9.5"
  },
  "toc": {
   "base_numbering": 1,
   "nav_menu": {},
   "number_sections": true,
   "sideBar": true,
   "skip_h1_title": true,
   "title_cell": "Table of Contents",
   "title_sidebar": "Contents",
   "toc_cell": false,
   "toc_position": {},
   "toc_section_display": true,
   "toc_window_display": false
  }
 },
 "nbformat": 4,
 "nbformat_minor": 5
}
