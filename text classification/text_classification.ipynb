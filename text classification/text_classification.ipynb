{
 "cells": [
  {
   "cell_type": "markdown",
   "id": "8e683167-7ede-4f62-8fe0-f7726dbcdf5a",
   "metadata": {},
   "source": [
    "# Проект: Классификация текстов\n"
   ]
  },
  {
   "cell_type": "markdown",
   "id": "0d20d1cd-dce7-47cc-bffb-5e6a608a36c0",
   "metadata": {},
   "source": [
    "## Описание проекта\n",
    "\n",
    "Интернет-магазин «Викишоп» запускает новый сервис. Теперь пользователи могут редактировать и дополнять описания товаров, как в вики-сообществах. То есть клиенты предлагают свои правки и комментируют изменения других. Магазину нужен инструмент, который будет искать токсичные комментарии и отправлять их на модерацию. \n",
    "\n",
    "## Задача\n",
    "\n",
    "Созадть модель классификации комментариев на позитивные и негативные. В нашем распоряжении набор данных с разметкой о токсичности правок. Необходимо построить модель со значением метрики качества F1 не меньше 0.75.\n",
    "\n",
    "## Техническое задание \n",
    "\n",
    "1. Загрузка и знакомство с данными\n",
    "    - Проверка на наличие пропусков и дубликатов\n",
    "2. Подготовка данных\n",
    "    - Лемматизация текста\n",
    "3. Кросс-валидация\n",
    "    - Создать пайплайны\n",
    "    - Протестировать различные модели на кросс валидации, выбрать лучшую\n",
    "4. Проверка модели на тесте\n",
    "    - Проверить модель на тестовых данных\n",
    "    - Проинтерпретировать модель"
   ]
  },
  {
   "cell_type": "markdown",
   "id": "b60541b0-fc97-4bad-b928-dfa9ebab1e69",
   "metadata": {},
   "source": [
    "## Все необходимые загрузки и импорты"
   ]
  },
  {
   "cell_type": "code",
   "execution_count": 1,
   "id": "84b8c3a4-c839-4e0f-9f80-1a70b6e8b8a6",
   "metadata": {},
   "outputs": [
    {
     "name": "stdout",
     "output_type": "stream",
     "text": [
      "Requirement already satisfied: spacy==3.2.6 in c:\\users\\сергей\\appdata\\local\\programs\\python\\python39\\lib\\site-packages (3.2.6)\n",
      "Requirement already satisfied: spacy-legacy<3.1.0,>=3.0.8 in c:\\users\\сергей\\appdata\\local\\programs\\python\\python39\\lib\\site-packages (from spacy==3.2.6) (3.0.10)\n",
      "Requirement already satisfied: spacy-loggers<2.0.0,>=1.0.0 in c:\\users\\сергей\\appdata\\local\\programs\\python\\python39\\lib\\site-packages (from spacy==3.2.6) (1.0.3)\n",
      "Requirement already satisfied: murmurhash<1.1.0,>=0.28.0 in c:\\users\\сергей\\appdata\\local\\programs\\python\\python39\\lib\\site-packages (from spacy==3.2.6) (1.0.8)\n",
      "Requirement already satisfied: cymem<2.1.0,>=2.0.2 in c:\\users\\сергей\\appdata\\local\\programs\\python\\python39\\lib\\site-packages (from spacy==3.2.6) (2.0.6)\n",
      "Requirement already satisfied: preshed<3.1.0,>=3.0.2 in c:\\users\\сергей\\appdata\\local\\programs\\python\\python39\\lib\\site-packages (from spacy==3.2.6) (3.0.7)\n",
      "Requirement already satisfied: thinc<8.1.0,>=8.0.12 in c:\\users\\сергей\\appdata\\local\\programs\\python\\python39\\lib\\site-packages (from spacy==3.2.6) (8.0.17)\n",
      "Requirement already satisfied: blis<0.8.0,>=0.4.0 in c:\\users\\сергей\\appdata\\local\\programs\\python\\python39\\lib\\site-packages (from spacy==3.2.6) (0.7.8)\n",
      "Requirement already satisfied: wasabi<1.1.0,>=0.8.1 in c:\\users\\сергей\\appdata\\local\\programs\\python\\python39\\lib\\site-packages (from spacy==3.2.6) (0.10.1)\n",
      "Requirement already satisfied: srsly<3.0.0,>=2.4.1 in c:\\users\\сергей\\appdata\\local\\programs\\python\\python39\\lib\\site-packages (from spacy==3.2.6) (2.4.4)\n",
      "Requirement already satisfied: catalogue<2.1.0,>=2.0.6 in c:\\users\\сергей\\appdata\\local\\programs\\python\\python39\\lib\\site-packages (from spacy==3.2.6) (2.0.8)\n",
      "Requirement already satisfied: typer<0.5.0,>=0.3.0 in c:\\users\\сергей\\appdata\\local\\programs\\python\\python39\\lib\\site-packages (from spacy==3.2.6) (0.4.2)\n",
      "Requirement already satisfied: pathy>=0.3.5 in c:\\users\\сергей\\appdata\\local\\programs\\python\\python39\\lib\\site-packages (from spacy==3.2.6) (0.6.2)\n",
      "Requirement already satisfied: smart-open<7.0.0,>=5.2.1 in c:\\users\\сергей\\appdata\\local\\programs\\python\\python39\\lib\\site-packages (from spacy==3.2.6) (5.2.1)\n",
      "Requirement already satisfied: tqdm<5.0.0,>=4.38.0 in c:\\users\\сергей\\appdata\\local\\programs\\python\\python39\\lib\\site-packages (from spacy==3.2.6) (4.61.2)\n",
      "Requirement already satisfied: numpy>=1.15.0 in c:\\users\\сергей\\appdata\\local\\programs\\python\\python39\\lib\\site-packages (from spacy==3.2.6) (1.21.1)\n",
      "Requirement already satisfied: requests<3.0.0,>=2.13.0 in c:\\users\\сергей\\appdata\\local\\programs\\python\\python39\\lib\\site-packages (from spacy==3.2.6) (2.25.1)\n",
      "Requirement already satisfied: pydantic!=1.8,!=1.8.1,<1.9.0,>=1.7.4 in c:\\users\\сергей\\appdata\\local\\programs\\python\\python39\\lib\\site-packages (from spacy==3.2.6) (1.8.2)\n",
      "Requirement already satisfied: jinja2 in c:\\users\\сергей\\appdata\\local\\programs\\python\\python39\\lib\\site-packages (from spacy==3.2.6) (3.0.1)\n",
      "Requirement already satisfied: setuptools in c:\\users\\сергей\\appdata\\local\\programs\\python\\python39\\lib\\site-packages (from spacy==3.2.6) (56.0.0)\n",
      "Requirement already satisfied: packaging>=20.0 in c:\\users\\сергей\\appdata\\local\\programs\\python\\python39\\lib\\site-packages (from spacy==3.2.6) (21.3)\n",
      "Requirement already satisfied: typing-extensions<4.6.0,>=3.7.4.1 in c:\\users\\сергей\\appdata\\local\\programs\\python\\python39\\lib\\site-packages (from spacy==3.2.6) (4.5.0)\n",
      "Requirement already satisfied: langcodes<4.0.0,>=3.2.0 in c:\\users\\сергей\\appdata\\local\\programs\\python\\python39\\lib\\site-packages (from spacy==3.2.6) (3.3.0)\n",
      "Requirement already satisfied: pyparsing!=3.0.5,>=2.0.2 in c:\\users\\сергей\\appdata\\local\\programs\\python\\python39\\lib\\site-packages (from packaging>=20.0->spacy==3.2.6) (2.4.7)\n",
      "Requirement already satisfied: chardet<5,>=3.0.2 in c:\\users\\сергей\\appdata\\local\\programs\\python\\python39\\lib\\site-packages (from requests<3.0.0,>=2.13.0->spacy==3.2.6) (4.0.0)\n",
      "Requirement already satisfied: idna<3,>=2.5 in c:\\users\\сергей\\appdata\\local\\programs\\python\\python39\\lib\\site-packages (from requests<3.0.0,>=2.13.0->spacy==3.2.6) (2.10)\n",
      "Requirement already satisfied: urllib3<1.27,>=1.21.1 in c:\\users\\сергей\\appdata\\local\\programs\\python\\python39\\lib\\site-packages (from requests<3.0.0,>=2.13.0->spacy==3.2.6) (1.26.6)\n",
      "Requirement already satisfied: certifi>=2017.4.17 in c:\\users\\сергей\\appdata\\local\\programs\\python\\python39\\lib\\site-packages (from requests<3.0.0,>=2.13.0->spacy==3.2.6) (2022.6.15)\n",
      "Requirement already satisfied: colorama in c:\\users\\сергей\\appdata\\local\\programs\\python\\python39\\lib\\site-packages (from tqdm<5.0.0,>=4.38.0->spacy==3.2.6) (0.4.6)\n",
      "Requirement already satisfied: click<9.0.0,>=7.1.1 in c:\\users\\сергей\\appdata\\local\\programs\\python\\python39\\lib\\site-packages (from typer<0.5.0,>=0.3.0->spacy==3.2.6) (8.1.3)\n",
      "Requirement already satisfied: MarkupSafe>=2.0 in c:\\users\\сергей\\appdata\\local\\programs\\python\\python39\\lib\\site-packages (from jinja2->spacy==3.2.6) (2.1.1)\n"
     ]
    },
    {
     "name": "stderr",
     "output_type": "stream",
     "text": [
      "WARNING: Ignoring invalid distribution -illow (c:\\users\\сергей\\appdata\\local\\programs\\python\\python39\\lib\\site-packages)\n",
      "WARNING: Ignoring invalid distribution -illow (c:\\users\\сергей\\appdata\\local\\programs\\python\\python39\\lib\\site-packages)\n",
      "\n",
      "[notice] A new release of pip is available: 23.2.1 -> 24.0\n",
      "[notice] To update, run: python.exe -m pip install --upgrade pip\n"
     ]
    },
    {
     "name": "stdout",
     "output_type": "stream",
     "text": [
      "Collecting en-core-web-sm==3.2.0\n",
      "  Downloading https://github.com/explosion/spacy-models/releases/download/en_core_web_sm-3.2.0/en_core_web_sm-3.2.0-py3-none-any.whl (13.9 MB)\n",
      "     -------------------------------------- 13.9/13.9 MB 173.4 kB/s eta 0:00:00\n",
      "Requirement already satisfied: spacy<3.3.0,>=3.2.0 in c:\\users\\сергей\\appdata\\local\\programs\\python\\python39\\lib\\site-packages (from en-core-web-sm==3.2.0) (3.2.6)\n",
      "Requirement already satisfied: spacy-legacy<3.1.0,>=3.0.8 in c:\\users\\сергей\\appdata\\local\\programs\\python\\python39\\lib\\site-packages (from spacy<3.3.0,>=3.2.0->en-core-web-sm==3.2.0) (3.0.10)\n",
      "Requirement already satisfied: spacy-loggers<2.0.0,>=1.0.0 in c:\\users\\сергей\\appdata\\local\\programs\\python\\python39\\lib\\site-packages (from spacy<3.3.0,>=3.2.0->en-core-web-sm==3.2.0) (1.0.3)\n",
      "Requirement already satisfied: murmurhash<1.1.0,>=0.28.0 in c:\\users\\сергей\\appdata\\local\\programs\\python\\python39\\lib\\site-packages (from spacy<3.3.0,>=3.2.0->en-core-web-sm==3.2.0) (1.0.8)\n",
      "Requirement already satisfied: cymem<2.1.0,>=2.0.2 in c:\\users\\сергей\\appdata\\local\\programs\\python\\python39\\lib\\site-packages (from spacy<3.3.0,>=3.2.0->en-core-web-sm==3.2.0) (2.0.6)\n",
      "Requirement already satisfied: preshed<3.1.0,>=3.0.2 in c:\\users\\сергей\\appdata\\local\\programs\\python\\python39\\lib\\site-packages (from spacy<3.3.0,>=3.2.0->en-core-web-sm==3.2.0) (3.0.7)\n",
      "Requirement already satisfied: thinc<8.1.0,>=8.0.12 in c:\\users\\сергей\\appdata\\local\\programs\\python\\python39\\lib\\site-packages (from spacy<3.3.0,>=3.2.0->en-core-web-sm==3.2.0) (8.0.17)\n",
      "Requirement already satisfied: blis<0.8.0,>=0.4.0 in c:\\users\\сергей\\appdata\\local\\programs\\python\\python39\\lib\\site-packages (from spacy<3.3.0,>=3.2.0->en-core-web-sm==3.2.0) (0.7.8)\n",
      "Requirement already satisfied: wasabi<1.1.0,>=0.8.1 in c:\\users\\сергей\\appdata\\local\\programs\\python\\python39\\lib\\site-packages (from spacy<3.3.0,>=3.2.0->en-core-web-sm==3.2.0) (0.10.1)\n",
      "Requirement already satisfied: srsly<3.0.0,>=2.4.1 in c:\\users\\сергей\\appdata\\local\\programs\\python\\python39\\lib\\site-packages (from spacy<3.3.0,>=3.2.0->en-core-web-sm==3.2.0) (2.4.4)\n",
      "Requirement already satisfied: catalogue<2.1.0,>=2.0.6 in c:\\users\\сергей\\appdata\\local\\programs\\python\\python39\\lib\\site-packages (from spacy<3.3.0,>=3.2.0->en-core-web-sm==3.2.0) (2.0.8)\n",
      "Requirement already satisfied: typer<0.5.0,>=0.3.0 in c:\\users\\сергей\\appdata\\local\\programs\\python\\python39\\lib\\site-packages (from spacy<3.3.0,>=3.2.0->en-core-web-sm==3.2.0) (0.4.2)\n",
      "Requirement already satisfied: pathy>=0.3.5 in c:\\users\\сергей\\appdata\\local\\programs\\python\\python39\\lib\\site-packages (from spacy<3.3.0,>=3.2.0->en-core-web-sm==3.2.0) (0.6.2)\n",
      "Requirement already satisfied: smart-open<7.0.0,>=5.2.1 in c:\\users\\сергей\\appdata\\local\\programs\\python\\python39\\lib\\site-packages (from spacy<3.3.0,>=3.2.0->en-core-web-sm==3.2.0) (5.2.1)\n",
      "Requirement already satisfied: tqdm<5.0.0,>=4.38.0 in c:\\users\\сергей\\appdata\\local\\programs\\python\\python39\\lib\\site-packages (from spacy<3.3.0,>=3.2.0->en-core-web-sm==3.2.0) (4.61.2)\n",
      "Requirement already satisfied: numpy>=1.15.0 in c:\\users\\сергей\\appdata\\local\\programs\\python\\python39\\lib\\site-packages (from spacy<3.3.0,>=3.2.0->en-core-web-sm==3.2.0) (1.21.1)\n",
      "Requirement already satisfied: requests<3.0.0,>=2.13.0 in c:\\users\\сергей\\appdata\\local\\programs\\python\\python39\\lib\\site-packages (from spacy<3.3.0,>=3.2.0->en-core-web-sm==3.2.0) (2.25.1)\n",
      "Requirement already satisfied: pydantic!=1.8,!=1.8.1,<1.9.0,>=1.7.4 in c:\\users\\сергей\\appdata\\local\\programs\\python\\python39\\lib\\site-packages (from spacy<3.3.0,>=3.2.0->en-core-web-sm==3.2.0) (1.8.2)\n",
      "Requirement already satisfied: jinja2 in c:\\users\\сергей\\appdata\\local\\programs\\python\\python39\\lib\\site-packages (from spacy<3.3.0,>=3.2.0->en-core-web-sm==3.2.0) (3.0.1)\n",
      "Requirement already satisfied: setuptools in c:\\users\\сергей\\appdata\\local\\programs\\python\\python39\\lib\\site-packages (from spacy<3.3.0,>=3.2.0->en-core-web-sm==3.2.0) (56.0.0)\n",
      "Requirement already satisfied: packaging>=20.0 in c:\\users\\сергей\\appdata\\local\\programs\\python\\python39\\lib\\site-packages (from spacy<3.3.0,>=3.2.0->en-core-web-sm==3.2.0) (21.3)\n",
      "Requirement already satisfied: typing-extensions<4.6.0,>=3.7.4.1 in c:\\users\\сергей\\appdata\\local\\programs\\python\\python39\\lib\\site-packages (from spacy<3.3.0,>=3.2.0->en-core-web-sm==3.2.0) (4.5.0)\n"
     ]
    },
    {
     "name": "stderr",
     "output_type": "stream",
     "text": [
      "WARNING: Ignoring invalid distribution -illow (c:\\users\\сергей\\appdata\\local\\programs\\python\\python39\\lib\\site-packages)\n",
      "WARNING: Ignoring invalid distribution -illow (c:\\users\\сергей\\appdata\\local\\programs\\python\\python39\\lib\\site-packages)\n",
      "\n",
      "[notice] A new release of pip is available: 23.2.1 -> 24.0\n",
      "[notice] To update, run: python.exe -m pip install --upgrade pip\n"
     ]
    },
    {
     "name": "stdout",
     "output_type": "stream",
     "text": [
      "Requirement already satisfied: langcodes<4.0.0,>=3.2.0 in c:\\users\\сергей\\appdata\\local\\programs\\python\\python39\\lib\\site-packages (from spacy<3.3.0,>=3.2.0->en-core-web-sm==3.2.0) (3.3.0)\n",
      "Requirement already satisfied: pyparsing!=3.0.5,>=2.0.2 in c:\\users\\сергей\\appdata\\local\\programs\\python\\python39\\lib\\site-packages (from packaging>=20.0->spacy<3.3.0,>=3.2.0->en-core-web-sm==3.2.0) (2.4.7)\n",
      "Requirement already satisfied: chardet<5,>=3.0.2 in c:\\users\\сергей\\appdata\\local\\programs\\python\\python39\\lib\\site-packages (from requests<3.0.0,>=2.13.0->spacy<3.3.0,>=3.2.0->en-core-web-sm==3.2.0) (4.0.0)\n",
      "Requirement already satisfied: idna<3,>=2.5 in c:\\users\\сергей\\appdata\\local\\programs\\python\\python39\\lib\\site-packages (from requests<3.0.0,>=2.13.0->spacy<3.3.0,>=3.2.0->en-core-web-sm==3.2.0) (2.10)\n",
      "Requirement already satisfied: urllib3<1.27,>=1.21.1 in c:\\users\\сергей\\appdata\\local\\programs\\python\\python39\\lib\\site-packages (from requests<3.0.0,>=2.13.0->spacy<3.3.0,>=3.2.0->en-core-web-sm==3.2.0) (1.26.6)\n",
      "Requirement already satisfied: certifi>=2017.4.17 in c:\\users\\сергей\\appdata\\local\\programs\\python\\python39\\lib\\site-packages (from requests<3.0.0,>=2.13.0->spacy<3.3.0,>=3.2.0->en-core-web-sm==3.2.0) (2022.6.15)\n",
      "Requirement already satisfied: colorama in c:\\users\\сергей\\appdata\\local\\programs\\python\\python39\\lib\\site-packages (from tqdm<5.0.0,>=4.38.0->spacy<3.3.0,>=3.2.0->en-core-web-sm==3.2.0) (0.4.6)\n",
      "Requirement already satisfied: click<9.0.0,>=7.1.1 in c:\\users\\сергей\\appdata\\local\\programs\\python\\python39\\lib\\site-packages (from typer<0.5.0,>=0.3.0->spacy<3.3.0,>=3.2.0->en-core-web-sm==3.2.0) (8.1.3)\n",
      "Requirement already satisfied: MarkupSafe>=2.0 in c:\\users\\сергей\\appdata\\local\\programs\\python\\python39\\lib\\site-packages (from jinja2->spacy<3.3.0,>=3.2.0->en-core-web-sm==3.2.0) (2.1.1)\n",
      "[!] As of spaCy v3.0, shortcuts like 'en' are deprecated. Please use the full\n",
      "pipeline package name 'en_core_web_sm' instead.\n",
      "[+] Download and installation successful\n",
      "You can now load the package via spacy.load('en_core_web_sm')\n"
     ]
    }
   ],
   "source": [
    "import sys\n",
    "\n",
    "!{sys.executable} -m pip install spacy==3.2.6\n",
    "!{sys.executable} -m spacy download en"
   ]
  },
  {
   "cell_type": "code",
   "execution_count": 2,
   "id": "d6585754-48fe-4948-8239-439a4fe37169",
   "metadata": {},
   "outputs": [
    {
     "name": "stderr",
     "output_type": "stream",
     "text": [
      "[nltk_data] Downloading package omw-1.4 to\n",
      "[nltk_data]     C:\\Users\\Сергей\\AppData\\Roaming\\nltk_data...\n",
      "[nltk_data]   Package omw-1.4 is already up-to-date!\n",
      "[nltk_data] Downloading package punkt to\n",
      "[nltk_data]     C:\\Users\\Сергей\\AppData\\Roaming\\nltk_data...\n",
      "[nltk_data]   Package punkt is already up-to-date!\n"
     ]
    }
   ],
   "source": [
    "import re\n",
    "import time\n",
    "import spacy\n",
    "import nltk\n",
    "\n",
    "import pandas as pd\n",
    "import seaborn as sns\n",
    "import matplotlib.pyplot as plt\n",
    "\n",
    "\n",
    "from tqdm.notebook import tqdm_notebook as tqdm\n",
    "\n",
    "from spacy.lang.en.stop_words import STOP_WORDS\n",
    "\n",
    "from nltk.stem import SnowballStemmer\n",
    "\n",
    "from sklearn.feature_extraction.text import TfidfVectorizer\n",
    "from sklearn.linear_model import LogisticRegression\n",
    "from sklearn.tree import DecisionTreeClassifier\n",
    "from sklearn.ensemble import RandomForestClassifier\n",
    "from sklearn.model_selection import train_test_split, GridSearchCV\n",
    "from sklearn.metrics import f1_score, confusion_matrix\n",
    "from sklearn.pipeline import Pipeline\n",
    "\n",
    "from lightgbm import LGBMClassifier\n",
    "\n",
    "\n",
    "nltk.download('omw-1.4')\n",
    "nltk.download('punkt')\n",
    "stop_words = set(STOP_WORDS)\n",
    "pd.set_option('display.max_colwidth', None)\n",
    "\n",
    "RANDOM_STATE = 42\n",
    "\n",
    "\n"
   ]
  },
  {
   "cell_type": "markdown",
   "id": "6b56b717-a10a-45fc-b89f-d173337fd1ef",
   "metadata": {},
   "source": [
    "## Загрузка данных и EDA"
   ]
  },
  {
   "cell_type": "code",
   "execution_count": 3,
   "id": "bfb10ad9-4f06-4d81-8632-0338b07ffd49",
   "metadata": {},
   "outputs": [
    {
     "data": {
      "text/html": [
       "<div>\n",
       "<style scoped>\n",
       "    .dataframe tbody tr th:only-of-type {\n",
       "        vertical-align: middle;\n",
       "    }\n",
       "\n",
       "    .dataframe tbody tr th {\n",
       "        vertical-align: top;\n",
       "    }\n",
       "\n",
       "    .dataframe thead th {\n",
       "        text-align: right;\n",
       "    }\n",
       "</style>\n",
       "<table border=\"1\" class=\"dataframe\">\n",
       "  <thead>\n",
       "    <tr style=\"text-align: right;\">\n",
       "      <th></th>\n",
       "      <th>Unnamed: 0</th>\n",
       "      <th>text</th>\n",
       "      <th>toxic</th>\n",
       "    </tr>\n",
       "  </thead>\n",
       "  <tbody>\n",
       "    <tr>\n",
       "      <th>0</th>\n",
       "      <td>0</td>\n",
       "      <td>Explanation\\nWhy the edits made under my username Hardcore Metallica Fan were reverted? They weren't vandalisms, just closure on some GAs after I voted at New York Dolls FAC. And please don't remove the template from the talk page since I'm retired now.89.205.38.27</td>\n",
       "      <td>0</td>\n",
       "    </tr>\n",
       "    <tr>\n",
       "      <th>1</th>\n",
       "      <td>1</td>\n",
       "      <td>D'aww! He matches this background colour I'm seemingly stuck with. Thanks.  (talk) 21:51, January 11, 2016 (UTC)</td>\n",
       "      <td>0</td>\n",
       "    </tr>\n",
       "    <tr>\n",
       "      <th>2</th>\n",
       "      <td>2</td>\n",
       "      <td>Hey man, I'm really not trying to edit war. It's just that this guy is constantly removing relevant information and talking to me through edits instead of my talk page. He seems to care more about the formatting than the actual info.</td>\n",
       "      <td>0</td>\n",
       "    </tr>\n",
       "    <tr>\n",
       "      <th>3</th>\n",
       "      <td>3</td>\n",
       "      <td>\"\\nMore\\nI can't make any real suggestions on improvement - I wondered if the section statistics should be later on, or a subsection of \"\"types of accidents\"\"  -I think the references may need tidying so that they are all in the exact same format ie date format etc. I can do that later on, if no-one else does first - if you have any preferences for formatting style on references or want to do it yourself please let me know.\\n\\nThere appears to be a backlog on articles for review so I guess there may be a delay until a reviewer turns up. It's listed in the relevant form eg Wikipedia:Good_article_nominations#Transport  \"</td>\n",
       "      <td>0</td>\n",
       "    </tr>\n",
       "    <tr>\n",
       "      <th>4</th>\n",
       "      <td>4</td>\n",
       "      <td>You, sir, are my hero. Any chance you remember what page that's on?</td>\n",
       "      <td>0</td>\n",
       "    </tr>\n",
       "  </tbody>\n",
       "</table>\n",
       "</div>"
      ],
      "text/plain": [
       "   Unnamed: 0  \\\n",
       "0           0   \n",
       "1           1   \n",
       "2           2   \n",
       "3           3   \n",
       "4           4   \n",
       "\n",
       "                                                                                                                                                                                                                                                                                                                                                                                                                                                                                                                                                                                                                                                 text  \\\n",
       "0                                                                                                                                                                                                                                                                                                                                                                           Explanation\\nWhy the edits made under my username Hardcore Metallica Fan were reverted? They weren't vandalisms, just closure on some GAs after I voted at New York Dolls FAC. And please don't remove the template from the talk page since I'm retired now.89.205.38.27   \n",
       "1                                                                                                                                                                                                                                                                                                                                                                                                                                                                                                                                    D'aww! He matches this background colour I'm seemingly stuck with. Thanks.  (talk) 21:51, January 11, 2016 (UTC)   \n",
       "2                                                                                                                                                                                                                                                                                                                                                                                                           Hey man, I'm really not trying to edit war. It's just that this guy is constantly removing relevant information and talking to me through edits instead of my talk page. He seems to care more about the formatting than the actual info.   \n",
       "3  \"\\nMore\\nI can't make any real suggestions on improvement - I wondered if the section statistics should be later on, or a subsection of \"\"types of accidents\"\"  -I think the references may need tidying so that they are all in the exact same format ie date format etc. I can do that later on, if no-one else does first - if you have any preferences for formatting style on references or want to do it yourself please let me know.\\n\\nThere appears to be a backlog on articles for review so I guess there may be a delay until a reviewer turns up. It's listed in the relevant form eg Wikipedia:Good_article_nominations#Transport  \"   \n",
       "4                                                                                                                                                                                                                                                                                                                                                                                                                                                                                                                                                                                 You, sir, are my hero. Any chance you remember what page that's on?   \n",
       "\n",
       "   toxic  \n",
       "0      0  \n",
       "1      0  \n",
       "2      0  \n",
       "3      0  \n",
       "4      0  "
      ]
     },
     "execution_count": 3,
     "metadata": {},
     "output_type": "execute_result"
    }
   ],
   "source": [
    "try:\n",
    "    data = pd.read_csv('datasets/toxic_comments.csv')\n",
    "except:\n",
    "    data = pd.read_csv('/datasets/toxic_comments.csv')\n",
    "    \n",
    "data.head()"
   ]
  },
  {
   "cell_type": "markdown",
   "id": "1caea7eb-21d4-43b1-947a-05e8da3cb228",
   "metadata": {},
   "source": [
    "Удалим непонятный столбец дублирующий индексы, скорее всего он добавлен случайно."
   ]
  },
  {
   "cell_type": "code",
   "execution_count": 4,
   "id": "e87c8876-aef0-474b-a2bc-ffcae5a0c1af",
   "metadata": {},
   "outputs": [
    {
     "data": {
      "text/html": [
       "<div>\n",
       "<style scoped>\n",
       "    .dataframe tbody tr th:only-of-type {\n",
       "        vertical-align: middle;\n",
       "    }\n",
       "\n",
       "    .dataframe tbody tr th {\n",
       "        vertical-align: top;\n",
       "    }\n",
       "\n",
       "    .dataframe thead th {\n",
       "        text-align: right;\n",
       "    }\n",
       "</style>\n",
       "<table border=\"1\" class=\"dataframe\">\n",
       "  <thead>\n",
       "    <tr style=\"text-align: right;\">\n",
       "      <th></th>\n",
       "      <th>text</th>\n",
       "      <th>toxic</th>\n",
       "    </tr>\n",
       "  </thead>\n",
       "  <tbody>\n",
       "    <tr>\n",
       "      <th>0</th>\n",
       "      <td>Explanation\\nWhy the edits made under my username Hardcore Metallica Fan were reverted? They weren't vandalisms, just closure on some GAs after I voted at New York Dolls FAC. And please don't remove the template from the talk page since I'm retired now.89.205.38.27</td>\n",
       "      <td>0</td>\n",
       "    </tr>\n",
       "    <tr>\n",
       "      <th>1</th>\n",
       "      <td>D'aww! He matches this background colour I'm seemingly stuck with. Thanks.  (talk) 21:51, January 11, 2016 (UTC)</td>\n",
       "      <td>0</td>\n",
       "    </tr>\n",
       "    <tr>\n",
       "      <th>2</th>\n",
       "      <td>Hey man, I'm really not trying to edit war. It's just that this guy is constantly removing relevant information and talking to me through edits instead of my talk page. He seems to care more about the formatting than the actual info.</td>\n",
       "      <td>0</td>\n",
       "    </tr>\n",
       "    <tr>\n",
       "      <th>3</th>\n",
       "      <td>\"\\nMore\\nI can't make any real suggestions on improvement - I wondered if the section statistics should be later on, or a subsection of \"\"types of accidents\"\"  -I think the references may need tidying so that they are all in the exact same format ie date format etc. I can do that later on, if no-one else does first - if you have any preferences for formatting style on references or want to do it yourself please let me know.\\n\\nThere appears to be a backlog on articles for review so I guess there may be a delay until a reviewer turns up. It's listed in the relevant form eg Wikipedia:Good_article_nominations#Transport  \"</td>\n",
       "      <td>0</td>\n",
       "    </tr>\n",
       "    <tr>\n",
       "      <th>4</th>\n",
       "      <td>You, sir, are my hero. Any chance you remember what page that's on?</td>\n",
       "      <td>0</td>\n",
       "    </tr>\n",
       "  </tbody>\n",
       "</table>\n",
       "</div>"
      ],
      "text/plain": [
       "                                                                                                                                                                                                                                                                                                                                                                                                                                                                                                                                                                                                                                                 text  \\\n",
       "0                                                                                                                                                                                                                                                                                                                                                                           Explanation\\nWhy the edits made under my username Hardcore Metallica Fan were reverted? They weren't vandalisms, just closure on some GAs after I voted at New York Dolls FAC. And please don't remove the template from the talk page since I'm retired now.89.205.38.27   \n",
       "1                                                                                                                                                                                                                                                                                                                                                                                                                                                                                                                                    D'aww! He matches this background colour I'm seemingly stuck with. Thanks.  (talk) 21:51, January 11, 2016 (UTC)   \n",
       "2                                                                                                                                                                                                                                                                                                                                                                                                           Hey man, I'm really not trying to edit war. It's just that this guy is constantly removing relevant information and talking to me through edits instead of my talk page. He seems to care more about the formatting than the actual info.   \n",
       "3  \"\\nMore\\nI can't make any real suggestions on improvement - I wondered if the section statistics should be later on, or a subsection of \"\"types of accidents\"\"  -I think the references may need tidying so that they are all in the exact same format ie date format etc. I can do that later on, if no-one else does first - if you have any preferences for formatting style on references or want to do it yourself please let me know.\\n\\nThere appears to be a backlog on articles for review so I guess there may be a delay until a reviewer turns up. It's listed in the relevant form eg Wikipedia:Good_article_nominations#Transport  \"   \n",
       "4                                                                                                                                                                                                                                                                                                                                                                                                                                                                                                                                                                                 You, sir, are my hero. Any chance you remember what page that's on?   \n",
       "\n",
       "   toxic  \n",
       "0      0  \n",
       "1      0  \n",
       "2      0  \n",
       "3      0  \n",
       "4      0  "
      ]
     },
     "execution_count": 4,
     "metadata": {},
     "output_type": "execute_result"
    }
   ],
   "source": [
    "data = data.drop('Unnamed: 0', axis=1)\n",
    "data.head()"
   ]
  },
  {
   "cell_type": "markdown",
   "id": "8e0e0a7e-e864-4ae9-b300-5b760bf9e1de",
   "metadata": {},
   "source": [
    "Проверим типы даннх, пропуски и дубликаты"
   ]
  },
  {
   "cell_type": "code",
   "execution_count": 5,
   "id": "aa59c92a-b595-47b6-81a6-dfa0b08e3284",
   "metadata": {},
   "outputs": [
    {
     "name": "stdout",
     "output_type": "stream",
     "text": [
      "<class 'pandas.core.frame.DataFrame'>\n",
      "RangeIndex: 159292 entries, 0 to 159291\n",
      "Data columns (total 2 columns):\n",
      " #   Column  Non-Null Count   Dtype \n",
      "---  ------  --------------   ----- \n",
      " 0   text    159292 non-null  object\n",
      " 1   toxic   159292 non-null  int64 \n",
      "dtypes: int64(1), object(1)\n",
      "memory usage: 2.4+ MB\n"
     ]
    }
   ],
   "source": [
    "data.info()"
   ]
  },
  {
   "cell_type": "code",
   "execution_count": 6,
   "id": "118cd903-8c5b-4b27-86d5-f1e2148e814d",
   "metadata": {},
   "outputs": [
    {
     "name": "stdout",
     "output_type": "stream",
     "text": [
      "Число дубликатов в данных: 0\n"
     ]
    }
   ],
   "source": [
    "print(f'Число дубликатов в данных: {data.duplicated().sum()}')"
   ]
  },
  {
   "cell_type": "markdown",
   "id": "c50d8afa-ac81-4ade-9d58-217750dd176d",
   "metadata": {},
   "source": [
    "Пропусков и дубликатов в данных нет типы данных соответствуют значениям в столбцах. Посмотрим на респределение наших классов."
   ]
  },
  {
   "cell_type": "code",
   "execution_count": 7,
   "id": "a1135b1b-ed7d-4033-bdfb-ae2743a2ce84",
   "metadata": {},
   "outputs": [
    {
     "data": {
      "text/plain": [
       "toxic\n",
       "0    143106\n",
       "1     16186\n",
       "dtype: int64"
      ]
     },
     "execution_count": 7,
     "metadata": {},
     "output_type": "execute_result"
    }
   ],
   "source": [
    "data.value_counts('toxic')"
   ]
  },
  {
   "cell_type": "markdown",
   "id": "668c698d-43e3-495b-9e32-62c7f71cd1a8",
   "metadata": {},
   "source": [
    "Классы не сбалансированны, поэтому лучше всего ипользовать метрику f1, так как она это учитывает. Можно переходить к предобработке данных. Создадим функцию которая делает лемматизацию текстов. И создадим корпус текстов."
   ]
  },
  {
   "cell_type": "markdown",
   "id": "a070c059-51ef-4c80-8cba-d86781efd2ea",
   "metadata": {},
   "source": [
    "## Предобработка данных"
   ]
  },
  {
   "cell_type": "code",
   "execution_count": 10,
   "id": "01452ed1-c806-4e16-aa4a-ca80d04173f2",
   "metadata": {},
   "outputs": [
    {
     "data": {
      "application/vnd.jupyter.widget-view+json": {
       "model_id": "2e229f9214b44ed680505d7eaed5c045",
       "version_major": 2,
       "version_minor": 0
      },
      "text/plain": [
       "  0%|          | 0/159292 [00:00<?, ?it/s]"
      ]
     },
     "metadata": {},
     "output_type": "display_data"
    },
    {
     "data": {
      "text/plain": [
       "'explanation edit username hardcore metallica fan revert weren vandalism closure gas vote new york doll fac don remove template talk page retire'"
      ]
     },
     "execution_count": 10,
     "metadata": {},
     "output_type": "execute_result"
    }
   ],
   "source": [
    "def words_only(text):\n",
    "    return ' '.join(re.sub(r'[^a-zA-Z]', ' ', text.lower()).split())\n",
    "\n",
    "\n",
    "def lemmatize_text(text, nlp):\n",
    "    return [token.lemma_ for token in nlp(text)]\n",
    "\n",
    "\n",
    "def remove_stopwords(text, stopwords):\n",
    "    return [word for word in text if not word in stopwords and len(word) > 1]\n",
    "\n",
    "\n",
    "def clean_text(text, nlp, stopwords):\n",
    "\n",
    "    text_words = words_only(text)\n",
    "    \n",
    "    text_lemmas = lemmatize_text(text_words, nlp)\n",
    "    \n",
    "    return ' '.join(remove_stopwords(text_lemmas, stopwords))\n",
    "\n",
    "\n",
    "nlp = spacy.load('en_core_web_sm', disable=['parser', 'ner'])\n",
    "\n",
    "corpus = []\n",
    "\n",
    "for i in tqdm(range(len(data))):\n",
    "    corpus.append(clean_text(data['text'][i], nlp, stop_words))\n",
    "    \n",
    "corpus[0]"
   ]
  },
  {
   "cell_type": "code",
   "execution_count": 12,
   "id": "d6ff853f-f753-4e3a-94e1-ba97efb13f90",
   "metadata": {},
   "outputs": [
    {
     "data": {
      "text/plain": [
       "74250     stop delete image consult quadell need stop delete image consulting person post bad behavior cease desist think problem discuss person involve don matter hand action disrespect people angry ledastray\n",
       "101310                                                                                      controversial material kind unsourced poorly source remove immediately especially potentially libelous blp rule apply\n",
       "147342                                                 image source info hi clear cat ns come image image eichmann trial glass box jpg upload possible provide source info win delete csd later date sorry bother\n",
       "90758                                                             extra stuff reduce article size fourth item series request vote section ready aren need address area discuss vote thing unnecessary fluff bloat\n",
       "127220                                                                                                                                                          lol look silly grow look like green edward norton\n",
       "dtype: object"
      ]
     },
     "execution_count": 12,
     "metadata": {},
     "output_type": "execute_result"
    }
   ],
   "source": [
    "corpus = pd.Series(corpus)\n",
    "\n",
    "X_train, X_test, y_train, y_test = train_test_split(corpus,\n",
    "                                                    data['toxic'],\n",
    "                                                    test_size=0.1,\n",
    "                                                    random_state=RANDOM_STATE)\n",
    "\n",
    "X_train.head()"
   ]
  },
  {
   "cell_type": "markdown",
   "id": "0b6cfce0-4984-4d10-b48e-4abb8c06a799",
   "metadata": {},
   "source": [
    "### Вывод по предобработке данных\n",
    "Данные лематизированны, можно переходить к созданию пайплайнов и проверке моделей на кросс-валидации. Векторизцию встрим уже в пайплайн. "
   ]
  },
  {
   "cell_type": "markdown",
   "id": "6fa9198a-5510-456f-a850-8658527a30ec",
   "metadata": {},
   "source": [
    "## Кросс-валидация"
   ]
  },
  {
   "cell_type": "markdown",
   "id": "aeead1db-2c9c-4ff8-bb62-ee9c04ad0b71",
   "metadata": {},
   "source": [
    "### LogisticRegression"
   ]
  },
  {
   "cell_type": "code",
   "execution_count": 13,
   "id": "cec78743-384b-48a4-b397-dcce330b80d6",
   "metadata": {},
   "outputs": [],
   "source": [
    "cv_params = {'scoring': 'f1',\n",
    "             'return_train_score': True,\n",
    "             'cv': 5}\n"
   ]
  },
  {
   "cell_type": "code",
   "execution_count": 14,
   "id": "e6ed9735-a17f-4c55-97e1-80414e154fd5",
   "metadata": {},
   "outputs": [
    {
     "name": "stdout",
     "output_type": "stream",
     "text": [
      "Лучшая метрика f1 на кросс-валидации : 0.78\n",
      "Параметры лучшей модели: Pipeline(steps=[('vectorizer',\n",
      "                 TfidfVectorizer(min_df=1e-05, ngram_range=(1, 2))),\n",
      "                ('model',\n",
      "                 LogisticRegression(C=10, class_weight='balanced', max_iter=500,\n",
      "                                    random_state=42))])\n",
      "Wall time: 3min 30s\n"
     ]
    }
   ],
   "source": [
    "%%time\n",
    "pipe = Pipeline([('vectorizer', TfidfVectorizer(min_df=1e-5)),\n",
    "                 ('model', LogisticRegression(class_weight='balanced', \n",
    "                                            random_state=RANDOM_STATE, \n",
    "                                            max_iter=500))\n",
    "                ])\n",
    "params_grid = [\n",
    "    {\n",
    "        'vectorizer__ngram_range' : [(1, 1), (1, 2)],\n",
    "        'model__C' : [0.1, 1, 10]\n",
    "    },\n",
    "]\n",
    "\n",
    "gs_linear = GridSearchCV(\n",
    "    pipe,\n",
    "    params_grid,\n",
    "    **cv_params,\n",
    "    n_jobs=-1\n",
    ")\n",
    "\n",
    "gs_linear.fit(X_train, y_train)\n",
    "print(f'Лучшая метрика f1 на кросс-валидации : {round(gs_linear.best_score_, 2)}')\n",
    "print(f'Параметры лучшей модели: {gs_linear.best_estimator_}')"
   ]
  },
  {
   "cell_type": "code",
   "execution_count": 15,
   "id": "69a6be3b-2883-4ab3-b8a8-4f3f7361f18f",
   "metadata": {},
   "outputs": [
    {
     "data": {
      "text/html": [
       "<div>\n",
       "<style scoped>\n",
       "    .dataframe tbody tr th:only-of-type {\n",
       "        vertical-align: middle;\n",
       "    }\n",
       "\n",
       "    .dataframe tbody tr th {\n",
       "        vertical-align: top;\n",
       "    }\n",
       "\n",
       "    .dataframe thead th {\n",
       "        text-align: right;\n",
       "    }\n",
       "</style>\n",
       "<table border=\"1\" class=\"dataframe\">\n",
       "  <thead>\n",
       "    <tr style=\"text-align: right;\">\n",
       "      <th></th>\n",
       "      <th>params</th>\n",
       "      <th>mean_test_score</th>\n",
       "      <th>rank_test_score</th>\n",
       "      <th>mean_fit_time</th>\n",
       "      <th>mean_score_time</th>\n",
       "    </tr>\n",
       "  </thead>\n",
       "  <tbody>\n",
       "    <tr>\n",
       "      <th>5</th>\n",
       "      <td>{'model__C': 10, 'vectorizer__ngram_range': (1, 2)}</td>\n",
       "      <td>0.783833</td>\n",
       "      <td>1</td>\n",
       "      <td>80.432687</td>\n",
       "      <td>2.710648</td>\n",
       "    </tr>\n",
       "    <tr>\n",
       "      <th>3</th>\n",
       "      <td>{'model__C': 1, 'vectorizer__ngram_range': (1, 2)}</td>\n",
       "      <td>0.757134</td>\n",
       "      <td>2</td>\n",
       "      <td>56.840622</td>\n",
       "      <td>4.326958</td>\n",
       "    </tr>\n",
       "    <tr>\n",
       "      <th>4</th>\n",
       "      <td>{'model__C': 10, 'vectorizer__ngram_range': (1, 1)}</td>\n",
       "      <td>0.754550</td>\n",
       "      <td>3</td>\n",
       "      <td>21.645838</td>\n",
       "      <td>1.442180</td>\n",
       "    </tr>\n",
       "    <tr>\n",
       "      <th>2</th>\n",
       "      <td>{'model__C': 1, 'vectorizer__ngram_range': (1, 1)}</td>\n",
       "      <td>0.749696</td>\n",
       "      <td>4</td>\n",
       "      <td>10.024528</td>\n",
       "      <td>1.713953</td>\n",
       "    </tr>\n",
       "    <tr>\n",
       "      <th>0</th>\n",
       "      <td>{'model__C': 0.1, 'vectorizer__ngram_range': (1, 1)}</td>\n",
       "      <td>0.716991</td>\n",
       "      <td>5</td>\n",
       "      <td>8.078571</td>\n",
       "      <td>1.452796</td>\n",
       "    </tr>\n",
       "  </tbody>\n",
       "</table>\n",
       "</div>"
      ],
      "text/plain": [
       "                                                 params  mean_test_score  \\\n",
       "5   {'model__C': 10, 'vectorizer__ngram_range': (1, 2)}         0.783833   \n",
       "3    {'model__C': 1, 'vectorizer__ngram_range': (1, 2)}         0.757134   \n",
       "4   {'model__C': 10, 'vectorizer__ngram_range': (1, 1)}         0.754550   \n",
       "2    {'model__C': 1, 'vectorizer__ngram_range': (1, 1)}         0.749696   \n",
       "0  {'model__C': 0.1, 'vectorizer__ngram_range': (1, 1)}         0.716991   \n",
       "\n",
       "   rank_test_score  mean_fit_time  mean_score_time  \n",
       "5                1      80.432687         2.710648  \n",
       "3                2      56.840622         4.326958  \n",
       "4                3      21.645838         1.442180  \n",
       "2                4      10.024528         1.713953  \n",
       "0                5       8.078571         1.452796  "
      ]
     },
     "execution_count": 15,
     "metadata": {},
     "output_type": "execute_result"
    }
   ],
   "source": [
    "linear_model_info = (\n",
    "    pd.DataFrame(gs_linear.cv_results_)\n",
    "    [[\n",
    "        'params', \n",
    "        'mean_test_score',\n",
    "        'rank_test_score',\n",
    "        'mean_fit_time', \n",
    "        'mean_score_time'\n",
    "    ]]\n",
    "    .sort_values(by='mean_test_score', ascending=False)\n",
    ")\n",
    "\n",
    "linear_model_info.head()"
   ]
  },
  {
   "cell_type": "markdown",
   "id": "ddecc231-b8f5-4dd9-be8b-11c65f1ad1d8",
   "metadata": {},
   "source": [
    "### LGBMClassifier"
   ]
  },
  {
   "cell_type": "code",
   "execution_count": 16,
   "id": "7d83da57-faa9-4764-af7c-0080a31a8189",
   "metadata": {},
   "outputs": [
    {
     "name": "stdout",
     "output_type": "stream",
     "text": [
      "Лучшая метрика f1 на кросс-валидации : 0.75\n",
      "Параметры лучшей моделиPipeline(steps=[('vectorizer', TfidfVectorizer(min_df=1e-05)),\n",
      "                ('model',\n",
      "                 LGBMClassifier(n_estimators=300, num_leaves=12,\n",
      "                                random_state=42))])\n",
      "Wall time: 10min 36s\n"
     ]
    }
   ],
   "source": [
    "%%time\n",
    "pipe = Pipeline([\n",
    "    ('vectorizer', TfidfVectorizer(min_df=1e-5)),\n",
    "    ('model', LGBMClassifier(random_state=RANDOM_STATE))\n",
    "])\n",
    "\n",
    "params_grid = {\n",
    "    'model__n_estimators': [50, 100, 200, 300],\n",
    "    'model__num_leaves': [2, 5, 7, 12]\n",
    "}\n",
    "\n",
    "gs_lgbm = GridSearchCV(\n",
    "    pipe,\n",
    "    params_grid,\n",
    "    **cv_params,\n",
    "    n_jobs=-1\n",
    ")\n",
    "gs_lgbm.fit(X_train, y_train)\n",
    "print(f'Лучшая метрика f1 на кросс-валидации : {round(gs_lgbm.best_score_, 2)}')\n",
    "print(f'Параметры лучшей модели{gs_lgbm.best_estimator_}')"
   ]
  },
  {
   "cell_type": "code",
   "execution_count": 17,
   "id": "339f580e-34ad-4cba-a2cc-620fe8dd02fd",
   "metadata": {},
   "outputs": [
    {
     "data": {
      "text/html": [
       "<div>\n",
       "<style scoped>\n",
       "    .dataframe tbody tr th:only-of-type {\n",
       "        vertical-align: middle;\n",
       "    }\n",
       "\n",
       "    .dataframe tbody tr th {\n",
       "        vertical-align: top;\n",
       "    }\n",
       "\n",
       "    .dataframe thead th {\n",
       "        text-align: right;\n",
       "    }\n",
       "</style>\n",
       "<table border=\"1\" class=\"dataframe\">\n",
       "  <thead>\n",
       "    <tr style=\"text-align: right;\">\n",
       "      <th></th>\n",
       "      <th>params</th>\n",
       "      <th>mean_test_score</th>\n",
       "      <th>rank_test_score</th>\n",
       "      <th>mean_fit_time</th>\n",
       "      <th>mean_score_time</th>\n",
       "    </tr>\n",
       "  </thead>\n",
       "  <tbody>\n",
       "    <tr>\n",
       "      <th>15</th>\n",
       "      <td>{'model__n_estimators': 300, 'model__num_leaves': 12}</td>\n",
       "      <td>0.751698</td>\n",
       "      <td>1</td>\n",
       "      <td>121.483588</td>\n",
       "      <td>1.582279</td>\n",
       "    </tr>\n",
       "    <tr>\n",
       "      <th>11</th>\n",
       "      <td>{'model__n_estimators': 200, 'model__num_leaves': 12}</td>\n",
       "      <td>0.737137</td>\n",
       "      <td>2</td>\n",
       "      <td>113.975555</td>\n",
       "      <td>1.992502</td>\n",
       "    </tr>\n",
       "    <tr>\n",
       "      <th>14</th>\n",
       "      <td>{'model__n_estimators': 300, 'model__num_leaves': 7}</td>\n",
       "      <td>0.725694</td>\n",
       "      <td>3</td>\n",
       "      <td>123.587897</td>\n",
       "      <td>1.917860</td>\n",
       "    </tr>\n",
       "    <tr>\n",
       "      <th>10</th>\n",
       "      <td>{'model__n_estimators': 200, 'model__num_leaves': 7}</td>\n",
       "      <td>0.701447</td>\n",
       "      <td>4</td>\n",
       "      <td>88.266450</td>\n",
       "      <td>2.022047</td>\n",
       "    </tr>\n",
       "    <tr>\n",
       "      <th>13</th>\n",
       "      <td>{'model__n_estimators': 300, 'model__num_leaves': 5}</td>\n",
       "      <td>0.700884</td>\n",
       "      <td>5</td>\n",
       "      <td>100.518000</td>\n",
       "      <td>2.147936</td>\n",
       "    </tr>\n",
       "  </tbody>\n",
       "</table>\n",
       "</div>"
      ],
      "text/plain": [
       "                                                   params  mean_test_score  \\\n",
       "15  {'model__n_estimators': 300, 'model__num_leaves': 12}         0.751698   \n",
       "11  {'model__n_estimators': 200, 'model__num_leaves': 12}         0.737137   \n",
       "14   {'model__n_estimators': 300, 'model__num_leaves': 7}         0.725694   \n",
       "10   {'model__n_estimators': 200, 'model__num_leaves': 7}         0.701447   \n",
       "13   {'model__n_estimators': 300, 'model__num_leaves': 5}         0.700884   \n",
       "\n",
       "    rank_test_score  mean_fit_time  mean_score_time  \n",
       "15                1     121.483588         1.582279  \n",
       "11                2     113.975555         1.992502  \n",
       "14                3     123.587897         1.917860  \n",
       "10                4      88.266450         2.022047  \n",
       "13                5     100.518000         2.147936  "
      ]
     },
     "execution_count": 17,
     "metadata": {},
     "output_type": "execute_result"
    }
   ],
   "source": [
    "boosting_model_info = (\n",
    "    pd.DataFrame(gs_lgbm.cv_results_)\n",
    "    [[\n",
    "        'params',\n",
    "        'mean_test_score',\n",
    "        'rank_test_score',\n",
    "        'mean_fit_time',\n",
    "        'mean_score_time'\n",
    "     ]]\n",
    "    .sort_values(by='mean_test_score', ascending=False)\n",
    ")\n",
    "\n",
    "boosting_model_info.head()"
   ]
  },
  {
   "cell_type": "markdown",
   "id": "e007dc36-a737-4f60-91fa-20b5f17d5c4a",
   "metadata": {},
   "source": [
    "#### Вывод по кросс-валидации\n",
    "\n",
    "Лучшей моелью на этапе кросс-валидации оказалась модель логистической регрессии. Ее точность даже выше чем у модели градиентного бустинга. Можно проверить результат ее работы на тестовой выборке."
   ]
  },
  {
   "cell_type": "markdown",
   "id": "b843943a-e0c6-44e9-bf7e-a1cd233025e5",
   "metadata": {},
   "source": [
    "## Проверка модели на тестовых данных"
   ]
  },
  {
   "cell_type": "code",
   "execution_count": 18,
   "id": "33e604a7-002a-4a7b-9e9b-ce01d546fc37",
   "metadata": {},
   "outputs": [
    {
     "name": "stdout",
     "output_type": "stream",
     "text": [
      "Метрика f1 на тестовой выборке равна: 0.8\n"
     ]
    }
   ],
   "source": [
    "model = gs_linear.best_estimator_.fit(X_train, y_train)\n",
    "predictions = model.predict(X_test)\n",
    "f1_linear = f1_score(y_test, predictions)\n",
    "print(f'Метрика f1 на тестовой выборке равна: {round(f1_linear, 2)}')"
   ]
  },
  {
   "cell_type": "markdown",
   "id": "b64979ba-6ff7-444b-a1b7-0231c8729b13",
   "metadata": {},
   "source": [
    "Отлично метрика даже не упала и она соответствует условию задачи. Модель работает достаточно точно."
   ]
  },
  {
   "cell_type": "code",
   "execution_count": 19,
   "id": "9c664b88-35b5-4f30-ad40-fe008e10d5fa",
   "metadata": {},
   "outputs": [
    {
     "data": {
      "image/png": "[encoded data removed]",
      "text/plain": [
       "<Figure size 1080x576 with 2 Axes>"
      ]
     },
     "metadata": {},
     "output_type": "display_data"
    }
   ],
   "source": [
    "cm = confusion_matrix(y_test, predictions)\n",
    "sns.set()\n",
    "plt.figure(figsize=(15,8))\n",
    "sns.heatmap(cm, annot=True, fmt='d', cmap='GnBu')\n",
    "plt.ylabel('Истинное значение')\n",
    "plt.xlabel('Предсказание');"
   ]
  },
  {
   "cell_type": "markdown",
   "id": "b39f3d25-fa13-4b0c-979f-8410dccf7ef7",
   "metadata": {},
   "source": [
    "Модель лучше предсказывает нетокстичные комментарии, но с пердсказанием токсичных она тоже справляется неплохо, учитывая, что их в разы меньше. Модель совершает ошибку первого и второго рода в примерно одинаковое количество раз."
   ]
  },
  {
   "cell_type": "markdown",
   "id": "d8170a84-cf1e-407e-a63e-40d0cf0d41f5",
   "metadata": {},
   "source": [
    "## Вывод по проделанной работе\n",
    "\n",
    "1. Были предоставлены данные достаточно высокого качества, в них небыло дубликатов и пропусков, на этапе EDA был удален только ненужный столбец, который скорее всего попал в данные случайно.\n",
    "\n",
    "2. На этапе предобработки данных комментарии были лемматизированны, векторизация данных прводится на этапе кросс валидации, чтобы при помощи пайплайна подобрать лучший размер n-грамм.\n",
    "\n",
    "3. На этапе кросс-валидации была проверена моель LogisticRegression и LGBMClassifier, для них при помощи GridSearchCV подбирались лучшие гиперпараметры. По результатам кросс валидации была выбрана лучшая модель ей оказалась моель логисической регрессии.\n",
    "\n",
    "4. На этапе проверки модели на тестовых данных моедль была протестированна на тестовом наборе, ее метрика f1 удовлетворяет условию задачи и не спадает с этапа кросс-валидации. Изучена матрица ошибок лучшей модели, модель совершает ошибку первого и вторго рода примерно в одинаковом количестве случаев."
   ]
  }
 ],
 "metadata": {
  "kernelspec": {
   "display_name": "Python 3 (ipykernel)",
   "language": "python",
   "name": "python3"
  },
  "language_info": {
   "codemirror_mode": {
    "name": "ipython",
    "version": 3
   },
   "file_extension": ".py",
   "mimetype": "text/x-python",
   "name": "python",
   "nbconvert_exporter": "python",
   "pygments_lexer": "ipython3",
   "version": "3.9.5"
  },
  "toc": {
   "base_numbering": 1,
   "nav_menu": {},
   "number_sections": true,
   "sideBar": true,
   "skip_h1_title": true,
   "title_cell": "Table of Contents",
   "title_sidebar": "Contents",
   "toc_cell": false,
   "toc_position": {},
   "toc_section_display": true,
   "toc_window_display": false
  }
 },
 "nbformat": 4,
 "nbformat_minor": 5
}
